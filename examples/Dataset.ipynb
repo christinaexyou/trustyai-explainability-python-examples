{
 "cells": [
  {
   "cell_type": "code",
   "execution_count": 1,
   "id": "8257c146",
   "metadata": {},
   "outputs": [],
   "source": [
    "import trustyai\n",
    "\n",
    "trustyai.init()"
   ]
  },
  {
   "cell_type": "code",
   "execution_count": 2,
   "id": "42fb246a",
   "metadata": {},
   "outputs": [],
   "source": [
    "import numpy as np\n",
    "import pandas as pd\n",
    "import uuid"
   ]
  },
  {
   "cell_type": "markdown",
   "id": "74804df9",
   "metadata": {},
   "source": [
    "# From Pandas dataframes"
   ]
  },
  {
   "cell_type": "code",
   "execution_count": 3,
   "id": "f397a0f6",
   "metadata": {},
   "outputs": [],
   "source": [
    "data = {\n",
    "        'x1': np.random.uniform(low=100, high=200, size=100),\n",
    "        'x2': np.random.uniform(low=5000, high=10000, size=100),\n",
    "        'x3': [str(uuid.uuid4()) for _ in range(100)],\n",
    "        'x4': np.random.randint(low=0, high=42, size=100),\n",
    "        'select': np.random.choice(a=[False, True], size=100)\n",
    "}\n",
    "df = pd.DataFrame(data=data)"
   ]
  },
  {
   "cell_type": "code",
   "execution_count": 4,
   "id": "d006a1ec",
   "metadata": {},
   "outputs": [
    {
     "data": {
      "text/html": [
       "<div>\n",
       "<style scoped>\n",
       "    .dataframe tbody tr th:only-of-type {\n",
       "        vertical-align: middle;\n",
       "    }\n",
       "\n",
       "    .dataframe tbody tr th {\n",
       "        vertical-align: top;\n",
       "    }\n",
       "\n",
       "    .dataframe thead th {\n",
       "        text-align: right;\n",
       "    }\n",
       "</style>\n",
       "<table border=\"1\" class=\"dataframe\">\n",
       "  <thead>\n",
       "    <tr style=\"text-align: right;\">\n",
       "      <th></th>\n",
       "      <th>x1</th>\n",
       "      <th>x2</th>\n",
       "      <th>x3</th>\n",
       "      <th>x4</th>\n",
       "      <th>select</th>\n",
       "    </tr>\n",
       "  </thead>\n",
       "  <tbody>\n",
       "    <tr>\n",
       "      <th>0</th>\n",
       "      <td>180.336944</td>\n",
       "      <td>8511.929428</td>\n",
       "      <td>9c86c184-c012-40e6-9717-92fac3ded6b4</td>\n",
       "      <td>3</td>\n",
       "      <td>True</td>\n",
       "    </tr>\n",
       "    <tr>\n",
       "      <th>1</th>\n",
       "      <td>180.724603</td>\n",
       "      <td>7829.770876</td>\n",
       "      <td>32457b8c-5961-4d4a-8df4-9a3200b8f5f5</td>\n",
       "      <td>25</td>\n",
       "      <td>False</td>\n",
       "    </tr>\n",
       "    <tr>\n",
       "      <th>2</th>\n",
       "      <td>195.642489</td>\n",
       "      <td>9968.139201</td>\n",
       "      <td>d2c00720-cc19-440a-8307-822baca41d6b</td>\n",
       "      <td>8</td>\n",
       "      <td>True</td>\n",
       "    </tr>\n",
       "    <tr>\n",
       "      <th>3</th>\n",
       "      <td>143.899402</td>\n",
       "      <td>8825.876406</td>\n",
       "      <td>595ddbd0-95be-4614-95c5-61bee3e1709f</td>\n",
       "      <td>20</td>\n",
       "      <td>False</td>\n",
       "    </tr>\n",
       "    <tr>\n",
       "      <th>4</th>\n",
       "      <td>168.713244</td>\n",
       "      <td>7360.258384</td>\n",
       "      <td>54d6e7ab-5f63-475b-a478-76629212bc84</td>\n",
       "      <td>31</td>\n",
       "      <td>False</td>\n",
       "    </tr>\n",
       "  </tbody>\n",
       "</table>\n",
       "</div>"
      ],
      "text/plain": [
       "           x1           x2                                    x3  x4  select\n",
       "0  180.336944  8511.929428  9c86c184-c012-40e6-9717-92fac3ded6b4   3    True\n",
       "1  180.724603  7829.770876  32457b8c-5961-4d4a-8df4-9a3200b8f5f5  25   False\n",
       "2  195.642489  9968.139201  d2c00720-cc19-440a-8307-822baca41d6b   8    True\n",
       "3  143.899402  8825.876406  595ddbd0-95be-4614-95c5-61bee3e1709f  20   False\n",
       "4  168.713244  7360.258384  54d6e7ab-5f63-475b-a478-76629212bc84  31   False"
      ]
     },
     "execution_count": 4,
     "metadata": {},
     "output_type": "execute_result"
    }
   ],
   "source": [
    "df.head()"
   ]
  },
  {
   "cell_type": "markdown",
   "id": "1cb1dd68",
   "metadata": {},
   "source": [
    "If no columns are specified as outputs, but default the right-most column (in this case, `select`) will be considered the output."
   ]
  },
  {
   "cell_type": "code",
   "execution_count": 5,
   "id": "aa85f547",
   "metadata": {},
   "outputs": [],
   "source": [
    "from trustyai.model import Dataset\n",
    "\n",
    "ds = Dataset.from_df(df)"
   ]
  },
  {
   "cell_type": "code",
   "execution_count": 7,
   "id": "511928df",
   "metadata": {},
   "outputs": [
    {
     "data": {
      "text/plain": [
       "100"
      ]
     },
     "execution_count": 7,
     "metadata": {},
     "output_type": "execute_result"
    }
   ],
   "source": [
    "len(ds.inputs)"
   ]
  },
  {
   "cell_type": "code",
   "execution_count": 10,
   "id": "4f7ef783",
   "metadata": {},
   "outputs": [
    {
     "name": "stdout",
     "output_type": "stream",
     "text": [
      "[Feature{name='x1', type=number, value=180.33694409031028}, Feature{name='x2', type=number, value=8511.929427809619}, Feature{name='x3', type=categorical, value=9c86c184-c012-40e6-9717-92fac3ded6b4}, Feature{name='x4', type=number, value=3}]\n"
     ]
    }
   ],
   "source": [
    "print(ds.inputs[0].features)"
   ]
  },
  {
   "cell_type": "code",
   "execution_count": 11,
   "id": "390687cb",
   "metadata": {},
   "outputs": [
    {
     "data": {
      "text/plain": [
       "100"
      ]
     },
     "execution_count": 11,
     "metadata": {},
     "output_type": "execute_result"
    }
   ],
   "source": [
    "len(ds.outputs)"
   ]
  },
  {
   "cell_type": "code",
   "execution_count": 14,
   "id": "9e01dbbd",
   "metadata": {},
   "outputs": [
    {
     "name": "stdout",
     "output_type": "stream",
     "text": [
      "[Output{value=true, type=boolean, score=1.0, name='select'}]\n"
     ]
    }
   ],
   "source": [
    "print(ds.outputs[0].outputs)"
   ]
  },
  {
   "cell_type": "markdown",
   "id": "223645d4",
   "metadata": {},
   "source": [
    "We can specify the outputs explicitly, though:"
   ]
  },
  {
   "cell_type": "code",
   "execution_count": 15,
   "id": "e01f0eb4",
   "metadata": {},
   "outputs": [],
   "source": [
    "ds = Dataset.from_df(df, outputs=['x1', 'x4'])"
   ]
  },
  {
   "cell_type": "code",
   "execution_count": 16,
   "id": "55953f34",
   "metadata": {},
   "outputs": [
    {
     "name": "stdout",
     "output_type": "stream",
     "text": [
      "[Feature{name='x2', type=number, value=8511.929427809619}, Feature{name='x3', type=categorical, value=9c86c184-c012-40e6-9717-92fac3ded6b4}, Feature{name='select', type=boolean, value=true}]\n"
     ]
    }
   ],
   "source": [
    "print(ds.inputs[0].features)"
   ]
  },
  {
   "cell_type": "code",
   "execution_count": 17,
   "id": "3a383771",
   "metadata": {},
   "outputs": [
    {
     "name": "stdout",
     "output_type": "stream",
     "text": [
      "[Output{value=180.33694409031028, type=number, score=1.0, name='x1'}, Output{value=3.0, type=number, score=1.0, name='x4'}]\n"
     ]
    }
   ],
   "source": [
    "print(ds.outputs[0].outputs)"
   ]
  },
  {
   "cell_type": "markdown",
   "id": "48fa532e",
   "metadata": {},
   "source": [
    "# From NumPy arrays"
   ]
  },
  {
   "cell_type": "code",
   "execution_count": 18,
   "id": "fab27b3c",
   "metadata": {},
   "outputs": [],
   "source": [
    "a = np.random.rand(100, 5)"
   ]
  },
  {
   "cell_type": "code",
   "execution_count": 22,
   "id": "fc53d9e1",
   "metadata": {},
   "outputs": [
    {
     "data": {
      "text/plain": [
       "array([[0.81313543, 0.37821429, 0.4235171 , 0.78807159, 0.1527972 ],\n",
       "       [0.41059505, 0.1648843 , 0.12184703, 0.71026358, 0.00553422],\n",
       "       [0.10407838, 0.45220526, 0.59695725, 0.56772907, 0.47156101],\n",
       "       [0.84125378, 0.72438703, 0.6229128 , 0.06957149, 0.03252913],\n",
       "       [0.07878667, 0.84110998, 0.23392872, 0.2289452 , 0.12636247],\n",
       "       [0.16572858, 0.2801995 , 0.80852809, 0.33663819, 0.54473071],\n",
       "       [0.40406926, 0.11531692, 0.38698205, 0.98688443, 0.10406886],\n",
       "       [0.71084015, 0.43907801, 0.80731234, 0.94003446, 0.04215634],\n",
       "       [0.30937055, 0.63099723, 0.05406696, 0.54085895, 0.47094727],\n",
       "       [0.30250937, 0.60704153, 0.21670629, 0.31568341, 0.65088001]])"
      ]
     },
     "execution_count": 22,
     "metadata": {},
     "output_type": "execute_result"
    }
   ],
   "source": [
    "a[0:10, :]"
   ]
  },
  {
   "cell_type": "code",
   "execution_count": 24,
   "id": "9657e5ff",
   "metadata": {},
   "outputs": [],
   "source": [
    "ds = Dataset.from_numpy(a)"
   ]
  },
  {
   "cell_type": "code",
   "execution_count": 25,
   "id": "570de873",
   "metadata": {},
   "outputs": [
    {
     "data": {
      "text/plain": [
       "100"
      ]
     },
     "execution_count": 25,
     "metadata": {},
     "output_type": "execute_result"
    }
   ],
   "source": [
    "len(ds.inputs)"
   ]
  },
  {
   "cell_type": "markdown",
   "id": "d029b180",
   "metadata": {},
   "source": [
    "Input and output features will be named automatically. As with dataframes, if no output is specified, the right-most column will be selected:"
   ]
  },
  {
   "cell_type": "code",
   "execution_count": 27,
   "id": "00dbf25a",
   "metadata": {},
   "outputs": [
    {
     "name": "stdout",
     "output_type": "stream",
     "text": [
      "[Feature{name='input-0', type=number, value=0.8131354304497258}, Feature{name='input-1', type=number, value=0.378214286063826}, Feature{name='input-2', type=number, value=0.4235171002244317}, Feature{name='input-3', type=number, value=0.788071585544701}]\n"
     ]
    }
   ],
   "source": [
    "print(ds.inputs[0].features)"
   ]
  },
  {
   "cell_type": "code",
   "execution_count": 28,
   "id": "8870aea1",
   "metadata": {},
   "outputs": [
    {
     "name": "stdout",
     "output_type": "stream",
     "text": [
      "[Output{value=0.1527972048889169, type=number, score=1.0, name='output-0'}]\n"
     ]
    }
   ],
   "source": [
    "print(ds.outputs[0].outputs)"
   ]
  },
  {
   "cell_type": "markdown",
   "id": "b6489a2b",
   "metadata": {},
   "source": [
    "To specify the output columns, with NumPy arrays, we use the column indices:"
   ]
  },
  {
   "cell_type": "code",
   "execution_count": 29,
   "id": "886950bb",
   "metadata": {},
   "outputs": [],
   "source": [
    "ds = Dataset.from_numpy(a, outputs=[0, 2])"
   ]
  },
  {
   "cell_type": "code",
   "execution_count": 30,
   "id": "e9501f75",
   "metadata": {},
   "outputs": [
    {
     "name": "stdout",
     "output_type": "stream",
     "text": [
      "[Feature{name='input-0', type=number, value=0.378214286063826}, Feature{name='input-1', type=number, value=0.788071585544701}, Feature{name='input-2', type=number, value=0.1527972048889169}]\n"
     ]
    }
   ],
   "source": [
    "print(ds.inputs[0].features)"
   ]
  },
  {
   "cell_type": "code",
   "execution_count": 31,
   "id": "554006d0",
   "metadata": {},
   "outputs": [
    {
     "name": "stdout",
     "output_type": "stream",
     "text": [
      "[Output{value=0.8131354304497258, type=number, score=1.0, name='output-0'}, Output{value=0.4235171002244317, type=number, score=1.0, name='output-1'}]\n"
     ]
    }
   ],
   "source": [
    "print(ds.outputs[0].outputs)"
   ]
  },
  {
   "cell_type": "code",
   "execution_count": null,
   "id": "adc0ad77",
   "metadata": {},
   "outputs": [],
   "source": []
  }
 ],
 "metadata": {
  "kernelspec": {
   "display_name": "trustyai-explainability-python-examples",
   "language": "python",
   "name": "trustyai-explainability-python-examples"
  },
  "language_info": {
   "codemirror_mode": {
    "name": "ipython",
    "version": 3
   },
   "file_extension": ".py",
   "mimetype": "text/x-python",
   "name": "python",
   "nbconvert_exporter": "python",
   "pygments_lexer": "ipython3",
   "version": "3.10.4"
  }
 },
 "nbformat": 4,
 "nbformat_minor": 5
}
