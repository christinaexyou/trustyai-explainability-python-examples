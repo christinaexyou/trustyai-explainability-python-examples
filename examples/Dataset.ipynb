{
 "cells": [
  {
   "cell_type": "code",
   "execution_count": 1,
   "metadata": {},
   "outputs": [
    {
     "name": "stdout",
     "output_type": "stream",
     "text": [
      "JVM already started\n"
     ]
    }
   ],
   "source": [
    "import trustyai\n",
    "\n",
    "trustyai.init()"
   ]
  },
  {
   "cell_type": "code",
   "execution_count": 2,
   "metadata": {},
   "outputs": [],
   "source": [
    "import numpy as np\n",
    "import pandas as pd\n",
    "import uuid"
   ]
  },
  {
   "cell_type": "markdown",
   "metadata": {},
   "source": [
    "# From Pandas dataframes"
   ]
  },
  {
   "cell_type": "code",
   "execution_count": 3,
   "metadata": {},
   "outputs": [],
   "source": [
    "data = {\n",
    "        'x1': np.random.uniform(low=100, high=200, size=100),\n",
    "        'x2': np.random.uniform(low=5000, high=10000, size=100),\n",
    "        'x3': [str(uuid.uuid4()) for _ in range(100)],\n",
    "        'x4': np.random.randint(low=0, high=42, size=100),\n",
    "        'select': np.random.choice(a=[False, True], size=100)\n",
    "}\n",
    "df = pd.DataFrame(data=data)"
   ]
  },
  {
   "cell_type": "code",
   "execution_count": 4,
   "metadata": {},
   "outputs": [
    {
     "data": {
      "text/html": [
       "<div>\n",
       "<style scoped>\n",
       "    .dataframe tbody tr th:only-of-type {\n",
       "        vertical-align: middle;\n",
       "    }\n",
       "\n",
       "    .dataframe tbody tr th {\n",
       "        vertical-align: top;\n",
       "    }\n",
       "\n",
       "    .dataframe thead th {\n",
       "        text-align: right;\n",
       "    }\n",
       "</style>\n",
       "<table border=\"1\" class=\"dataframe\">\n",
       "  <thead>\n",
       "    <tr style=\"text-align: right;\">\n",
       "      <th></th>\n",
       "      <th>x1</th>\n",
       "      <th>x2</th>\n",
       "      <th>x3</th>\n",
       "      <th>x4</th>\n",
       "      <th>select</th>\n",
       "    </tr>\n",
       "  </thead>\n",
       "  <tbody>\n",
       "    <tr>\n",
       "      <th>0</th>\n",
       "      <td>192.413302</td>\n",
       "      <td>8090.983306</td>\n",
       "      <td>75fb58d1-92bb-47e2-b8aa-b2d8ee743b5b</td>\n",
       "      <td>0</td>\n",
       "      <td>True</td>\n",
       "    </tr>\n",
       "    <tr>\n",
       "      <th>1</th>\n",
       "      <td>167.928437</td>\n",
       "      <td>6271.652751</td>\n",
       "      <td>d19338e3-d274-4e53-a1ea-aefc5bf476de</td>\n",
       "      <td>10</td>\n",
       "      <td>False</td>\n",
       "    </tr>\n",
       "    <tr>\n",
       "      <th>2</th>\n",
       "      <td>163.343285</td>\n",
       "      <td>8759.261635</td>\n",
       "      <td>3b65e7dc-4120-4946-b2aa-8bd4a1d7b7d4</td>\n",
       "      <td>7</td>\n",
       "      <td>True</td>\n",
       "    </tr>\n",
       "    <tr>\n",
       "      <th>3</th>\n",
       "      <td>199.613108</td>\n",
       "      <td>5665.047383</td>\n",
       "      <td>a84fdd81-4bae-487f-87e5-4014a4b9c22e</td>\n",
       "      <td>16</td>\n",
       "      <td>True</td>\n",
       "    </tr>\n",
       "    <tr>\n",
       "      <th>4</th>\n",
       "      <td>132.654515</td>\n",
       "      <td>9360.414304</td>\n",
       "      <td>34698397-8e53-4735-b30b-43ab6d7b62a5</td>\n",
       "      <td>19</td>\n",
       "      <td>False</td>\n",
       "    </tr>\n",
       "  </tbody>\n",
       "</table>\n",
       "</div>"
      ],
      "text/plain": [
       "           x1           x2                                    x3  x4  select\n",
       "0  192.413302  8090.983306  75fb58d1-92bb-47e2-b8aa-b2d8ee743b5b   0    True\n",
       "1  167.928437  6271.652751  d19338e3-d274-4e53-a1ea-aefc5bf476de  10   False\n",
       "2  163.343285  8759.261635  3b65e7dc-4120-4946-b2aa-8bd4a1d7b7d4   7    True\n",
       "3  199.613108  5665.047383  a84fdd81-4bae-487f-87e5-4014a4b9c22e  16    True\n",
       "4  132.654515  9360.414304  34698397-8e53-4735-b30b-43ab6d7b62a5  19   False"
      ]
     },
     "execution_count": 4,
     "metadata": {},
     "output_type": "execute_result"
    }
   ],
   "source": [
    "df.head()"
   ]
  },
  {
   "cell_type": "markdown",
   "metadata": {},
   "source": [
    "If no columns are specified as outputs, but default the right-most column (in this case, `select`) will be considered the output."
   ]
  },
  {
   "cell_type": "code",
   "execution_count": 5,
   "metadata": {},
   "outputs": [],
   "source": [
    "from trustyai.model import Dataset\n",
    "\n",
    "ds = Dataset.from_df(df)"
   ]
  },
  {
   "cell_type": "code",
   "execution_count": 6,
   "metadata": {},
   "outputs": [
    {
     "data": {
      "text/plain": [
       "100"
      ]
     },
     "execution_count": 6,
     "metadata": {},
     "output_type": "execute_result"
    }
   ],
   "source": [
    "len(ds.inputs)"
   ]
  },
  {
   "cell_type": "code",
   "execution_count": 7,
   "metadata": {},
   "outputs": [
    {
     "name": "stdout",
     "output_type": "stream",
     "text": [
      "[Feature{name='x1', type=number, value=192.41330236121394}, Feature{name='x2', type=number, value=8090.983306133694}, Feature{name='x3', type=categorical, value=75fb58d1-92bb-47e2-b8aa-b2d8ee743b5b}, Feature{name='x4', type=number, value=0}]\n"
     ]
    }
   ],
   "source": [
    "print(ds.inputs[0].features)"
   ]
  },
  {
   "cell_type": "code",
   "execution_count": 8,
   "metadata": {},
   "outputs": [
    {
     "data": {
      "text/plain": [
       "100"
      ]
     },
     "execution_count": 8,
     "metadata": {},
     "output_type": "execute_result"
    }
   ],
   "source": [
    "len(ds.outputs)"
   ]
  },
  {
   "cell_type": "code",
   "execution_count": 9,
   "metadata": {},
   "outputs": [
    {
     "name": "stdout",
     "output_type": "stream",
     "text": [
      "[Output{value=true, type=boolean, score=1.0, name='select'}]\n"
     ]
    }
   ],
   "source": [
    "print(ds.outputs[0].outputs)"
   ]
  },
  {
   "cell_type": "markdown",
   "metadata": {},
   "source": [
    "We can specify the outputs explicitly, though:"
   ]
  },
  {
   "cell_type": "code",
   "execution_count": 10,
   "metadata": {},
   "outputs": [],
   "source": [
    "ds = Dataset.from_df(df, outputs=['x1', 'x4'])"
   ]
  },
  {
   "cell_type": "code",
   "execution_count": 11,
   "metadata": {},
   "outputs": [
    {
     "name": "stdout",
     "output_type": "stream",
     "text": [
      "[Feature{name='x2', type=number, value=8090.983306133694}, Feature{name='x3', type=categorical, value=75fb58d1-92bb-47e2-b8aa-b2d8ee743b5b}, Feature{name='select', type=boolean, value=true}]\n"
     ]
    }
   ],
   "source": [
    "print(ds.inputs[0].features)"
   ]
  },
  {
   "cell_type": "code",
   "execution_count": 12,
   "metadata": {},
   "outputs": [
    {
     "name": "stdout",
     "output_type": "stream",
     "text": [
      "[Output{value=192.41330236121394, type=number, score=1.0, name='x1'}, Output{value=0.0, type=number, score=1.0, name='x4'}]\n"
     ]
    }
   ],
   "source": [
    "print(ds.outputs[0].outputs)"
   ]
  },
  {
   "cell_type": "markdown",
   "metadata": {},
   "source": [
    "# From NumPy arrays"
   ]
  },
  {
   "cell_type": "code",
   "execution_count": 13,
   "metadata": {},
   "outputs": [],
   "source": [
    "a = np.random.rand(100, 5)"
   ]
  },
  {
   "cell_type": "code",
   "execution_count": 14,
   "metadata": {},
   "outputs": [
    {
     "data": {
      "text/plain": [
       "array([[0.04229334, 0.50552788, 0.29568041, 0.85032319, 0.57693649],\n",
       "       [0.28946931, 0.34368104, 0.41614114, 0.33756295, 0.68570649],\n",
       "       [0.21141559, 0.64277735, 0.12951354, 0.5342462 , 0.87732067],\n",
       "       [0.97396276, 0.01426533, 0.23252593, 0.03908873, 0.97164902],\n",
       "       [0.13274512, 0.97182715, 0.16416289, 0.22757015, 0.31894558],\n",
       "       [0.95391329, 0.57900831, 0.9081446 , 0.11285292, 0.76943787],\n",
       "       [0.49356812, 0.08099851, 0.5367956 , 0.82392353, 0.48304461],\n",
       "       [0.58690005, 0.80255662, 0.49041435, 0.79749456, 0.21884047],\n",
       "       [0.69975546, 0.28111782, 0.79717247, 0.10067143, 0.67130933],\n",
       "       [0.3724151 , 0.33908526, 0.62070464, 0.41828346, 0.0625247 ]])"
      ]
     },
     "execution_count": 14,
     "metadata": {},
     "output_type": "execute_result"
    }
   ],
   "source": [
    "a[0:10, :]"
   ]
  },
  {
   "cell_type": "code",
   "execution_count": 15,
   "metadata": {},
   "outputs": [],
   "source": [
    "ds = Dataset.from_numpy(a)"
   ]
  },
  {
   "cell_type": "code",
   "execution_count": 16,
   "metadata": {},
   "outputs": [
    {
     "data": {
      "text/plain": [
       "100"
      ]
     },
     "execution_count": 16,
     "metadata": {},
     "output_type": "execute_result"
    }
   ],
   "source": [
    "len(ds.inputs)"
   ]
  },
  {
   "cell_type": "markdown",
   "metadata": {},
   "source": [
    "Input and output features will be named automatically. As with dataframes, if no output is specified, the right-most column will be selected:"
   ]
  },
  {
   "cell_type": "code",
   "execution_count": 17,
   "metadata": {},
   "outputs": [
    {
     "name": "stdout",
     "output_type": "stream",
     "text": [
      "[Feature{name='input-0', type=number, value=0.04229333521445078}, Feature{name='input-1', type=number, value=0.5055278848740934}, Feature{name='input-2', type=number, value=0.29568041115831967}, Feature{name='input-3', type=number, value=0.8503231909426352}]\n"
     ]
    }
   ],
   "source": [
    "print(ds.inputs[0].features)"
   ]
  },
  {
   "cell_type": "code",
   "execution_count": 18,
   "metadata": {},
   "outputs": [
    {
     "name": "stdout",
     "output_type": "stream",
     "text": [
      "[Output{value=0.5769364905115408, type=number, score=1.0, name='output-0'}]\n"
     ]
    }
   ],
   "source": [
    "print(ds.outputs[0].outputs)"
   ]
  },
  {
   "cell_type": "markdown",
   "metadata": {},
   "source": [
    "To specify the output columns, with NumPy arrays, we use the column indices:"
   ]
  },
  {
   "cell_type": "code",
   "execution_count": 19,
   "metadata": {},
   "outputs": [],
   "source": [
    "ds = Dataset.from_numpy(a, outputs=[0, 2])"
   ]
  },
  {
   "cell_type": "code",
   "execution_count": 20,
   "metadata": {},
   "outputs": [
    {
     "name": "stdout",
     "output_type": "stream",
     "text": [
      "[Feature{name='input-0', type=number, value=0.5055278848740934}, Feature{name='input-1', type=number, value=0.8503231909426352}, Feature{name='input-2', type=number, value=0.5769364905115408}]\n"
     ]
    }
   ],
   "source": [
    "print(ds.inputs[0].features)"
   ]
  },
  {
   "cell_type": "code",
   "execution_count": 21,
   "metadata": {},
   "outputs": [
    {
     "name": "stdout",
     "output_type": "stream",
     "text": [
      "[Output{value=0.04229333521445078, type=number, score=1.0, name='output-0'}, Output{value=0.29568041115831967, type=number, score=1.0, name='output-1'}]\n"
     ]
    }
   ],
   "source": [
    "print(ds.outputs[0].outputs)"
   ]
  },
  {
   "cell_type": "code",
   "execution_count": null,
   "metadata": {},
   "outputs": [],
   "source": []
  }
 ],
 "metadata": {
  "kernelspec": {
   "display_name": "Python 3 (ipykernel)",
   "language": "python",
   "name": "python3"
  },
  "language_info": {
   "codemirror_mode": {
    "name": "ipython",
    "version": 3
   },
   "file_extension": ".py",
   "mimetype": "text/x-python",
   "name": "python",
   "nbconvert_exporter": "python",
   "pygments_lexer": "ipython3",
   "version": "3.9.10"
  },
  "toc": {
   "base_numbering": 1,
   "nav_menu": {},
   "number_sections": true,
   "sideBar": true,
   "skip_h1_title": false,
   "title_cell": "Table of Contents",
   "title_sidebar": "Contents",
   "toc_cell": false,
   "toc_position": {},
   "toc_section_display": true,
   "toc_window_display": false
  }
 },
 "nbformat": 4,
 "nbformat_minor": 5
}
