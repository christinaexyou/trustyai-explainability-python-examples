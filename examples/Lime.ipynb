{
 "cells": [
  {
   "cell_type": "markdown",
   "id": "d2a08ef6",
   "metadata": {},
   "source": [
    "# LIME explanations"
   ]
  },
  {
   "cell_type": "code",
   "execution_count": 1,
   "id": "767b003e",
   "metadata": {},
   "outputs": [],
   "source": [
    "import trustyai\n",
    "\n",
    "trustyai.init()"
   ]
  },
  {
   "cell_type": "markdown",
   "id": "e194eb56",
   "metadata": {},
   "source": [
    "## Simple example\n",
    "\n",
    "We start by defining our black-box model, typically represented by\n",
    "\n",
    "$$\n",
    "f(\\mathbf{x}) = \\mathbf{y}\n",
    "$$\n",
    "\n",
    "Where $\\mathbf{x}=\\{x_1, x_2, \\dots,x_m\\}$ and $\\mathbf{y}=\\{y_1, y_2, \\dots,y_n\\}$.\n",
    "\n",
    "Our example toy model, in this case, takes an all-numerical input $\\mathbf{x}$ and return a $\\mathbf{y}$ of either `true` or `false` if the sum of the $\\mathbf{x}$ components is within a threshold $\\epsilon$ of a point $\\mathbf{C}$, that is:\n",
    "\n",
    "$$\n",
    "f(\\mathbf{x}, \\epsilon, \\mathbf{C})=\\begin{cases}\n",
    "\\text{true},\\qquad \\text{if}\\ \\mathbf{C}-\\epsilon<\\sum_{i=1}^m x_i <\\mathbf{C}+\\epsilon \\\\\n",
    "\\text{false},\\qquad \\text{otherwise}\n",
    "\\end{cases}\n",
    "$$\n",
    "\n",
    "This model is provided in the `TestUtils` module. We instantiate with a $\\mathbf{C}=500$ and $\\epsilon=1.0$."
   ]
  },
  {
   "cell_type": "code",
   "execution_count": 2,
   "id": "fd02e320",
   "metadata": {},
   "outputs": [],
   "source": [
    "from trustyai.utils import TestUtils\n",
    "\n",
    "center = 10.0\n",
    "epsilon = 2.0\n",
    "\n",
    "model = TestUtils.getSumThresholdModel(center, epsilon)"
   ]
  },
  {
   "cell_type": "markdown",
   "id": "e4a15f8b",
   "metadata": {},
   "source": [
    "Next we need to define a **goal**.\n",
    "If our model is $f(\\mathbf{x'})=\\mathbf{y'}$ we are then defining our $\\mathbf{y'}$ and the counterfactual result will be the $\\mathbf{x'}$ which satisfies $f(\\mathbf{x'})=\\mathbf{y'}$.\n",
    "\n",
    "We will define our goal as `true`, that is, the sum is withing the vicinity of a (to be defined) point $\\mathbf{C}$. The goal is a list of `Output` which take the following parameters\n",
    "\n",
    "- The feature name\n",
    "- The feature type\n",
    "- The feature value (wrapped in `Value`)\n",
    "- A confidence threshold, which we will leave at zero (no threshold)"
   ]
  },
  {
   "cell_type": "code",
   "execution_count": 3,
   "id": "bf3f4232",
   "metadata": {},
   "outputs": [],
   "source": [
    "from trustyai.model import output\n",
    "\n",
    "decision = \"inside\"\n",
    "goal = [output(name=decision, dtype=\"bool\", value=True, score=0.0)]"
   ]
  },
  {
   "cell_type": "markdown",
   "id": "64349c3e",
   "metadata": {},
   "source": [
    "We will now define our initial features, $\\mathbf{x}$. Each feature can be instantiated by using `FeatureFactory` and in this case we want to use numerical features, so we'll use `FeatureFactory.newNumericalFeature`."
   ]
  },
  {
   "cell_type": "code",
   "execution_count": 4,
   "id": "d688a7c8",
   "metadata": {},
   "outputs": [],
   "source": [
    "import random\n",
    "from trustyai.model import feature\n",
    "\n",
    "features = [feature(name=f\"x{i+1}\", dtype=\"number\", value=random.random()*10.0) for i in range(3)]"
   ]
  },
  {
   "cell_type": "markdown",
   "id": "a562ef68",
   "metadata": {},
   "source": [
    "As we can see, the sum of of the features will not be within $\\epsilon$ (1.0) of $\\mathbf{C}$ (500.0). As such the model prediction will be `false`:"
   ]
  },
  {
   "cell_type": "code",
   "execution_count": 5,
   "id": "48212d3f",
   "metadata": {},
   "outputs": [
    {
     "name": "stdout",
     "output_type": "stream",
     "text": [
      "Feature x1 has value 8.222138759717883\n",
      "Feature x2 has value 2.0555380011738897\n",
      "Feature x3 has value 8.33460482292092\n",
      "\n",
      "Features sum is 18.612281583812692\n"
     ]
    }
   ],
   "source": [
    "feature_sum = 0.0\n",
    "for f in features:\n",
    "    value = f.value.as_number()\n",
    "    print(f\"Feature {f.name} has value {value}\")\n",
    "    feature_sum += value\n",
    "print(f\"\\nFeatures sum is {feature_sum}\")"
   ]
  },
  {
   "cell_type": "markdown",
   "id": "13001554",
   "metadata": {},
   "source": [
    "We execute the model on the generated input and collect the output"
   ]
  },
  {
   "cell_type": "code",
   "execution_count": 6,
   "id": "0a45c0e0",
   "metadata": {
    "pycharm": {
     "name": "#%%\n"
    }
   },
   "outputs": [],
   "source": [
    "from org.kie.kogito.explainability.model import PredictionInput, PredictionOutput\n",
    "\n",
    "goals = model.predictAsync([PredictionInput(features)]).get()"
   ]
  },
  {
   "cell_type": "markdown",
   "id": "324cefdf",
   "metadata": {
    "pycharm": {
     "name": "#%% md\n"
    }
   },
   "source": [
    "We wrap these quantities in a `SimplePrediction`:"
   ]
  },
  {
   "cell_type": "code",
   "execution_count": 8,
   "id": "8bb2aac1",
   "metadata": {
    "pycharm": {
     "name": "#%%\n"
    }
   },
   "outputs": [],
   "source": [
    "from trustyai.model import simple_prediction\n",
    "\n",
    "\n",
    "prediction = simple_prediction(input_features=features, outputs=goals[0].outputs)"
   ]
  },
  {
   "cell_type": "markdown",
   "id": "9bb631f9",
   "metadata": {
    "pycharm": {
     "name": "#%% md\n"
    }
   },
   "source": [
    "We can now instantiate the **explainer** itself.\n"
   ]
  },
  {
   "cell_type": "code",
   "execution_count": 10,
   "id": "115fa89c",
   "metadata": {},
   "outputs": [],
   "source": [
    "from trustyai.explainers import LimeExplainer\n",
    "\n",
    "explainer = LimeExplainer(samples=10)"
   ]
  },
  {
   "cell_type": "markdown",
   "id": "7cd8b2b4",
   "metadata": {
    "pycharm": {
     "name": "#%% md\n"
    }
   },
   "source": [
    "We generate the **explanation** as a _dict : decision --> saliency_.\n"
   ]
  },
  {
   "cell_type": "code",
   "execution_count": 11,
   "id": "b34e26d7",
   "metadata": {
    "pycharm": {
     "name": "#%%\n"
    }
   },
   "outputs": [],
   "source": [
    "explanation = explainer.explain(prediction, model)"
   ]
  },
  {
   "cell_type": "markdown",
   "id": "d32e4272",
   "metadata": {
    "pycharm": {
     "name": "#%% md\n"
    }
   },
   "source": [
    "We inspect the saliency scores assigned by LIME to each feature"
   ]
  },
  {
   "cell_type": "code",
   "execution_count": 12,
   "id": "2f0721fe",
   "metadata": {},
   "outputs": [
    {
     "name": "stdout",
     "output_type": "stream",
     "text": [
      "Saliencies for 'inside':\n",
      "\tx1: 0.1920119712088839\n",
      "\tx2: 0.8642754128460111\n",
      "\tx3: 0.0\n",
      "\n"
     ]
    }
   ],
   "source": [
    "print(explanation.show(decision))"
   ]
  },
  {
   "cell_type": "markdown",
   "id": "6c53fcc5",
   "metadata": {},
   "source": [
    "We generate the saliency graph with the builtin method `plot(decision)`:"
   ]
  },
  {
   "cell_type": "code",
   "execution_count": 13,
   "id": "59ddb1d4",
   "metadata": {},
   "outputs": [
    {
     "data": {
      "image/png": "[encoded data removed]",
      "text/plain": [
       "<Figure size 432x288 with 1 Axes>"
      ]
     },
     "metadata": {
      "needs_background": "light"
     },
     "output_type": "display_data"
    }
   ],
   "source": [
    "explanation.plot(decision)"
   ]
  },
  {
   "cell_type": "markdown",
   "id": "169d975c",
   "metadata": {},
   "source": [
    "## Using Python models\n",
    "\n"
   ]
  },
  {
   "cell_type": "markdown",
   "id": "5511214d",
   "metadata": {},
   "source": [
    "We will now show how to use a custom Python model with TrustyAI LIME implementation.\n",
    "\n",
    "The model will be an XGBoost one trained with the `credit-bias` dataset.\n",
    "\n",
    "For convenience, the model is pre-trained and serialised with `joblib` so that for this example we simply need to deserialised it."
   ]
  },
  {
   "cell_type": "code",
   "execution_count": 14,
   "id": "754a7737",
   "metadata": {},
   "outputs": [
    {
     "name": "stdout",
     "output_type": "stream",
     "text": [
      "XGBClassifier(base_score=0.5, booster='gbtree', colsample_bylevel=1,\n",
      "              colsample_bynode=1, colsample_bytree=1, gamma=0, gpu_id=-1,\n",
      "              importance_type='gain', interaction_constraints='',\n",
      "              learning_rate=0.07, max_delta_step=0, max_depth=8,\n",
      "              min_child_weight=1, missing=nan, monotone_constraints='()',\n",
      "              n_estimators=200, n_jobs=12, num_parallel_tree=1, random_state=27,\n",
      "              reg_alpha=0, reg_lambda=1, scale_pos_weight=0.9861206227457426,\n",
      "              seed=27, subsample=1, tree_method='exact', validate_parameters=1,\n",
      "              verbosity=None)\n"
     ]
    }
   ],
   "source": [
    "import joblib\n",
    "\n",
    "xg_model = joblib.load(\"models/credit-bias-xgboost.joblib\")\n",
    "print(xg_model)"
   ]
  },
  {
   "cell_type": "markdown",
   "id": "986b8eb7",
   "metadata": {},
   "source": [
    "This model has as a single **output** a boolean `PaidLoan`, which will predict whether a certain loan applicant will repay the loan in time or not. The model is slightly more complex than the previous examples, with **input** features:\n",
    "\n",
    "|Input feature         | Type    | Note        |\n",
    "|----------------------|---------|-------------|\n",
    "|`NewCreditCustomer`   |boolean  ||\n",
    "|`Amount`              |numerical||\n",
    "|`Interest`            |numerical||\n",
    "|`LoanDuration`        |numerical|In months|\n",
    "|`Education`           |numerical|Level (1, 2, 3..)|\n",
    "|`NrOfDependants`      |numerical|Integer|\n",
    "|`EmploymentDurationCurrentEmployer`|numerical|Integer (years)|\n",
    "|`IncomeFromPrincipalEmployer`|numerical||\n",
    "|`IncomeFromPension`   |numerical||\n",
    "|`IncomeFromFamilyAllowance`|numerical||\n",
    "|`IncomeFromSocialWelfare`|numerical||\n",
    "|`IncomeFromLeavePay`|numerical||\n",
    "|`IncomeFromChildSupport`|numerical||\n",
    "|`IncomeOther`|numerical||\n",
    "|`ExistingLiabilities`|numerical|integer|\n",
    "|`RefinanceLiabilities`|numerical|integer|\n",
    "|`DebtToIncome`|numerical||\n",
    "|`FreeCash`|numerical||\n",
    "|`CreditScoreEeMini`|numerical|integer|\n",
    "|`NoOfPreviousLoansBeforeLoan`|numerical|integer|\n",
    "|`AmountOfPreviousLoansBeforeLoan`|numerical||\n",
    "|`PreviousRepaymentsBeforeLoan`|numerical||\n",
    "|`PreviousEarlyRepaymentsBefoleLoan`|numerical||\n",
    "|`PreviousEarlyRepaymentsCountBeforeLoan`|numerical|integer|\n",
    "|`Council_house`|boolean||\n",
    "|`Homeless`|boolean||\n",
    "|`Joint_ownership`|boolean||\n",
    "|`Joint_tenant`|boolean||\n",
    "|`Living_with_parents`|boolean||\n",
    "|`Mortgage`|boolean||\n",
    "|`Other`|boolean||\n",
    "|`Owner`|boolean||\n",
    "|`Owner_with_encumbrance`|boolean||\n",
    "|`Tenant`|boolean||\n",
    "|`Entrepreneur`|boolean||\n",
    "|`Fully`|boolean||\n",
    "|`Partially`|boolean||\n",
    "|`Retiree`|boolean||\n",
    "|`Self_employed`|boolean||\n",
    "\n",
    "We will start by testing the model with an input we are quite sure (from the original data) that will be predicted as `false`:"
   ]
  },
  {
   "cell_type": "code",
   "execution_count": 15,
   "id": "33ed8c2f",
   "metadata": {},
   "outputs": [],
   "source": [
    "x = [[False,2125.0,20.97,60,4.0,0.0,6.0,0.0,301.0,0.0,53.0,0.0,0.0,0.0,8,6,26.29,10.92,1000.0,1.0,500.0,590.95,0.0,0.0,0,0,0,0,0,0,0,1,0,0,0,0,0,1,0]]"
   ]
  },
  {
   "cell_type": "markdown",
   "id": "806f119b",
   "metadata": {},
   "source": [
    "We can see that this application will be rejected with a probability of $\\sim77\\%$:"
   ]
  },
  {
   "cell_type": "code",
   "execution_count": 16,
   "id": "ebf11020",
   "metadata": {},
   "outputs": [
    {
     "name": "stdout",
     "output_type": "stream",
     "text": [
      "[[0.7770493  0.22295067]]\n",
      "Paid loan is predicted as: [False]\n"
     ]
    }
   ],
   "source": [
    "import numpy as np\n",
    "\n",
    "print(xg_model.predict_proba(np.array(x)))\n",
    "print(f\"Paid loan is predicted as: {xg_model.predict(np.array(x))}\")"
   ]
  },
  {
   "cell_type": "markdown",
   "id": "6a09b584",
   "metadata": {},
   "source": [
    "We will now prepare the XGBoost model to be used from the TrustyAI counterfactual engine.\n",
    "\n",
    "To do so, we simply need to first create a prediction function which takes:\n",
    "\n",
    "- A list of `PredictionInput` as inputs\n",
    "- A list of `PredictionOutput` as outputs\n",
    "\n",
    "If these two conditions are met, the actual inner working of this method can be anything (including calling a XGBoost Python model for prediction as in our case):"
   ]
  },
  {
   "cell_type": "code",
   "execution_count": 17,
   "id": "995adddc",
   "metadata": {},
   "outputs": [],
   "source": [
    "from org.kie.kogito.explainability.model import PredictionInput, PredictionOutput\n",
    "\n",
    "def predict(inputs):\n",
    "    values = [_feature.value.as_obj() for _feature in inputs[0].features]\n",
    "    result = xg_model.predict_proba(np.array([values]))\n",
    "    false_prob, true_prob = result[0]\n",
    "    if false_prob > true_prob:\n",
    "        _prediction = (False, false_prob)\n",
    "    else:\n",
    "        _prediction = (True, true_prob)\n",
    "    _output = output(name=\"PaidLoan\", dtype=\"bool\", value=_prediction[0], score=_prediction[1])\n",
    "    return [PredictionOutput([_output])]"
   ]
  },
  {
   "cell_type": "markdown",
   "id": "811d2e6c",
   "metadata": {},
   "source": [
    "Once the prediction method is created, we wrap in a `PredictionProvider` class.\n",
    "\n",
    "This class takes care of all the JVM's asynchronous plumbing for us."
   ]
  },
  {
   "cell_type": "code",
   "execution_count": 18,
   "id": "5dfde4d2",
   "metadata": {},
   "outputs": [],
   "source": [
    "from trustyai.model import Model\n",
    "\n",
    "cb_model = Model(predict)"
   ]
  },
  {
   "cell_type": "markdown",
   "id": "45ddc56a",
   "metadata": {},
   "source": [
    "We will now express the previous inputs (`x`) in terms of `Feature`s, so that we might use it for the counterfactual search:"
   ]
  },
  {
   "cell_type": "code",
   "execution_count": 19,
   "id": "358ce263",
   "metadata": {},
   "outputs": [],
   "source": [
    "def make_feature(name, _value):\n",
    "    if isinstance(_value, bool):\n",
    "        return feature(name=name, dtype=\"bool\", value=_value)\n",
    "    else:\n",
    "        return feature(name=name, dtype=\"number\", value=_value)\n",
    "\n",
    "features = [make_feature(p[0], p[1]) for p in [(\"NewCreditCustomer\", False),\n",
    "        (\"Amount\", 2125.0),\n",
    "        (\"Interest\", 20.97),\n",
    "        (\"LoanDuration\", 60.0),\n",
    "        (\"Education\", 4.0),\n",
    "        (\"NrOfDependants\", 0.0),\n",
    "        (\"EmploymentDurationCurrentEmployer\", 6.0),\n",
    "        (\"IncomeFromPrincipalEmployer\", 0.0),\n",
    "        (\"IncomeFromPension\", 301.0),\n",
    "        (\"IncomeFromFamilyAllowance\", 0.0),\n",
    "        (\"IncomeFromSocialWelfare\", 53.0),\n",
    "        (\"IncomeFromLeavePay\", 0.0),\n",
    "        (\"IncomeFromChildSupport\", 0.0),\n",
    "        (\"IncomeOther\", 0.0),\n",
    "        (\"ExistingLiabilities\", 8.0),\n",
    "        (\"RefinanceLiabilities\", 6.0),\n",
    "        (\"DebtToIncome\", 26.29),\n",
    "        (\"FreeCash\", 10.92),\n",
    "        (\"CreditScoreEeMini\", 1000.0),\n",
    "        (\"NoOfPreviousLoansBeforeLoan\", 1.0),\n",
    "        (\"AmountOfPreviousLoansBeforeLoan\", 500.0),\n",
    "        (\"PreviousRepaymentsBeforeLoan\", 590.95),\n",
    "        (\"PreviousEarlyRepaymentsBefoleLoan\", 0.0),\n",
    "        (\"PreviousEarlyRepaymentsCountBeforeLoan\", 0.0),\n",
    "        (\"Council_house\", False),\n",
    "        (\"Homeless\", False),\n",
    "        (\"Joint_ownership\", False),\n",
    "        (\"Joint_tenant\", False),\n",
    "        (\"Living_with_parents\", False),\n",
    "        (\"Mortgage\", False),\n",
    "        (\"Other\", False),\n",
    "        (\"Owner\", False),\n",
    "        (\"Owner_with_encumbrance\", True),\n",
    "        (\"Tenant\", True),\n",
    "        (\"Entrepreneur\", False),\n",
    "        (\"Fully\", False),\n",
    "        (\"Partially\", False),\n",
    "        (\"Retiree\", True),\n",
    "        (\"Self_employed\", False)]]"
   ]
  },
  {
   "cell_type": "markdown",
   "id": "e82cb625",
   "metadata": {},
   "source": [
    "We can confirm now, with the newly created `PredictionProvider` model that this input will lead to a `false` `PaidLoan` prediction:"
   ]
  },
  {
   "cell_type": "code",
   "execution_count": 20,
   "id": "8a370f7d",
   "metadata": {},
   "outputs": [
    {
     "data": {
      "text/plain": [
       "'Output{value=false, type=boolean, score=0.7835956811904907, name='PaidLoan'}'"
      ]
     },
     "execution_count": 20,
     "metadata": {},
     "output_type": "execute_result"
    }
   ],
   "source": [
    "prediction = cb_model.predictAsync([PredictionInput(features)]).get()\n",
    "prediction[0].outputs[0].toString()"
   ]
  },
  {
   "cell_type": "markdown",
   "id": "a61f25e5",
   "metadata": {},
   "source": [
    "We generate a prediction to be passed to the LIME explainer"
   ]
  },
  {
   "cell_type": "code",
   "execution_count": 21,
   "id": "3bb1be05",
   "metadata": {},
   "outputs": [],
   "source": [
    "prediction_obj = simple_prediction(input_features=features, outputs=prediction[0].outputs)"
   ]
  },
  {
   "cell_type": "markdown",
   "id": "de1cf07f",
   "metadata": {},
   "source": [
    "We execute the LIME explainer on the XGBoost model and prediction"
   ]
  },
  {
   "cell_type": "code",
   "execution_count": 29,
   "id": "f4918cbd",
   "metadata": {},
   "outputs": [],
   "source": [
    "cb_explainer = LimeExplainer(samples=100, perturbations=2, seed=23, normalise_weights=False)\n",
    "cb_explanation = cb_explainer.explain(prediction_obj, cb_model)"
   ]
  },
  {
   "cell_type": "markdown",
   "id": "549406d8",
   "metadata": {},
   "source": [
    "We output the top 2 most important features for the prediction outcome"
   ]
  },
  {
   "cell_type": "code",
   "execution_count": 30,
   "id": "cc585f63",
   "metadata": {},
   "outputs": [
    {
     "name": "stdout",
     "output_type": "stream",
     "text": [
      "FeatureImportance{feature=Feature{name='Amount', type=number, value=2125.0}, score=0.013978970810344035, confidence= +/-0.0}\n",
      "FeatureImportance{feature=Feature{name='Interest', type=number, value=20.97}, score=0.013978970810344035, confidence= +/-0.0}\n"
     ]
    }
   ],
   "source": [
    "for f in cb_explanation.map()['PaidLoan'].getTopFeatures(2):\n",
    "    print(f)"
   ]
  },
  {
   "cell_type": "code",
   "execution_count": 31,
   "id": "49f49b52",
   "metadata": {
    "pycharm": {
     "name": "#%%\n"
    }
   },
   "outputs": [
    {
     "name": "stdout",
     "output_type": "stream",
     "text": [
      "Saliencies for 'PaidLoan':\n",
      "\tNewCreditCustomer: 0.0\n",
      "\tAmount: 0.013978970810344035\n",
      "\tInterest: 0.013978970810344035\n",
      "\tLoanDuration: 0.013978970810344035\n",
      "\tEducation: 0.013978970810344035\n",
      "\tNrOfDependants: 0.013978970810344035\n",
      "\tEmploymentDurationCurrentEmployer: 0.013978970810344035\n",
      "\tIncomeFromPrincipalEmployer: 0.013978970810344035\n",
      "\tIncomeFromPension: 0.013978970810344035\n",
      "\tIncomeFromFamilyAllowance: 0.013978970810344035\n",
      "\tIncomeFromSocialWelfare: 0.013978970810344035\n",
      "\tIncomeFromLeavePay: 0.013978970810344035\n",
      "\tIncomeFromChildSupport: 0.013978970810344035\n",
      "\tIncomeOther: 0.013978970810344035\n",
      "\tExistingLiabilities: 0.013978970810344035\n",
      "\tRefinanceLiabilities: 0.013978970810344035\n",
      "\tDebtToIncome: 0.013978970810344035\n",
      "\tFreeCash: 0.013978970810344035\n",
      "\tCreditScoreEeMini: 0.013978970810344035\n",
      "\tNoOfPreviousLoansBeforeLoan: 0.013978970810344035\n",
      "\tAmountOfPreviousLoansBeforeLoan: 0.013978970810344035\n",
      "\tPreviousRepaymentsBeforeLoan: 0.013978970810344035\n",
      "\tPreviousEarlyRepaymentsBefoleLoan: 0.013978970810344035\n",
      "\tPreviousEarlyRepaymentsCountBeforeLoan: 0.013978970810344035\n",
      "\tCouncil_house: 0.0\n",
      "\tHomeless: 0.0\n",
      "\tJoint_ownership: 0.0\n",
      "\tJoint_tenant: 0.0\n",
      "\tLiving_with_parents: 0.0\n",
      "\tMortgage: 0.013978970810344035\n",
      "\tOther: 0.0\n",
      "\tOwner: 0.013978970810344035\n",
      "\tOwner_with_encumbrance: 0.013978970810344035\n",
      "\tTenant: 0.0\n",
      "\tEntrepreneur: 0.0\n",
      "\tFully: 0.0\n",
      "\tPartially: 0.013978970810344035\n",
      "\tRetiree: 0.013978970810344035\n",
      "\tSelf_employed: 0.013978970810344035\n",
      "\n"
     ]
    }
   ],
   "source": [
    "print(cb_explanation.show('PaidLoan'))"
   ]
  },
  {
   "cell_type": "code",
   "execution_count": 32,
   "id": "d7052b9f",
   "metadata": {
    "pycharm": {
     "name": "#%%\n"
    }
   },
   "outputs": [
    {
     "data": {
      "image/png": "[encoded data removed]",
      "text/plain": [
       "<Figure size 432x720 with 1 Axes>"
      ]
     },
     "metadata": {
      "needs_background": "light"
     },
     "output_type": "display_data"
    }
   ],
   "source": [
    "import matplotlib.pyplot as plt\n",
    "\n",
    "plt.figure(figsize=(6,10))\n",
    "cb_explanation.plot('PaidLoan')"
   ]
  },
  {
   "cell_type": "code",
   "execution_count": null,
   "id": "6466635d",
   "metadata": {
    "pycharm": {
     "name": "#%%\n"
    }
   },
   "outputs": [],
   "source": []
  }
 ],
 "metadata": {
  "kernelspec": {
   "display_name": "trustyai-python",
   "language": "python",
   "name": "trustyai-python"
  },
  "language_info": {
   "codemirror_mode": {
    "name": "ipython",
    "version": 3
   },
   "file_extension": ".py",
   "mimetype": "text/x-python",
   "name": "python",
   "nbconvert_exporter": "python",
   "pygments_lexer": "ipython3",
   "version": "3.9.10"
  }
 },
 "nbformat": 4,
 "nbformat_minor": 5
}
