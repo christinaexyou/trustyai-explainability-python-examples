{
 "cells": [
  {
   "cell_type": "markdown",
   "id": "d2a08ef6",
   "metadata": {},
   "source": [
    "# LIME explanations"
   ]
  },
  {
   "cell_type": "code",
   "execution_count": 1,
   "id": "767b003e",
   "metadata": {},
   "outputs": [],
   "source": [
    "import trustyai\n",
    "\n",
    "trustyai.init()"
   ]
  },
  {
   "cell_type": "markdown",
   "id": "e194eb56",
   "metadata": {},
   "source": [
    "## Simple example\n",
    "\n",
    "We start by defining our black-box model, typically represented by\n",
    "\n",
    "$$\n",
    "f(\\mathbf{x}) = \\mathbf{y}\n",
    "$$\n",
    "\n",
    "Where $\\mathbf{x}=\\{x_1, x_2, \\dots,x_m\\}$ and $\\mathbf{y}=\\{y_1, y_2, \\dots,y_n\\}$.\n",
    "\n",
    "Our example toy model, in this case, takes an all-numerical input $\\mathbf{x}$ and return a $\\mathbf{y}$ of either `true` or `false` if the sum of the $\\mathbf{x}$ components is within a threshold $\\epsilon$ of a point $\\mathbf{C}$, that is:\n",
    "\n",
    "$$\n",
    "f(\\mathbf{x}, \\epsilon, \\mathbf{C})=\\begin{cases}\n",
    "\\text{true},\\qquad \\text{if}\\ \\mathbf{C}-\\epsilon<\\sum_{i=1}^m x_i <\\mathbf{C}+\\epsilon \\\\\n",
    "\\text{false},\\qquad \\text{otherwise}\n",
    "\\end{cases}\n",
    "$$\n",
    "\n",
    "This model is provided in the `TestUtils` module. We instantiate with a $\\mathbf{C}=500$ and $\\epsilon=1.0$."
   ]
  },
  {
   "cell_type": "code",
   "execution_count": 2,
   "id": "fd02e320",
   "metadata": {},
   "outputs": [],
   "source": [
    "from trustyai.utils import TestUtils\n",
    "\n",
    "center = 10.0\n",
    "epsilon = 2.0\n",
    "\n",
    "model = TestUtils.getSumThresholdModel(center, epsilon)"
   ]
  },
  {
   "cell_type": "markdown",
   "id": "e4a15f8b",
   "metadata": {},
   "source": [
    "Next we need to define a **goal**.\n",
    "If our model is $f(\\mathbf{x'})=\\mathbf{y'}$ we are then defining our $\\mathbf{y'}$ and the counterfactual result will be the $\\mathbf{x'}$ which satisfies $f(\\mathbf{x'})=\\mathbf{y'}$.\n",
    "\n",
    "We will define our goal as `true`, that is, the sum is withing the vicinity of a (to be defined) point $\\mathbf{C}$. The goal is a list of `Output` which take the following parameters\n",
    "\n",
    "- The feature name\n",
    "- The feature type\n",
    "- The feature value (wrapped in `Value`)\n",
    "- A confidence threshold, which we will leave at zero (no threshold)"
   ]
  },
  {
   "cell_type": "code",
   "execution_count": 3,
   "id": "bf3f4232",
   "metadata": {},
   "outputs": [],
   "source": [
    "from trustyai.model import output\n",
    "\n",
    "decision = \"inside\"\n",
    "goal = [output(name=decision, dtype=\"bool\", value=True, score=0.0)]"
   ]
  },
  {
   "cell_type": "markdown",
   "id": "64349c3e",
   "metadata": {},
   "source": [
    "We will now define our initial features, $\\mathbf{x}$. Each feature can be instantiated by using `FeatureFactory` and in this case we want to use numerical features, so we'll use `FeatureFactory.newNumericalFeature`."
   ]
  },
  {
   "cell_type": "code",
   "execution_count": 4,
   "id": "d688a7c8",
   "metadata": {},
   "outputs": [],
   "source": [
    "import random\n",
    "from trustyai.model import feature\n",
    "\n",
    "features = [feature(name=f\"x{i+1}\", dtype=\"number\", value=random.random()*10.0) for i in range(3)]"
   ]
  },
  {
   "cell_type": "markdown",
   "id": "a562ef68",
   "metadata": {},
   "source": [
    "As we can see, the sum of of the features will not be within $\\epsilon$ (1.0) of $\\mathbf{C}$ (500.0). As such the model prediction will be `false`:"
   ]
  },
  {
   "cell_type": "code",
   "execution_count": 5,
   "id": "48212d3f",
   "metadata": {},
   "outputs": [
    {
     "name": "stdout",
     "output_type": "stream",
     "text": [
      "Feature x1 has value 8.824930054798465\n",
      "Feature x2 has value 4.246070534263824\n",
      "Feature x3 has value 5.512117711918773\n",
      "\n",
      "Features sum is 18.583118300981063\n"
     ]
    }
   ],
   "source": [
    "feature_sum = 0.0\n",
    "for f in features:\n",
    "    value = f.value.as_number()\n",
    "    print(f\"Feature {f.name} has value {value}\")\n",
    "    feature_sum += value\n",
    "print(f\"\\nFeatures sum is {feature_sum}\")"
   ]
  },
  {
   "cell_type": "markdown",
   "id": "13001554",
   "metadata": {},
   "source": [
    "We execute the model on the generated input and collect the output"
   ]
  },
  {
   "cell_type": "code",
   "execution_count": 6,
   "id": "0a45c0e0",
   "metadata": {
    "pycharm": {
     "name": "#%%\n"
    }
   },
   "outputs": [],
   "source": [
    "from org.kie.kogito.explainability.model import PredictionInput, PredictionOutput\n",
    "\n",
    "goals = model.predictAsync([PredictionInput(features)]).get()"
   ]
  },
  {
   "cell_type": "markdown",
   "id": "324cefdf",
   "metadata": {
    "pycharm": {
     "name": "#%% md\n"
    }
   },
   "source": [
    "We wrap these quantities in a `SimplePrediction`:"
   ]
  },
  {
   "cell_type": "code",
   "execution_count": 7,
   "id": "8bb2aac1",
   "metadata": {
    "pycharm": {
     "name": "#%%\n"
    }
   },
   "outputs": [],
   "source": [
    "from trustyai.model import simple_prediction\n",
    "\n",
    "\n",
    "prediction = simple_prediction(input_features=features, outputs=goals[0].outputs)"
   ]
  },
  {
   "cell_type": "markdown",
   "id": "9bb631f9",
   "metadata": {
    "pycharm": {
     "name": "#%% md\n"
    }
   },
   "source": [
    "We can now instantiate the **explainer** itself.\n"
   ]
  },
  {
   "cell_type": "code",
   "execution_count": 8,
   "id": "115fa89c",
   "metadata": {},
   "outputs": [
    {
     "name": "stderr",
     "output_type": "stream",
     "text": [
      "SLF4J: Failed to load class \"org.slf4j.impl.StaticLoggerBinder\".\n",
      "SLF4J: Defaulting to no-operation (NOP) logger implementation\n",
      "SLF4J: See http://www.slf4j.org/codes.html#StaticLoggerBinder for further details.\n"
     ]
    }
   ],
   "source": [
    "from trustyai.explainers import LimeExplainer\n",
    "\n",
    "explainer = LimeExplainer(samples=10)"
   ]
  },
  {
   "cell_type": "markdown",
   "id": "7cd8b2b4",
   "metadata": {
    "pycharm": {
     "name": "#%% md\n"
    }
   },
   "source": [
    "We generate the **explanation** as a _dict : decision --> saliency_.\n"
   ]
  },
  {
   "cell_type": "code",
   "execution_count": 9,
   "id": "b34e26d7",
   "metadata": {
    "pycharm": {
     "name": "#%%\n"
    }
   },
   "outputs": [],
   "source": [
    "explanation = explainer.explain(prediction, model)"
   ]
  },
  {
   "cell_type": "code",
   "execution_count": 11,
   "id": "9f8671f0",
   "metadata": {},
   "outputs": [
    {
     "data": {
      "text/html": [
       "<div>\n",
       "<style scoped>\n",
       "    .dataframe tbody tr th:only-of-type {\n",
       "        vertical-align: middle;\n",
       "    }\n",
       "\n",
       "    .dataframe tbody tr th {\n",
       "        vertical-align: top;\n",
       "    }\n",
       "\n",
       "    .dataframe thead th {\n",
       "        text-align: right;\n",
       "    }\n",
       "</style>\n",
       "<table border=\"1\" class=\"dataframe\">\n",
       "  <thead>\n",
       "    <tr style=\"text-align: right;\">\n",
       "      <th></th>\n",
       "      <th>inside_features</th>\n",
       "      <th>inside_score</th>\n",
       "      <th>inside_value</th>\n",
       "      <th>inside_confidence</th>\n",
       "    </tr>\n",
       "  </thead>\n",
       "  <tbody>\n",
       "    <tr>\n",
       "      <th>0</th>\n",
       "      <td>x1</td>\n",
       "      <td>0.583312</td>\n",
       "      <td>8.824930</td>\n",
       "      <td>0.0</td>\n",
       "    </tr>\n",
       "    <tr>\n",
       "      <th>1</th>\n",
       "      <td>x2</td>\n",
       "      <td>0.000000</td>\n",
       "      <td>4.246071</td>\n",
       "      <td>0.0</td>\n",
       "    </tr>\n",
       "    <tr>\n",
       "      <th>2</th>\n",
       "      <td>x3</td>\n",
       "      <td>0.804062</td>\n",
       "      <td>5.512118</td>\n",
       "      <td>0.0</td>\n",
       "    </tr>\n",
       "  </tbody>\n",
       "</table>\n",
       "</div>"
      ],
      "text/plain": [
       "  inside_features  inside_score  inside_value  inside_confidence\n",
       "0              x1      0.583312      8.824930                0.0\n",
       "1              x2      0.000000      4.246071                0.0\n",
       "2              x3      0.804062      5.512118                0.0"
      ]
     },
     "execution_count": 11,
     "metadata": {},
     "output_type": "execute_result"
    }
   ],
   "source": [
    "explanation.as_dataframe()"
   ]
  },
  {
   "cell_type": "markdown",
   "id": "d32e4272",
   "metadata": {
    "pycharm": {
     "name": "#%% md\n"
    }
   },
   "source": [
    "We inspect the saliency scores assigned by LIME to each feature"
   ]
  },
  {
   "cell_type": "markdown",
   "id": "6c53fcc5",
   "metadata": {},
   "source": [
    "We generate the saliency graph with the builtin method `plot(decision)`:"
   ]
  },
  {
   "cell_type": "code",
   "execution_count": 13,
   "id": "59ddb1d4",
   "metadata": {},
   "outputs": [
    {
     "data": {
      "image/png": "[encoded data removed]",
      "text/plain": [
       "<Figure size 1600x900 with 1 Axes>"
      ]
     },
     "metadata": {},
     "output_type": "display_data"
    }
   ],
   "source": [
    "explanation.plot(decision)"
   ]
  },
  {
   "cell_type": "markdown",
   "id": "169d975c",
   "metadata": {},
   "source": [
    "## Using Python models\n",
    "\n"
   ]
  },
  {
   "cell_type": "markdown",
   "id": "5511214d",
   "metadata": {},
   "source": [
    "We will now show how to use a custom Python model with TrustyAI LIME implementation.\n",
    "\n",
    "The model will be an XGBoost one trained with the `credit-bias` dataset.\n",
    "\n",
    "For convenience, the model is pre-trained and serialised with `joblib` so that for this example we simply need to deserialised it."
   ]
  },
  {
   "cell_type": "code",
   "execution_count": 14,
   "id": "754a7737",
   "metadata": {},
   "outputs": [
    {
     "name": "stdout",
     "output_type": "stream",
     "text": [
      "XGBClassifier(base_score=0.5, booster='gbtree', colsample_bylevel=1,\n",
      "              colsample_bynode=1, colsample_bytree=1, gamma=0, gpu_id=-1,\n",
      "              importance_type='gain', interaction_constraints='',\n",
      "              learning_rate=0.07, max_delta_step=0, max_depth=8,\n",
      "              min_child_weight=1, missing=nan, monotone_constraints='()',\n",
      "              n_estimators=200, n_jobs=12, num_parallel_tree=1, random_state=27,\n",
      "              reg_alpha=0, reg_lambda=1, scale_pos_weight=0.9861206227457426,\n",
      "              seed=27, subsample=1, tree_method='exact', validate_parameters=1,\n",
      "              verbosity=None)\n"
     ]
    }
   ],
   "source": [
    "import joblib\n",
    "\n",
    "xg_model = joblib.load(\"models/credit-bias-xgboost.joblib\")\n",
    "print(xg_model)"
   ]
  },
  {
   "cell_type": "markdown",
   "id": "986b8eb7",
   "metadata": {},
   "source": [
    "This model has as a single **output** a boolean `PaidLoan`, which will predict whether a certain loan applicant will repay the loan in time or not. The model is slightly more complex than the previous examples, with **input** features:\n",
    "\n",
    "|Input feature         | Type    | Note        |\n",
    "|----------------------|---------|-------------|\n",
    "|`NewCreditCustomer`   |boolean  ||\n",
    "|`Amount`              |numerical||\n",
    "|`Interest`            |numerical||\n",
    "|`LoanDuration`        |numerical|In months|\n",
    "|`Education`           |numerical|Level (1, 2, 3..)|\n",
    "|`NrOfDependants`      |numerical|Integer|\n",
    "|`EmploymentDurationCurrentEmployer`|numerical|Integer (years)|\n",
    "|`IncomeFromPrincipalEmployer`|numerical||\n",
    "|`IncomeFromPension`   |numerical||\n",
    "|`IncomeFromFamilyAllowance`|numerical||\n",
    "|`IncomeFromSocialWelfare`|numerical||\n",
    "|`IncomeFromLeavePay`|numerical||\n",
    "|`IncomeFromChildSupport`|numerical||\n",
    "|`IncomeOther`|numerical||\n",
    "|`ExistingLiabilities`|numerical|integer|\n",
    "|`RefinanceLiabilities`|numerical|integer|\n",
    "|`DebtToIncome`|numerical||\n",
    "|`FreeCash`|numerical||\n",
    "|`CreditScoreEeMini`|numerical|integer|\n",
    "|`NoOfPreviousLoansBeforeLoan`|numerical|integer|\n",
    "|`AmountOfPreviousLoansBeforeLoan`|numerical||\n",
    "|`PreviousRepaymentsBeforeLoan`|numerical||\n",
    "|`PreviousEarlyRepaymentsBefoleLoan`|numerical||\n",
    "|`PreviousEarlyRepaymentsCountBeforeLoan`|numerical|integer|\n",
    "|`Council_house`|boolean||\n",
    "|`Homeless`|boolean||\n",
    "|`Joint_ownership`|boolean||\n",
    "|`Joint_tenant`|boolean||\n",
    "|`Living_with_parents`|boolean||\n",
    "|`Mortgage`|boolean||\n",
    "|`Other`|boolean||\n",
    "|`Owner`|boolean||\n",
    "|`Owner_with_encumbrance`|boolean||\n",
    "|`Tenant`|boolean||\n",
    "|`Entrepreneur`|boolean||\n",
    "|`Fully`|boolean||\n",
    "|`Partially`|boolean||\n",
    "|`Retiree`|boolean||\n",
    "|`Self_employed`|boolean||\n",
    "\n",
    "We will start by testing the model with an input we are quite sure (from the original data) that will be predicted as `false`:"
   ]
  },
  {
   "cell_type": "code",
   "execution_count": 15,
   "id": "33ed8c2f",
   "metadata": {},
   "outputs": [],
   "source": [
    "x = [[False,2125.0,20.97,60,4.0,0.0,6.0,0.0,301.0,0.0,53.0,0.0,0.0,0.0,8,6,26.29,10.92,1000.0,1.0,500.0,590.95,0.0,0.0,0,0,0,0,0,0,0,1,0,0,0,0,0,1,0]]"
   ]
  },
  {
   "cell_type": "markdown",
   "id": "806f119b",
   "metadata": {},
   "source": [
    "We can see that this application will be rejected with a probability of $\\sim77\\%$:"
   ]
  },
  {
   "cell_type": "code",
   "execution_count": 16,
   "id": "ebf11020",
   "metadata": {},
   "outputs": [
    {
     "name": "stdout",
     "output_type": "stream",
     "text": [
      "[[0.7770493  0.22295067]]\n",
      "Paid loan is predicted as: [False]\n"
     ]
    }
   ],
   "source": [
    "import numpy as np\n",
    "\n",
    "print(xg_model.predict_proba(np.array(x)))\n",
    "print(f\"Paid loan is predicted as: {xg_model.predict(np.array(x))}\")"
   ]
  },
  {
   "cell_type": "markdown",
   "id": "6a09b584",
   "metadata": {},
   "source": [
    "We will now prepare the XGBoost model to be used from the TrustyAI counterfactual engine.\n",
    "\n",
    "To do so, we simply need to first create a prediction function which takes:\n",
    "\n",
    "- A list of `PredictionInput` as inputs\n",
    "- A list of `PredictionOutput` as outputs\n",
    "\n",
    "If these two conditions are met, the actual inner working of this method can be anything (including calling a XGBoost Python model for prediction as in our case):"
   ]
  },
  {
   "cell_type": "code",
   "execution_count": 17,
   "id": "995adddc",
   "metadata": {},
   "outputs": [],
   "source": [
    "from org.kie.kogito.explainability.model import PredictionInput, PredictionOutput\n",
    "\n",
    "def predict(inputs):\n",
    "    values = [_feature.value.as_obj() for _feature in inputs[0].features]\n",
    "    result = xg_model.predict_proba(np.array([values]))\n",
    "    false_prob, true_prob = result[0]\n",
    "    if false_prob > true_prob:\n",
    "        _prediction = (False, false_prob)\n",
    "    else:\n",
    "        _prediction = (True, true_prob)\n",
    "    _output = output(name=\"PaidLoan\", dtype=\"bool\", value=_prediction[0], score=_prediction[1])\n",
    "    return [PredictionOutput([_output])]"
   ]
  },
  {
   "cell_type": "markdown",
   "id": "811d2e6c",
   "metadata": {},
   "source": [
    "Once the prediction method is created, we wrap in a `PredictionProvider` class.\n",
    "\n",
    "This class takes care of all the JVM's asynchronous plumbing for us."
   ]
  },
  {
   "cell_type": "code",
   "execution_count": 18,
   "id": "5dfde4d2",
   "metadata": {},
   "outputs": [],
   "source": [
    "from trustyai.model import Model\n",
    "\n",
    "cb_model = Model(predict)"
   ]
  },
  {
   "cell_type": "markdown",
   "id": "45ddc56a",
   "metadata": {},
   "source": [
    "We will now express the previous inputs (`x`) in terms of `Feature`s, so that we might use it for the counterfactual search:"
   ]
  },
  {
   "cell_type": "code",
   "execution_count": 19,
   "id": "358ce263",
   "metadata": {},
   "outputs": [],
   "source": [
    "def make_feature(name, _value):\n",
    "    if isinstance(_value, bool):\n",
    "        return feature(name=name, dtype=\"bool\", value=_value)\n",
    "    else:\n",
    "        return feature(name=name, dtype=\"number\", value=_value)\n",
    "\n",
    "features = [make_feature(p[0], p[1]) for p in [(\"NewCreditCustomer\", False),\n",
    "        (\"Amount\", 2125.0),\n",
    "        (\"Interest\", 20.97),\n",
    "        (\"LoanDuration\", 60.0),\n",
    "        (\"Education\", 4.0),\n",
    "        (\"NrOfDependants\", 0.0),\n",
    "        (\"EmploymentDurationCurrentEmployer\", 6.0),\n",
    "        (\"IncomeFromPrincipalEmployer\", 0.0),\n",
    "        (\"IncomeFromPension\", 301.0),\n",
    "        (\"IncomeFromFamilyAllowance\", 0.0),\n",
    "        (\"IncomeFromSocialWelfare\", 53.0),\n",
    "        (\"IncomeFromLeavePay\", 0.0),\n",
    "        (\"IncomeFromChildSupport\", 0.0),\n",
    "        (\"IncomeOther\", 0.0),\n",
    "        (\"ExistingLiabilities\", 8.0),\n",
    "        (\"RefinanceLiabilities\", 6.0),\n",
    "        (\"DebtToIncome\", 26.29),\n",
    "        (\"FreeCash\", 10.92),\n",
    "        (\"CreditScoreEeMini\", 1000.0),\n",
    "        (\"NoOfPreviousLoansBeforeLoan\", 1.0),\n",
    "        (\"AmountOfPreviousLoansBeforeLoan\", 500.0),\n",
    "        (\"PreviousRepaymentsBeforeLoan\", 590.95),\n",
    "        (\"PreviousEarlyRepaymentsBefoleLoan\", 0.0),\n",
    "        (\"PreviousEarlyRepaymentsCountBeforeLoan\", 0.0),\n",
    "        (\"Council_house\", False),\n",
    "        (\"Homeless\", False),\n",
    "        (\"Joint_ownership\", False),\n",
    "        (\"Joint_tenant\", False),\n",
    "        (\"Living_with_parents\", False),\n",
    "        (\"Mortgage\", False),\n",
    "        (\"Other\", False),\n",
    "        (\"Owner\", False),\n",
    "        (\"Owner_with_encumbrance\", True),\n",
    "        (\"Tenant\", True),\n",
    "        (\"Entrepreneur\", False),\n",
    "        (\"Fully\", False),\n",
    "        (\"Partially\", False),\n",
    "        (\"Retiree\", True),\n",
    "        (\"Self_employed\", False)]]"
   ]
  },
  {
   "cell_type": "markdown",
   "id": "e82cb625",
   "metadata": {},
   "source": [
    "We can confirm now, with the newly created `PredictionProvider` model that this input will lead to a `false` `PaidLoan` prediction:"
   ]
  },
  {
   "cell_type": "code",
   "execution_count": 20,
   "id": "8a370f7d",
   "metadata": {},
   "outputs": [
    {
     "data": {
      "text/plain": [
       "'Output{value=false, type=boolean, score=0.7835956811904907, name='PaidLoan'}'"
      ]
     },
     "execution_count": 20,
     "metadata": {},
     "output_type": "execute_result"
    }
   ],
   "source": [
    "prediction = cb_model.predictAsync([PredictionInput(features)]).get()\n",
    "prediction[0].outputs[0].toString()"
   ]
  },
  {
   "cell_type": "markdown",
   "id": "a61f25e5",
   "metadata": {},
   "source": [
    "We generate a prediction to be passed to the LIME explainer"
   ]
  },
  {
   "cell_type": "code",
   "execution_count": 21,
   "id": "3bb1be05",
   "metadata": {},
   "outputs": [],
   "source": [
    "prediction_obj = simple_prediction(input_features=features, outputs=prediction[0].outputs)"
   ]
  },
  {
   "cell_type": "markdown",
   "id": "de1cf07f",
   "metadata": {},
   "source": [
    "We execute the LIME explainer on the XGBoost model and prediction"
   ]
  },
  {
   "cell_type": "code",
   "execution_count": 22,
   "id": "f4918cbd",
   "metadata": {},
   "outputs": [],
   "source": [
    "cb_explainer = LimeExplainer(samples=100, perturbations=2, seed=23, normalise_weights=False)\n",
    "cb_explanation = cb_explainer.explain(prediction_obj, cb_model)"
   ]
  },
  {
   "cell_type": "markdown",
   "id": "549406d8",
   "metadata": {},
   "source": [
    "We output the top 2 most important features for the prediction outcome"
   ]
  },
  {
   "cell_type": "code",
   "execution_count": 23,
   "id": "cc585f63",
   "metadata": {},
   "outputs": [
    {
     "name": "stdout",
     "output_type": "stream",
     "text": [
      "FeatureImportance{feature=Feature{name='Education', type=number, value=4.0}, score=3.282586466080571, confidence= +/-0.0}\n",
      "FeatureImportance{feature=Feature{name='NrOfDependants', type=number, value=0.0}, score=-1.864816175288724, confidence= +/-0.0}\n"
     ]
    }
   ],
   "source": [
    "for f in cb_explanation.map()['PaidLoan'].getTopFeatures(2):\n",
    "    print(f)"
   ]
  },
  {
   "cell_type": "code",
   "execution_count": 25,
   "id": "49f49b52",
   "metadata": {
    "pycharm": {
     "name": "#%%\n"
    }
   },
   "outputs": [
    {
     "data": {
      "text/html": [
       "<div>\n",
       "<style scoped>\n",
       "    .dataframe tbody tr th:only-of-type {\n",
       "        vertical-align: middle;\n",
       "    }\n",
       "\n",
       "    .dataframe tbody tr th {\n",
       "        vertical-align: top;\n",
       "    }\n",
       "\n",
       "    .dataframe thead th {\n",
       "        text-align: right;\n",
       "    }\n",
       "</style>\n",
       "<table border=\"1\" class=\"dataframe\">\n",
       "  <thead>\n",
       "    <tr style=\"text-align: right;\">\n",
       "      <th></th>\n",
       "      <th>PaidLoan_features</th>\n",
       "      <th>PaidLoan_score</th>\n",
       "      <th>PaidLoan_value</th>\n",
       "      <th>PaidLoan_confidence</th>\n",
       "    </tr>\n",
       "  </thead>\n",
       "  <tbody>\n",
       "    <tr>\n",
       "      <th>0</th>\n",
       "      <td>NewCreditCustomer</td>\n",
       "      <td>-1.605224</td>\n",
       "      <td>0.00</td>\n",
       "      <td>0.0</td>\n",
       "    </tr>\n",
       "    <tr>\n",
       "      <th>1</th>\n",
       "      <td>Amount</td>\n",
       "      <td>0.484565</td>\n",
       "      <td>2125.00</td>\n",
       "      <td>0.0</td>\n",
       "    </tr>\n",
       "    <tr>\n",
       "      <th>2</th>\n",
       "      <td>Interest</td>\n",
       "      <td>0.165306</td>\n",
       "      <td>20.97</td>\n",
       "      <td>0.0</td>\n",
       "    </tr>\n",
       "    <tr>\n",
       "      <th>3</th>\n",
       "      <td>LoanDuration</td>\n",
       "      <td>-0.768934</td>\n",
       "      <td>60.00</td>\n",
       "      <td>0.0</td>\n",
       "    </tr>\n",
       "    <tr>\n",
       "      <th>4</th>\n",
       "      <td>Education</td>\n",
       "      <td>3.282586</td>\n",
       "      <td>4.00</td>\n",
       "      <td>0.0</td>\n",
       "    </tr>\n",
       "    <tr>\n",
       "      <th>5</th>\n",
       "      <td>NrOfDependants</td>\n",
       "      <td>-1.864816</td>\n",
       "      <td>0.00</td>\n",
       "      <td>0.0</td>\n",
       "    </tr>\n",
       "    <tr>\n",
       "      <th>6</th>\n",
       "      <td>EmploymentDurationCurrentEmployer</td>\n",
       "      <td>1.196610</td>\n",
       "      <td>6.00</td>\n",
       "      <td>0.0</td>\n",
       "    </tr>\n",
       "    <tr>\n",
       "      <th>7</th>\n",
       "      <td>IncomeFromPrincipalEmployer</td>\n",
       "      <td>0.812697</td>\n",
       "      <td>0.00</td>\n",
       "      <td>0.0</td>\n",
       "    </tr>\n",
       "    <tr>\n",
       "      <th>8</th>\n",
       "      <td>IncomeFromPension</td>\n",
       "      <td>-0.300951</td>\n",
       "      <td>301.00</td>\n",
       "      <td>0.0</td>\n",
       "    </tr>\n",
       "    <tr>\n",
       "      <th>9</th>\n",
       "      <td>IncomeFromFamilyAllowance</td>\n",
       "      <td>-1.560764</td>\n",
       "      <td>0.00</td>\n",
       "      <td>0.0</td>\n",
       "    </tr>\n",
       "    <tr>\n",
       "      <th>10</th>\n",
       "      <td>IncomeFromSocialWelfare</td>\n",
       "      <td>-0.010848</td>\n",
       "      <td>53.00</td>\n",
       "      <td>0.0</td>\n",
       "    </tr>\n",
       "    <tr>\n",
       "      <th>11</th>\n",
       "      <td>IncomeFromLeavePay</td>\n",
       "      <td>-0.129406</td>\n",
       "      <td>0.00</td>\n",
       "      <td>0.0</td>\n",
       "    </tr>\n",
       "    <tr>\n",
       "      <th>12</th>\n",
       "      <td>IncomeFromChildSupport</td>\n",
       "      <td>1.094789</td>\n",
       "      <td>0.00</td>\n",
       "      <td>0.0</td>\n",
       "    </tr>\n",
       "    <tr>\n",
       "      <th>13</th>\n",
       "      <td>IncomeOther</td>\n",
       "      <td>0.945468</td>\n",
       "      <td>0.00</td>\n",
       "      <td>0.0</td>\n",
       "    </tr>\n",
       "    <tr>\n",
       "      <th>14</th>\n",
       "      <td>ExistingLiabilities</td>\n",
       "      <td>-0.147790</td>\n",
       "      <td>8.00</td>\n",
       "      <td>0.0</td>\n",
       "    </tr>\n",
       "    <tr>\n",
       "      <th>15</th>\n",
       "      <td>RefinanceLiabilities</td>\n",
       "      <td>0.578735</td>\n",
       "      <td>6.00</td>\n",
       "      <td>0.0</td>\n",
       "    </tr>\n",
       "    <tr>\n",
       "      <th>16</th>\n",
       "      <td>DebtToIncome</td>\n",
       "      <td>0.562596</td>\n",
       "      <td>26.29</td>\n",
       "      <td>0.0</td>\n",
       "    </tr>\n",
       "    <tr>\n",
       "      <th>17</th>\n",
       "      <td>FreeCash</td>\n",
       "      <td>-1.241136</td>\n",
       "      <td>10.92</td>\n",
       "      <td>0.0</td>\n",
       "    </tr>\n",
       "    <tr>\n",
       "      <th>18</th>\n",
       "      <td>CreditScoreEeMini</td>\n",
       "      <td>1.528180</td>\n",
       "      <td>1000.00</td>\n",
       "      <td>0.0</td>\n",
       "    </tr>\n",
       "    <tr>\n",
       "      <th>19</th>\n",
       "      <td>NoOfPreviousLoansBeforeLoan</td>\n",
       "      <td>0.443888</td>\n",
       "      <td>1.00</td>\n",
       "      <td>0.0</td>\n",
       "    </tr>\n",
       "    <tr>\n",
       "      <th>20</th>\n",
       "      <td>AmountOfPreviousLoansBeforeLoan</td>\n",
       "      <td>-0.881605</td>\n",
       "      <td>500.00</td>\n",
       "      <td>0.0</td>\n",
       "    </tr>\n",
       "    <tr>\n",
       "      <th>21</th>\n",
       "      <td>PreviousRepaymentsBeforeLoan</td>\n",
       "      <td>-1.143805</td>\n",
       "      <td>590.95</td>\n",
       "      <td>0.0</td>\n",
       "    </tr>\n",
       "    <tr>\n",
       "      <th>22</th>\n",
       "      <td>PreviousEarlyRepaymentsBefoleLoan</td>\n",
       "      <td>0.162419</td>\n",
       "      <td>0.00</td>\n",
       "      <td>0.0</td>\n",
       "    </tr>\n",
       "    <tr>\n",
       "      <th>23</th>\n",
       "      <td>PreviousEarlyRepaymentsCountBeforeLoan</td>\n",
       "      <td>1.095744</td>\n",
       "      <td>0.00</td>\n",
       "      <td>0.0</td>\n",
       "    </tr>\n",
       "    <tr>\n",
       "      <th>24</th>\n",
       "      <td>Council_house</td>\n",
       "      <td>-0.724558</td>\n",
       "      <td>0.00</td>\n",
       "      <td>0.0</td>\n",
       "    </tr>\n",
       "    <tr>\n",
       "      <th>25</th>\n",
       "      <td>Homeless</td>\n",
       "      <td>-0.492904</td>\n",
       "      <td>0.00</td>\n",
       "      <td>0.0</td>\n",
       "    </tr>\n",
       "    <tr>\n",
       "      <th>26</th>\n",
       "      <td>Joint_ownership</td>\n",
       "      <td>1.584465</td>\n",
       "      <td>0.00</td>\n",
       "      <td>0.0</td>\n",
       "    </tr>\n",
       "    <tr>\n",
       "      <th>27</th>\n",
       "      <td>Joint_tenant</td>\n",
       "      <td>0.420845</td>\n",
       "      <td>0.00</td>\n",
       "      <td>0.0</td>\n",
       "    </tr>\n",
       "    <tr>\n",
       "      <th>28</th>\n",
       "      <td>Living_with_parents</td>\n",
       "      <td>-0.875883</td>\n",
       "      <td>0.00</td>\n",
       "      <td>0.0</td>\n",
       "    </tr>\n",
       "    <tr>\n",
       "      <th>29</th>\n",
       "      <td>Mortgage</td>\n",
       "      <td>-1.583980</td>\n",
       "      <td>0.00</td>\n",
       "      <td>0.0</td>\n",
       "    </tr>\n",
       "    <tr>\n",
       "      <th>30</th>\n",
       "      <td>Other</td>\n",
       "      <td>-0.253131</td>\n",
       "      <td>0.00</td>\n",
       "      <td>0.0</td>\n",
       "    </tr>\n",
       "    <tr>\n",
       "      <th>31</th>\n",
       "      <td>Owner</td>\n",
       "      <td>0.159048</td>\n",
       "      <td>0.00</td>\n",
       "      <td>0.0</td>\n",
       "    </tr>\n",
       "    <tr>\n",
       "      <th>32</th>\n",
       "      <td>Owner_with_encumbrance</td>\n",
       "      <td>-0.080871</td>\n",
       "      <td>1.00</td>\n",
       "      <td>0.0</td>\n",
       "    </tr>\n",
       "    <tr>\n",
       "      <th>33</th>\n",
       "      <td>Tenant</td>\n",
       "      <td>0.844265</td>\n",
       "      <td>1.00</td>\n",
       "      <td>0.0</td>\n",
       "    </tr>\n",
       "    <tr>\n",
       "      <th>34</th>\n",
       "      <td>Entrepreneur</td>\n",
       "      <td>1.417670</td>\n",
       "      <td>0.00</td>\n",
       "      <td>0.0</td>\n",
       "    </tr>\n",
       "    <tr>\n",
       "      <th>35</th>\n",
       "      <td>Fully</td>\n",
       "      <td>-0.036086</td>\n",
       "      <td>0.00</td>\n",
       "      <td>0.0</td>\n",
       "    </tr>\n",
       "    <tr>\n",
       "      <th>36</th>\n",
       "      <td>Partially</td>\n",
       "      <td>-0.815799</td>\n",
       "      <td>0.00</td>\n",
       "      <td>0.0</td>\n",
       "    </tr>\n",
       "    <tr>\n",
       "      <th>37</th>\n",
       "      <td>Retiree</td>\n",
       "      <td>-0.386546</td>\n",
       "      <td>1.00</td>\n",
       "      <td>0.0</td>\n",
       "    </tr>\n",
       "    <tr>\n",
       "      <th>38</th>\n",
       "      <td>Self_employed</td>\n",
       "      <td>-1.528299</td>\n",
       "      <td>0.00</td>\n",
       "      <td>0.0</td>\n",
       "    </tr>\n",
       "  </tbody>\n",
       "</table>\n",
       "</div>"
      ],
      "text/plain": [
       "                         PaidLoan_features  PaidLoan_score  PaidLoan_value  \\\n",
       "0                        NewCreditCustomer       -1.605224            0.00   \n",
       "1                                   Amount        0.484565         2125.00   \n",
       "2                                 Interest        0.165306           20.97   \n",
       "3                             LoanDuration       -0.768934           60.00   \n",
       "4                                Education        3.282586            4.00   \n",
       "5                           NrOfDependants       -1.864816            0.00   \n",
       "6        EmploymentDurationCurrentEmployer        1.196610            6.00   \n",
       "7              IncomeFromPrincipalEmployer        0.812697            0.00   \n",
       "8                        IncomeFromPension       -0.300951          301.00   \n",
       "9                IncomeFromFamilyAllowance       -1.560764            0.00   \n",
       "10                 IncomeFromSocialWelfare       -0.010848           53.00   \n",
       "11                      IncomeFromLeavePay       -0.129406            0.00   \n",
       "12                  IncomeFromChildSupport        1.094789            0.00   \n",
       "13                             IncomeOther        0.945468            0.00   \n",
       "14                     ExistingLiabilities       -0.147790            8.00   \n",
       "15                    RefinanceLiabilities        0.578735            6.00   \n",
       "16                            DebtToIncome        0.562596           26.29   \n",
       "17                                FreeCash       -1.241136           10.92   \n",
       "18                       CreditScoreEeMini        1.528180         1000.00   \n",
       "19             NoOfPreviousLoansBeforeLoan        0.443888            1.00   \n",
       "20         AmountOfPreviousLoansBeforeLoan       -0.881605          500.00   \n",
       "21            PreviousRepaymentsBeforeLoan       -1.143805          590.95   \n",
       "22       PreviousEarlyRepaymentsBefoleLoan        0.162419            0.00   \n",
       "23  PreviousEarlyRepaymentsCountBeforeLoan        1.095744            0.00   \n",
       "24                           Council_house       -0.724558            0.00   \n",
       "25                                Homeless       -0.492904            0.00   \n",
       "26                         Joint_ownership        1.584465            0.00   \n",
       "27                            Joint_tenant        0.420845            0.00   \n",
       "28                     Living_with_parents       -0.875883            0.00   \n",
       "29                                Mortgage       -1.583980            0.00   \n",
       "30                                   Other       -0.253131            0.00   \n",
       "31                                   Owner        0.159048            0.00   \n",
       "32                  Owner_with_encumbrance       -0.080871            1.00   \n",
       "33                                  Tenant        0.844265            1.00   \n",
       "34                            Entrepreneur        1.417670            0.00   \n",
       "35                                   Fully       -0.036086            0.00   \n",
       "36                               Partially       -0.815799            0.00   \n",
       "37                                 Retiree       -0.386546            1.00   \n",
       "38                           Self_employed       -1.528299            0.00   \n",
       "\n",
       "    PaidLoan_confidence  \n",
       "0                   0.0  \n",
       "1                   0.0  \n",
       "2                   0.0  \n",
       "3                   0.0  \n",
       "4                   0.0  \n",
       "5                   0.0  \n",
       "6                   0.0  \n",
       "7                   0.0  \n",
       "8                   0.0  \n",
       "9                   0.0  \n",
       "10                  0.0  \n",
       "11                  0.0  \n",
       "12                  0.0  \n",
       "13                  0.0  \n",
       "14                  0.0  \n",
       "15                  0.0  \n",
       "16                  0.0  \n",
       "17                  0.0  \n",
       "18                  0.0  \n",
       "19                  0.0  \n",
       "20                  0.0  \n",
       "21                  0.0  \n",
       "22                  0.0  \n",
       "23                  0.0  \n",
       "24                  0.0  \n",
       "25                  0.0  \n",
       "26                  0.0  \n",
       "27                  0.0  \n",
       "28                  0.0  \n",
       "29                  0.0  \n",
       "30                  0.0  \n",
       "31                  0.0  \n",
       "32                  0.0  \n",
       "33                  0.0  \n",
       "34                  0.0  \n",
       "35                  0.0  \n",
       "36                  0.0  \n",
       "37                  0.0  \n",
       "38                  0.0  "
      ]
     },
     "execution_count": 25,
     "metadata": {},
     "output_type": "execute_result"
    }
   ],
   "source": [
    "cb_explanation.as_dataframe()"
   ]
  },
  {
   "cell_type": "code",
   "execution_count": 26,
   "id": "d7052b9f",
   "metadata": {
    "pycharm": {
     "name": "#%%\n"
    }
   },
   "outputs": [
    {
     "data": {
      "image/png": "[encoded data removed]",
      "text/plain": [
       "<Figure size 1600x900 with 1 Axes>"
      ]
     },
     "metadata": {},
     "output_type": "display_data"
    }
   ],
   "source": [
    "cb_explanation.plot('PaidLoan')"
   ]
  },
  {
   "cell_type": "code",
   "execution_count": null,
   "id": "6466635d",
   "metadata": {
    "pycharm": {
     "name": "#%%\n"
    }
   },
   "outputs": [],
   "source": []
  }
 ],
 "metadata": {
  "kernelspec": {
   "display_name": "trustyai-python-module",
   "language": "python",
   "name": "trustyai-python-module"
  },
  "language_info": {
   "codemirror_mode": {
    "name": "ipython",
    "version": 3
   },
   "file_extension": ".py",
   "mimetype": "text/x-python",
   "name": "python",
   "nbconvert_exporter": "python",
   "pygments_lexer": "ipython3",
   "version": "3.7.13"
  }
 },
 "nbformat": 4,
 "nbformat_minor": 5
}
