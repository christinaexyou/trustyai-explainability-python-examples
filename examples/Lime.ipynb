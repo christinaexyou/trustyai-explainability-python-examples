{
 "cells": [
  {
   "cell_type": "code",
   "execution_count": 11,
   "id": "7cab43eb",
   "metadata": {},
   "outputs": [
    {
     "name": "stdout",
     "output_type": "stream",
     "text": [
      "Note: you may need to restart the kernel to use updated packages.\n"
     ]
    }
   ],
   "source": [
    "%pip install -r ../requirements-examples.txt --quiet"
   ]
  },
  {
   "cell_type": "markdown",
   "metadata": {},
   "source": [
    "# LIME explanations"
   ]
  },
  {
   "cell_type": "markdown",
   "metadata": {},
   "source": [
    "## Simple example\n",
    "\n",
    "We start by defining our black-box model, typically represented by\n",
    "\n",
    "$$\n",
    "f(\\mathbf{x}) = \\mathbf{y}\n",
    "$$\n",
    "\n",
    "Where $\\mathbf{x}=\\{x_1, x_2, \\dots,x_m\\}$ and $\\mathbf{y}=\\{y_1, y_2, \\dots,y_n\\}$.\n",
    "\n",
    "Our example toy model, in this case, takes an all-numerical input $\\mathbf{x}$ and return a $\\mathbf{y}$ of either `true` or `false` if the sum of the $\\mathbf{x}$ components is within a threshold $\\epsilon$ of a point $\\mathbf{C}$, that is:\n",
    "\n",
    "$$\n",
    "f(\\mathbf{x}, \\epsilon, \\mathbf{C})=\\begin{cases}\n",
    "\\text{true},\\qquad \\text{if}\\ \\mathbf{C}-\\epsilon<\\sum_{i=1}^m x_i <\\mathbf{C}+\\epsilon \\\\\n",
    "\\text{false},\\qquad \\text{otherwise}\n",
    "\\end{cases}\n",
    "$$\n",
    "\n",
    "This model is provided in the `TestUtils` module. We instantiate with a $\\mathbf{C}=500$ and $\\epsilon=1.0$."
   ]
  },
  {
   "cell_type": "code",
   "execution_count": 1,
   "metadata": {},
   "outputs": [],
   "source": [
    "from trustyai.utils import TestModels\n",
    "\n",
    "center = 10.0\n",
    "epsilon = 2.0\n",
    "\n",
    "model = TestModels.getSumThresholdModel(center, epsilon)"
   ]
  },
  {
   "cell_type": "markdown",
   "metadata": {},
   "source": [
    "Next we need to define a **goal**.\n",
    "If our model is $f(\\mathbf{x'})=\\mathbf{y'}$ we are then defining our $\\mathbf{y'}$ and the counterfactual result will be the $\\mathbf{x'}$ which satisfies $f(\\mathbf{x'})=\\mathbf{y'}$.\n",
    "\n",
    "We will define our goal as `true`, that is, the sum is withing the vicinity of a (to be defined) point $\\mathbf{C}$. The goal is a list of `Output` which take the following parameters\n",
    "\n",
    "- The feature name\n",
    "- The feature type\n",
    "- The feature value (wrapped in `Value`)\n",
    "- A confidence threshold, which we will leave at zero (no threshold)"
   ]
  },
  {
   "cell_type": "code",
   "execution_count": 2,
   "metadata": {},
   "outputs": [],
   "source": [
    "from trustyai.model import output\n",
    "\n",
    "decision = \"inside\"\n",
    "goal = [output(name=decision, dtype=\"bool\", value=True, score=0.0)]"
   ]
  },
  {
   "cell_type": "markdown",
   "metadata": {},
   "source": [
    "We will now define our initial features, $\\mathbf{x}$. Each feature can be instantiated by using `FeatureFactory` and in this case we want to use numerical features, so we'll use `FeatureFactory.newNumericalFeature`."
   ]
  },
  {
   "cell_type": "code",
   "execution_count": 3,
   "metadata": {},
   "outputs": [],
   "source": [
    "import random\n",
    "from trustyai.model import feature\n",
    "\n",
    "features = [feature(name=f\"x{i+1}\", dtype=\"number\", value=random.random()*10.0) for i in range(3)]"
   ]
  },
  {
   "cell_type": "markdown",
   "metadata": {},
   "source": [
    "As we can see, the sum of of the features will not be within $\\epsilon$ (1.0) of $\\mathbf{C}$ (500.0). As such the model prediction will be `false`:"
   ]
  },
  {
   "cell_type": "code",
   "execution_count": 4,
   "metadata": {},
   "outputs": [
    {
     "name": "stdout",
     "output_type": "stream",
     "text": [
      "Feature x1 has value 4.6906326936080145\n",
      "Feature x2 has value 1.3221951955309186\n",
      "Feature x3 has value 4.332170525737446\n",
      "\n",
      "Features sum is 10.344998414876379\n"
     ]
    }
   ],
   "source": [
    "feature_sum = 0.0\n",
    "for f in features:\n",
    "    value = f.value.as_number()\n",
    "    print(f\"Feature {f.name} has value {value}\")\n",
    "    feature_sum += value\n",
    "print(f\"\\nFeatures sum is {feature_sum}\")"
   ]
  },
  {
   "cell_type": "markdown",
   "metadata": {},
   "source": [
    "We execute the model on the generated input and collect the output"
   ]
  },
  {
   "cell_type": "code",
   "execution_count": 5,
   "metadata": {
    "pycharm": {
     "name": "#%%\n"
    }
   },
   "outputs": [
    {
     "data": {
      "text/plain": [
       "'Output{value=true, type=boolean, score=1.655001585123621, name='inside'}'"
      ]
     },
     "execution_count": 5,
     "metadata": {},
     "output_type": "execute_result"
    }
   ],
   "source": [
    "from org.kie.trustyai.explainability.model import PredictionInput, PredictionOutput\n",
    "\n",
    "goals = model.predictAsync([PredictionInput(features)]).get()\n",
    "goals[0].outputs.get(0).toString()"
   ]
  },
  {
   "cell_type": "markdown",
   "metadata": {
    "pycharm": {
     "name": "#%% md\n"
    }
   },
   "source": [
    "We can now instantiate the **explainer** itself.\n"
   ]
  },
  {
   "cell_type": "code",
   "execution_count": 6,
   "metadata": {},
   "outputs": [],
   "source": [
    "from trustyai.explainers import LimeExplainer\n",
    "\n",
    "explainer = LimeExplainer(samples=10)"
   ]
  },
  {
   "cell_type": "markdown",
   "metadata": {
    "pycharm": {
     "name": "#%% md\n"
    }
   },
   "source": [
    "We generate the **explanation** as a _dict : decision --> saliency_.\n"
   ]
  },
  {
   "cell_type": "code",
   "execution_count": 7,
   "metadata": {
    "pycharm": {
     "name": "#%%\n"
    }
   },
   "outputs": [
    {
     "name": "stderr",
     "output_type": "stream",
     "text": [
      "[ForkJoinPool.commonPool-worker-2] WARN org.kie.trustyai.explainability.local.lime.LimeExplainer - Using a hardly separable dataset for output 'inside' of type 'boolean' with value 'true' ({1.0=38})\n"
     ]
    }
   ],
   "source": [
    "explanation = explainer.explain(inputs=features, outputs=goals[0].outputs, model=model)"
   ]
  },
  {
   "cell_type": "code",
   "execution_count": 8,
   "metadata": {},
   "outputs": [
    {
     "data": {
      "text/html": [
       "<div>\n",
       "<style scoped>\n",
       "    .dataframe tbody tr th:only-of-type {\n",
       "        vertical-align: middle;\n",
       "    }\n",
       "\n",
       "    .dataframe tbody tr th {\n",
       "        vertical-align: top;\n",
       "    }\n",
       "\n",
       "    .dataframe thead th {\n",
       "        text-align: right;\n",
       "    }\n",
       "</style>\n",
       "<table border=\"1\" class=\"dataframe\">\n",
       "  <thead>\n",
       "    <tr style=\"text-align: right;\">\n",
       "      <th></th>\n",
       "      <th>Feature</th>\n",
       "      <th>Value</th>\n",
       "      <th>Saliency</th>\n",
       "      <th>Confidence</th>\n",
       "    </tr>\n",
       "  </thead>\n",
       "  <tbody>\n",
       "    <tr>\n",
       "      <th>0</th>\n",
       "      <td>x1</td>\n",
       "      <td>4.690633</td>\n",
       "      <td>0.425266</td>\n",
       "      <td>0.0</td>\n",
       "    </tr>\n",
       "    <tr>\n",
       "      <th>1</th>\n",
       "      <td>x2</td>\n",
       "      <td>1.322195</td>\n",
       "      <td>0.352752</td>\n",
       "      <td>0.0</td>\n",
       "    </tr>\n",
       "    <tr>\n",
       "      <th>2</th>\n",
       "      <td>x3</td>\n",
       "      <td>4.332171</td>\n",
       "      <td>0.513838</td>\n",
       "      <td>0.0</td>\n",
       "    </tr>\n",
       "  </tbody>\n",
       "</table>\n",
       "</div>"
      ],
      "text/plain": [
       "  Feature     Value  Saliency  Confidence\n",
       "0      x1  4.690633  0.425266         0.0\n",
       "1      x2  1.322195  0.352752         0.0\n",
       "2      x3  4.332171  0.513838         0.0"
      ]
     },
     "execution_count": 8,
     "metadata": {},
     "output_type": "execute_result"
    }
   ],
   "source": [
    "explanation.as_dataframe()['inside']"
   ]
  },
  {
   "cell_type": "markdown",
   "metadata": {
    "pycharm": {
     "name": "#%% md\n"
    }
   },
   "source": [
    "We inspect the saliency scores assigned by LIME to each feature"
   ]
  },
  {
   "cell_type": "markdown",
   "metadata": {},
   "source": [
    "We generate the saliency graph with the builtin method `plot(decision)`:"
   ]
  },
  {
   "cell_type": "code",
   "execution_count": 9,
   "metadata": {},
   "outputs": [
    {
     "data": {
      "image/png": "[encoded data removed]",
      "text/plain": [
       "<Figure size 1600x900 with 1 Axes>"
      ]
     },
     "metadata": {},
     "output_type": "display_data"
    }
   ],
   "source": [
    "explanation.plot(decision)"
   ]
  },
  {
   "cell_type": "markdown",
   "metadata": {},
   "source": [
    "## Using Python models\n",
    "\n"
   ]
  },
  {
   "cell_type": "markdown",
   "metadata": {},
   "source": [
    "We will now show how to use a custom Python model with TrustyAI LIME implementation.\n",
    "\n",
    "The model will be an XGBoost one trained with the `credit-bias` dataset.\n",
    "\n",
    "For convenience, the model is pre-trained and serialised with `joblib` so that for this example we simply need to deserialised it."
   ]
  },
  {
   "cell_type": "code",
   "execution_count": 12,
   "metadata": {},
   "outputs": [
    {
     "name": "stdout",
     "output_type": "stream",
     "text": [
      "XGBClassifier(base_score=0.5, booster='gbtree', colsample_bylevel=1,\n",
      "              colsample_bynode=1, colsample_bytree=1, gamma=0, gpu_id=-1,\n",
      "              importance_type='gain', interaction_constraints='',\n",
      "              learning_rate=0.07, max_delta_step=0, max_depth=8,\n",
      "              min_child_weight=1, missing=nan, monotone_constraints='()',\n",
      "              n_estimators=200, n_jobs=12, num_parallel_tree=1, random_state=27,\n",
      "              reg_alpha=0, reg_lambda=1, scale_pos_weight=0.9861206227457426,\n",
      "              seed=27, subsample=1, tree_method='exact', validate_parameters=1,\n",
      "              verbosity=None)\n"
     ]
    }
   ],
   "source": [
    "import joblib\n",
    "\n",
    "xg_model = joblib.load(\"models/credit-bias-xgboost.joblib\")\n",
    "print(xg_model)"
   ]
  },
  {
   "cell_type": "markdown",
   "metadata": {},
   "source": [
    "This model has as a single **output** a boolean `PaidLoan`, which will predict whether a certain loan applicant will repay the loan in time or not. The model is slightly more complex than the previous examples, with **input** features:\n",
    "\n",
    "|Input feature         | Type    | Note        |\n",
    "|----------------------|---------|-------------|\n",
    "|`NewCreditCustomer`   |boolean  ||\n",
    "|`Amount`              |numerical||\n",
    "|`Interest`            |numerical||\n",
    "|`LoanDuration`        |numerical|In months|\n",
    "|`Education`           |numerical|Level (1, 2, 3..)|\n",
    "|`NrOfDependants`      |numerical|Integer|\n",
    "|`EmploymentDurationCurrentEmployer`|numerical|Integer (years)|\n",
    "|`IncomeFromPrincipalEmployer`|numerical||\n",
    "|`IncomeFromPension`   |numerical||\n",
    "|`IncomeFromFamilyAllowance`|numerical||\n",
    "|`IncomeFromSocialWelfare`|numerical||\n",
    "|`IncomeFromLeavePay`|numerical||\n",
    "|`IncomeFromChildSupport`|numerical||\n",
    "|`IncomeOther`|numerical||\n",
    "|`ExistingLiabilities`|numerical|integer|\n",
    "|`RefinanceLiabilities`|numerical|integer|\n",
    "|`DebtToIncome`|numerical||\n",
    "|`FreeCash`|numerical||\n",
    "|`CreditScoreEeMini`|numerical|integer|\n",
    "|`NoOfPreviousLoansBeforeLoan`|numerical|integer|\n",
    "|`AmountOfPreviousLoansBeforeLoan`|numerical||\n",
    "|`PreviousRepaymentsBeforeLoan`|numerical||\n",
    "|`PreviousEarlyRepaymentsBefoleLoan`|numerical||\n",
    "|`PreviousEarlyRepaymentsCountBeforeLoan`|numerical|integer|\n",
    "|`Council_house`|boolean||\n",
    "|`Homeless`|boolean||\n",
    "|`Joint_ownership`|boolean||\n",
    "|`Joint_tenant`|boolean||\n",
    "|`Living_with_parents`|boolean||\n",
    "|`Mortgage`|boolean||\n",
    "|`Other`|boolean||\n",
    "|`Owner`|boolean||\n",
    "|`Owner_with_encumbrance`|boolean||\n",
    "|`Tenant`|boolean||\n",
    "|`Entrepreneur`|boolean||\n",
    "|`Fully`|boolean||\n",
    "|`Partially`|boolean||\n",
    "|`Retiree`|boolean||\n",
    "|`Self_employed`|boolean||\n",
    "\n",
    "Let's create and test a sample datapoint:"
   ]
  },
  {
   "cell_type": "code",
   "execution_count": 13,
   "metadata": {},
   "outputs": [
    {
     "data": {
      "text/html": [
       "<div>\n",
       "<style scoped>\n",
       "    .dataframe tbody tr th:only-of-type {\n",
       "        vertical-align: middle;\n",
       "    }\n",
       "\n",
       "    .dataframe tbody tr th {\n",
       "        vertical-align: top;\n",
       "    }\n",
       "\n",
       "    .dataframe thead th {\n",
       "        text-align: right;\n",
       "    }\n",
       "</style>\n",
       "<table border=\"1\" class=\"dataframe\">\n",
       "  <thead>\n",
       "    <tr style=\"text-align: right;\">\n",
       "      <th></th>\n",
       "      <th>NewCreditCustomer</th>\n",
       "      <th>Amount</th>\n",
       "      <th>Interest</th>\n",
       "      <th>LoanDuration</th>\n",
       "      <th>Education</th>\n",
       "      <th>NrOfDependants</th>\n",
       "      <th>EmploymentDurationCurrentEmployer</th>\n",
       "      <th>IncomeFromPrincipalEmployer</th>\n",
       "      <th>IncomeFromPension</th>\n",
       "      <th>IncomeFromFamilyAllowance</th>\n",
       "      <th>...</th>\n",
       "      <th>Mortgage</th>\n",
       "      <th>Other</th>\n",
       "      <th>Owner</th>\n",
       "      <th>Owner_with_encumbrance</th>\n",
       "      <th>Tenant</th>\n",
       "      <th>Entrepreneur</th>\n",
       "      <th>Fully</th>\n",
       "      <th>Partially</th>\n",
       "      <th>Retiree</th>\n",
       "      <th>Self_employed</th>\n",
       "    </tr>\n",
       "  </thead>\n",
       "  <tbody>\n",
       "    <tr>\n",
       "      <th>0</th>\n",
       "      <td>False</td>\n",
       "      <td>2125.0</td>\n",
       "      <td>20.97</td>\n",
       "      <td>60.0</td>\n",
       "      <td>4.0</td>\n",
       "      <td>0.0</td>\n",
       "      <td>6.0</td>\n",
       "      <td>0.0</td>\n",
       "      <td>301.0</td>\n",
       "      <td>0.0</td>\n",
       "      <td>...</td>\n",
       "      <td>False</td>\n",
       "      <td>False</td>\n",
       "      <td>False</td>\n",
       "      <td>True</td>\n",
       "      <td>True</td>\n",
       "      <td>False</td>\n",
       "      <td>False</td>\n",
       "      <td>False</td>\n",
       "      <td>True</td>\n",
       "      <td>False</td>\n",
       "    </tr>\n",
       "  </tbody>\n",
       "</table>\n",
       "<p>1 rows × 39 columns</p>\n",
       "</div>"
      ],
      "text/plain": [
       "   NewCreditCustomer  Amount  Interest  LoanDuration  Education  \\\n",
       "0              False  2125.0     20.97          60.0        4.0   \n",
       "\n",
       "   NrOfDependants  EmploymentDurationCurrentEmployer  \\\n",
       "0             0.0                                6.0   \n",
       "\n",
       "   IncomeFromPrincipalEmployer  IncomeFromPension  IncomeFromFamilyAllowance  \\\n",
       "0                          0.0              301.0                        0.0   \n",
       "\n",
       "   ...  Mortgage  Other  Owner  Owner_with_encumbrance  Tenant  Entrepreneur  \\\n",
       "0  ...     False  False  False                    True    True         False   \n",
       "\n",
       "   Fully  Partially  Retiree  Self_employed  \n",
       "0  False      False     True          False  \n",
       "\n",
       "[1 rows x 39 columns]"
      ]
     },
     "execution_count": 13,
     "metadata": {},
     "output_type": "execute_result"
    }
   ],
   "source": [
    "import pandas as pd\n",
    "\n",
    "feature_values = {\n",
    "        \"NewCreditCustomer\": False,\n",
    "        \"Amount\": 2125.0,\n",
    "        \"Interest\": 20.97,\n",
    "        \"LoanDuration\": 60.0,\n",
    "        \"Education\": 4.0,\n",
    "        \"NrOfDependants\": 0.0,\n",
    "        \"EmploymentDurationCurrentEmployer\": 6.0,\n",
    "        \"IncomeFromPrincipalEmployer\": 0.0,\n",
    "        \"IncomeFromPension\": 301.0,\n",
    "        \"IncomeFromFamilyAllowance\": 0.0,\n",
    "        \"IncomeFromSocialWelfare\": 53.0,\n",
    "        \"IncomeFromLeavePay\": 0.0,\n",
    "        \"IncomeFromChildSupport\": 0.0,\n",
    "        \"IncomeOther\": 0.0,\n",
    "        \"ExistingLiabilities\": 8.0,\n",
    "        \"RefinanceLiabilities\": 6.0,\n",
    "        \"DebtToIncome\": 26.29,\n",
    "        \"FreeCash\": 10.92,\n",
    "        \"CreditScoreEeMini\": 1000.0,\n",
    "        \"NoOfPreviousLoansBeforeLoan\": 1.0,\n",
    "        \"AmountOfPreviousLoansBeforeLoan\": 500.0,\n",
    "        \"PreviousRepaymentsBeforeLoan\": 590.95,\n",
    "        \"PreviousEarlyRepaymentsBefoleLoan\": 0.0,\n",
    "        \"PreviousEarlyRepaymentsCountBeforeLoan\": 0.0,\n",
    "        \"Council_house\": False,\n",
    "        \"Homeless\": False,\n",
    "        \"Joint_ownership\": False,\n",
    "        \"Joint_tenant\": False,\n",
    "        \"Living_with_parents\": False,\n",
    "        \"Mortgage\": False,\n",
    "        \"Other\": False,\n",
    "        \"Owner\": False,\n",
    "        \"Owner_with_encumbrance\": True,\n",
    "        \"Tenant\": True,\n",
    "        \"Entrepreneur\": False,\n",
    "        \"Fully\": False,\n",
    "        \"Partially\": False,\n",
    "        \"Retiree\": True,\n",
    "        \"Self_employed\": False\n",
    "}\n",
    "\n",
    "feature_df = pd.DataFrame([feature_values])\n",
    "feature_df"
   ]
  },
  {
   "cell_type": "markdown",
   "metadata": {},
   "source": [
    "We can see that this application will be rejected with a probability of $\\sim77\\%$:"
   ]
  },
  {
   "cell_type": "code",
   "execution_count": 14,
   "metadata": {},
   "outputs": [
    {
     "name": "stdout",
     "output_type": "stream",
     "text": [
      "[[0.7835957  0.21640435]]\n",
      "Paid loan is predicted as: [False]\n"
     ]
    }
   ],
   "source": [
    "import numpy as np\n",
    "\n",
    "print(xg_model.predict_proba(feature_df))\n",
    "print(f\"Paid loan is predicted as: {xg_model.predict(feature_df)}\")"
   ]
  },
  {
   "cell_type": "markdown",
   "metadata": {},
   "source": [
    "We will now prepare the XGBoost model to be used from the TrustyAI. Since our model outputs a Numpy array, we need to specify the column names of the output. Additionally, we must make sure our model's outputs are of shape `[n_inputs, n_outputs]`, which we can do by wrapping the model output into a DataFrame:"
   ]
  },
  {
   "cell_type": "markdown",
   "metadata": {},
   "source": [
    "Once the prediction method is created, we wrap in a `Model` class.\n",
    "\n",
    "This class takes care of all the JVM's asynchronous plumbing for us."
   ]
  },
  {
   "cell_type": "code",
   "execution_count": 15,
   "metadata": {},
   "outputs": [],
   "source": [
    "from trustyai.model import Model\n",
    "\n",
    "model = Model(xg_model.predict, output_names=['PaidLoan'])"
   ]
  },
  {
   "cell_type": "markdown",
   "metadata": {},
   "source": [
    "We can confirm now, with the newly created `PredictionProvider` model that this input will lead to a `false` `PaidLoan` prediction:"
   ]
  },
  {
   "cell_type": "code",
   "execution_count": 16,
   "metadata": {},
   "outputs": [
    {
     "data": {
      "text/plain": [
       "array([False])"
      ]
     },
     "execution_count": 16,
     "metadata": {},
     "output_type": "execute_result"
    }
   ],
   "source": [
    "output = model(feature_df)\n",
    "output"
   ]
  },
  {
   "cell_type": "markdown",
   "metadata": {},
   "source": [
    "We execute the LIME explainer on the XGBoost model and prediction"
   ]
  },
  {
   "cell_type": "code",
   "execution_count": 17,
   "metadata": {},
   "outputs": [
    {
     "name": "stderr",
     "output_type": "stream",
     "text": [
      "[main] INFO org.apache.arrow.memory.BaseAllocator - Debug mode disabled.\n",
      "[main] INFO org.apache.arrow.memory.DefaultAllocationManagerOption - allocation manager type not specified, using netty as the default type\n",
      "[main] INFO org.apache.arrow.memory.CheckAllocator - Using DefaultAllocationManager at memory/DefaultAllocationManagerFactory.class\n",
      "[ForkJoinPool.commonPool-worker-2] WARN org.kie.trustyai.explainability.local.lime.LimeExplainer - Using a hardly separable dataset for output 'PaidLoan' of type 'boolean' with value '0' ({0.0=398})\n"
     ]
    }
   ],
   "source": [
    "from trustyai.explainers import LimeExplainer\n",
    "\n",
    "explainer = LimeExplainer(samples=100, perturbations=2, seed=23, normalise_weights=False)\n",
    "explanation = explainer.explain(inputs=feature_df, outputs=output, model=model)"
   ]
  },
  {
   "cell_type": "markdown",
   "metadata": {},
   "source": [
    "We output the top 2 most important features for the prediction outcome"
   ]
  },
  {
   "cell_type": "code",
   "execution_count": 18,
   "metadata": {},
   "outputs": [
    {
     "data": {
      "text/html": [
       "<div>\n",
       "<style scoped>\n",
       "    .dataframe tbody tr th:only-of-type {\n",
       "        vertical-align: middle;\n",
       "    }\n",
       "\n",
       "    .dataframe tbody tr th {\n",
       "        vertical-align: top;\n",
       "    }\n",
       "\n",
       "    .dataframe thead th {\n",
       "        text-align: right;\n",
       "    }\n",
       "</style>\n",
       "<table border=\"1\" class=\"dataframe\">\n",
       "  <thead>\n",
       "    <tr style=\"text-align: right;\">\n",
       "      <th></th>\n",
       "      <th>Feature</th>\n",
       "      <th>Value</th>\n",
       "      <th>Saliency</th>\n",
       "      <th>Confidence</th>\n",
       "    </tr>\n",
       "  </thead>\n",
       "  <tbody>\n",
       "    <tr>\n",
       "      <th>0</th>\n",
       "      <td>Fully</td>\n",
       "      <td>0.0</td>\n",
       "      <td>-9.039604e-10</td>\n",
       "      <td>0.0</td>\n",
       "    </tr>\n",
       "    <tr>\n",
       "      <th>2</th>\n",
       "      <td>Owner</td>\n",
       "      <td>0.0</td>\n",
       "      <td>-5.065592e-10</td>\n",
       "      <td>0.0</td>\n",
       "    </tr>\n",
       "    <tr>\n",
       "      <th>5</th>\n",
       "      <td>Homeless</td>\n",
       "      <td>0.0</td>\n",
       "      <td>-3.075532e-10</td>\n",
       "      <td>0.0</td>\n",
       "    </tr>\n",
       "    <tr>\n",
       "      <th>1</th>\n",
       "      <td>IncomeFromChildSupport</td>\n",
       "      <td>0.0</td>\n",
       "      <td>2.827385e-10</td>\n",
       "      <td>0.0</td>\n",
       "    </tr>\n",
       "    <tr>\n",
       "      <th>4</th>\n",
       "      <td>LoanDuration</td>\n",
       "      <td>60.0</td>\n",
       "      <td>5.266562e-10</td>\n",
       "      <td>0.0</td>\n",
       "    </tr>\n",
       "    <tr>\n",
       "      <th>3</th>\n",
       "      <td>Self_employed</td>\n",
       "      <td>0.0</td>\n",
       "      <td>6.746940e-10</td>\n",
       "      <td>0.0</td>\n",
       "    </tr>\n",
       "  </tbody>\n",
       "</table>\n",
       "</div>"
      ],
      "text/plain": [
       "                  Feature  Value      Saliency  Confidence\n",
       "0                   Fully    0.0 -9.039604e-10         0.0\n",
       "2                   Owner    0.0 -5.065592e-10         0.0\n",
       "5                Homeless    0.0 -3.075532e-10         0.0\n",
       "1  IncomeFromChildSupport    0.0  2.827385e-10         0.0\n",
       "4            LoanDuration   60.0  5.266562e-10         0.0\n",
       "3           Self_employed    0.0  6.746940e-10         0.0"
      ]
     },
     "execution_count": 18,
     "metadata": {},
     "output_type": "execute_result"
    }
   ],
   "source": [
    "explanation.as_dataframe()['PaidLoan'].sort_values(by=\"Saliency\")"
   ]
  },
  {
   "cell_type": "code",
   "execution_count": 19,
   "metadata": {
    "pycharm": {
     "name": "#%%\n"
    }
   },
   "outputs": [
    {
     "data": {
      "text/html": [
       "<div>\n",
       "<style scoped>\n",
       "    .dataframe tbody tr th:only-of-type {\n",
       "        vertical-align: middle;\n",
       "    }\n",
       "\n",
       "    .dataframe tbody tr th {\n",
       "        vertical-align: top;\n",
       "    }\n",
       "\n",
       "    .dataframe thead th {\n",
       "        text-align: right;\n",
       "    }\n",
       "</style>\n",
       "<table border=\"1\" class=\"dataframe\">\n",
       "  <thead>\n",
       "    <tr style=\"text-align: right;\">\n",
       "      <th></th>\n",
       "      <th>Feature</th>\n",
       "      <th>Value</th>\n",
       "      <th>Saliency</th>\n",
       "      <th>Confidence</th>\n",
       "    </tr>\n",
       "  </thead>\n",
       "  <tbody>\n",
       "    <tr>\n",
       "      <th>0</th>\n",
       "      <td>Fully</td>\n",
       "      <td>0.0</td>\n",
       "      <td>-9.039604e-10</td>\n",
       "      <td>0.0</td>\n",
       "    </tr>\n",
       "    <tr>\n",
       "      <th>1</th>\n",
       "      <td>IncomeFromChildSupport</td>\n",
       "      <td>0.0</td>\n",
       "      <td>2.827385e-10</td>\n",
       "      <td>0.0</td>\n",
       "    </tr>\n",
       "    <tr>\n",
       "      <th>2</th>\n",
       "      <td>Owner</td>\n",
       "      <td>0.0</td>\n",
       "      <td>-5.065592e-10</td>\n",
       "      <td>0.0</td>\n",
       "    </tr>\n",
       "    <tr>\n",
       "      <th>3</th>\n",
       "      <td>Self_employed</td>\n",
       "      <td>0.0</td>\n",
       "      <td>6.746940e-10</td>\n",
       "      <td>0.0</td>\n",
       "    </tr>\n",
       "    <tr>\n",
       "      <th>4</th>\n",
       "      <td>LoanDuration</td>\n",
       "      <td>60.0</td>\n",
       "      <td>5.266562e-10</td>\n",
       "      <td>0.0</td>\n",
       "    </tr>\n",
       "    <tr>\n",
       "      <th>5</th>\n",
       "      <td>Homeless</td>\n",
       "      <td>0.0</td>\n",
       "      <td>-3.075532e-10</td>\n",
       "      <td>0.0</td>\n",
       "    </tr>\n",
       "  </tbody>\n",
       "</table>\n",
       "</div>"
      ],
      "text/plain": [
       "                  Feature  Value      Saliency  Confidence\n",
       "0                   Fully    0.0 -9.039604e-10         0.0\n",
       "1  IncomeFromChildSupport    0.0  2.827385e-10         0.0\n",
       "2                   Owner    0.0 -5.065592e-10         0.0\n",
       "3           Self_employed    0.0  6.746940e-10         0.0\n",
       "4            LoanDuration   60.0  5.266562e-10         0.0\n",
       "5                Homeless    0.0 -3.075532e-10         0.0"
      ]
     },
     "execution_count": 19,
     "metadata": {},
     "output_type": "execute_result"
    }
   ],
   "source": [
    "explanation.as_dataframe()['PaidLoan']"
   ]
  },
  {
   "cell_type": "code",
   "execution_count": 20,
   "metadata": {
    "pycharm": {
     "name": "#%%\n"
    }
   },
   "outputs": [
    {
     "data": {
      "image/png": "[encoded data removed]",
      "text/plain": [
       "<Figure size 1600x900 with 1 Axes>"
      ]
     },
     "metadata": {},
     "output_type": "display_data"
    }
   ],
   "source": [
    "explanation.plot('PaidLoan')"
   ]
  }
 ],
 "metadata": {
  "kernelspec": {
   "display_name": "Python 3",
   "language": "python",
   "name": "python3"
  },
  "language_info": {
   "codemirror_mode": {
    "name": "ipython",
    "version": 3
   },
   "file_extension": ".py",
   "mimetype": "text/x-python",
   "name": "python",
   "nbconvert_exporter": "python",
   "pygments_lexer": "ipython3",
   "version": "3.10.10"
  },
  "toc": {
   "base_numbering": 1,
   "nav_menu": {},
   "number_sections": true,
   "sideBar": true,
   "skip_h1_title": false,
   "title_cell": "Table of Contents",
   "title_sidebar": "Contents",
   "toc_cell": false,
   "toc_position": {},
   "toc_section_display": true,
   "toc_window_display": false
  }
 },
 "nbformat": 4,
 "nbformat_minor": 5
}
