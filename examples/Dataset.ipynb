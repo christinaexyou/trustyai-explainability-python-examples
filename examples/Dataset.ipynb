{
 "cells": [
  {
   "cell_type": "code",
   "execution_count": 1,
   "id": "80020676",
   "metadata": {},
   "outputs": [],
   "source": [
    "import numpy as np\n",
    "import pandas as pd\n",
    "import uuid"
   ]
  },
  {
   "cell_type": "markdown",
   "id": "3c985fd3",
   "metadata": {},
   "source": [
    "# From Pandas dataframes"
   ]
  },
  {
   "cell_type": "code",
   "execution_count": 2,
   "id": "99d80e96",
   "metadata": {},
   "outputs": [],
   "source": [
    "data = {\n",
    "        'x1': np.random.uniform(low=100, high=200, size=100),\n",
    "        'x2': np.random.uniform(low=5000, high=10000, size=100),\n",
    "        'x3': [str(uuid.uuid4()) for _ in range(100)],\n",
    "        'x4': np.random.randint(low=0, high=42, size=100),\n",
    "        'select': np.random.choice(a=[False, True], size=100)\n",
    "}\n",
    "df = pd.DataFrame(data=data)"
   ]
  },
  {
   "cell_type": "code",
   "execution_count": 3,
   "id": "b9f107c4",
   "metadata": {},
   "outputs": [
    {
     "data": {
      "text/html": [
       "<div>\n",
       "<style scoped>\n",
       "    .dataframe tbody tr th:only-of-type {\n",
       "        vertical-align: middle;\n",
       "    }\n",
       "\n",
       "    .dataframe tbody tr th {\n",
       "        vertical-align: top;\n",
       "    }\n",
       "\n",
       "    .dataframe thead th {\n",
       "        text-align: right;\n",
       "    }\n",
       "</style>\n",
       "<table border=\"1\" class=\"dataframe\">\n",
       "  <thead>\n",
       "    <tr style=\"text-align: right;\">\n",
       "      <th></th>\n",
       "      <th>x1</th>\n",
       "      <th>x2</th>\n",
       "      <th>x3</th>\n",
       "      <th>x4</th>\n",
       "      <th>select</th>\n",
       "    </tr>\n",
       "  </thead>\n",
       "  <tbody>\n",
       "    <tr>\n",
       "      <th>0</th>\n",
       "      <td>162.181280</td>\n",
       "      <td>8288.079075</td>\n",
       "      <td>a95fc8ff-c9d5-430e-b5f4-4bbe12d28ac2</td>\n",
       "      <td>32</td>\n",
       "      <td>False</td>\n",
       "    </tr>\n",
       "    <tr>\n",
       "      <th>1</th>\n",
       "      <td>147.418671</td>\n",
       "      <td>8161.865902</td>\n",
       "      <td>a8e2c568-dd5b-40dc-b0d9-b9aa02535e05</td>\n",
       "      <td>16</td>\n",
       "      <td>False</td>\n",
       "    </tr>\n",
       "    <tr>\n",
       "      <th>2</th>\n",
       "      <td>185.284693</td>\n",
       "      <td>5977.657132</td>\n",
       "      <td>531c88b6-c022-4625-b095-d29bb85a60d1</td>\n",
       "      <td>8</td>\n",
       "      <td>False</td>\n",
       "    </tr>\n",
       "    <tr>\n",
       "      <th>3</th>\n",
       "      <td>189.836512</td>\n",
       "      <td>8903.404609</td>\n",
       "      <td>e2598801-cf6b-4e64-80cf-9293aa2a004d</td>\n",
       "      <td>24</td>\n",
       "      <td>True</td>\n",
       "    </tr>\n",
       "    <tr>\n",
       "      <th>4</th>\n",
       "      <td>176.881828</td>\n",
       "      <td>8299.411857</td>\n",
       "      <td>ea1a87ef-109a-42dd-8727-5270288aa8df</td>\n",
       "      <td>2</td>\n",
       "      <td>False</td>\n",
       "    </tr>\n",
       "  </tbody>\n",
       "</table>\n",
       "</div>"
      ],
      "text/plain": [
       "           x1           x2                                    x3  x4  select\n",
       "0  162.181280  8288.079075  a95fc8ff-c9d5-430e-b5f4-4bbe12d28ac2  32   False\n",
       "1  147.418671  8161.865902  a8e2c568-dd5b-40dc-b0d9-b9aa02535e05  16   False\n",
       "2  185.284693  5977.657132  531c88b6-c022-4625-b095-d29bb85a60d1   8   False\n",
       "3  189.836512  8903.404609  e2598801-cf6b-4e64-80cf-9293aa2a004d  24    True\n",
       "4  176.881828  8299.411857  ea1a87ef-109a-42dd-8727-5270288aa8df   2   False"
      ]
     },
     "execution_count": 3,
     "metadata": {},
     "output_type": "execute_result"
    }
   ],
   "source": [
    "df.head()"
   ]
  },
  {
   "cell_type": "markdown",
   "id": "450a269f",
   "metadata": {},
   "source": [
    "If no columns are specified as outputs, but default the right-most column (in this case, `select`) will be considered the output."
   ]
  },
  {
   "cell_type": "code",
   "execution_count": 4,
   "id": "65ec88ba",
   "metadata": {},
   "outputs": [],
   "source": [
    "from trustyai.model import Dataset\n",
    "\n",
    "ds = Dataset.from_df(df)"
   ]
  },
  {
   "cell_type": "code",
   "execution_count": 5,
   "id": "c8545cac",
   "metadata": {},
   "outputs": [
    {
     "data": {
      "text/plain": [
       "100"
      ]
     },
     "execution_count": 5,
     "metadata": {},
     "output_type": "execute_result"
    }
   ],
   "source": [
    "len(ds.inputs)"
   ]
  },
  {
   "cell_type": "code",
   "execution_count": 6,
   "id": "20eecd50",
   "metadata": {},
   "outputs": [
    {
     "name": "stdout",
     "output_type": "stream",
     "text": [
      "[Feature{name='x1', type=number, value=162.18128018074924}, Feature{name='x2', type=number, value=8288.079075388061}, Feature{name='x3', type=categorical, value=a95fc8ff-c9d5-430e-b5f4-4bbe12d28ac2}, Feature{name='x4', type=number, value=32}]\n"
     ]
    }
   ],
   "source": [
    "print(ds.inputs[0].features)"
   ]
  },
  {
   "cell_type": "code",
   "execution_count": 7,
   "id": "cb3fe41a",
   "metadata": {},
   "outputs": [
    {
     "data": {
      "text/plain": [
       "100"
      ]
     },
     "execution_count": 7,
     "metadata": {},
     "output_type": "execute_result"
    }
   ],
   "source": [
    "len(ds.outputs)"
   ]
  },
  {
   "cell_type": "code",
   "execution_count": 8,
   "id": "82161a70",
   "metadata": {},
   "outputs": [
    {
     "name": "stdout",
     "output_type": "stream",
     "text": [
      "[Output{value=false, type=boolean, score=1.0, name='select'}]\n"
     ]
    }
   ],
   "source": [
    "print(ds.outputs[0].outputs)"
   ]
  },
  {
   "cell_type": "markdown",
   "id": "1e1b9fb8",
   "metadata": {},
   "source": [
    "We can specify the outputs explicitly, though:"
   ]
  },
  {
   "cell_type": "code",
   "execution_count": 9,
   "id": "8f2e9d07",
   "metadata": {},
   "outputs": [],
   "source": [
    "ds = Dataset.from_df(df, outputs=['x1', 'x4'])"
   ]
  },
  {
   "cell_type": "code",
   "execution_count": 10,
   "id": "24e7ca62",
   "metadata": {},
   "outputs": [
    {
     "name": "stdout",
     "output_type": "stream",
     "text": [
      "[Feature{name='x2', type=number, value=8288.079075388061}, Feature{name='x3', type=categorical, value=a95fc8ff-c9d5-430e-b5f4-4bbe12d28ac2}, Feature{name='select', type=boolean, value=false}]\n"
     ]
    }
   ],
   "source": [
    "print(ds.inputs[0].features)"
   ]
  },
  {
   "cell_type": "code",
   "execution_count": 11,
   "id": "54f7c8d4",
   "metadata": {},
   "outputs": [
    {
     "name": "stdout",
     "output_type": "stream",
     "text": [
      "[Output{value=162.18128018074924, type=number, score=1.0, name='x1'}, Output{value=32.0, type=number, score=1.0, name='x4'}]\n"
     ]
    }
   ],
   "source": [
    "print(ds.outputs[0].outputs)"
   ]
  },
  {
   "cell_type": "markdown",
   "id": "e788bd5d",
   "metadata": {},
   "source": [
    "# From NumPy arrays"
   ]
  },
  {
   "cell_type": "code",
   "execution_count": 12,
   "id": "58a7bfef",
   "metadata": {},
   "outputs": [],
   "source": [
    "a = np.random.rand(100, 5)"
   ]
  },
  {
   "cell_type": "code",
   "execution_count": 13,
   "id": "9ad91729",
   "metadata": {},
   "outputs": [
    {
     "data": {
      "text/plain": [
       "array([[0.27953374, 0.14350214, 0.85835075, 0.18845806, 0.01206274],\n",
       "       [0.53248526, 0.67195857, 0.71734904, 0.39929908, 0.66092277],\n",
       "       [0.45276017, 0.0480453 , 0.58338174, 0.78245456, 0.93636845],\n",
       "       [0.79390006, 0.32327136, 0.98300792, 0.13107499, 0.43482848],\n",
       "       [0.02587618, 0.01923374, 0.16373235, 0.35224968, 0.14961464],\n",
       "       [0.82164409, 0.76620166, 0.23224766, 0.57686832, 0.5354371 ],\n",
       "       [0.27912304, 0.73473497, 0.91184353, 0.99083292, 0.93095475],\n",
       "       [0.67366937, 0.92351402, 0.90195418, 0.58753937, 0.67496797],\n",
       "       [0.02141828, 0.34273817, 0.61652239, 0.8376688 , 0.6660273 ],\n",
       "       [0.20558989, 0.38528159, 0.14387614, 0.33153919, 0.97763219]])"
      ]
     },
     "execution_count": 13,
     "metadata": {},
     "output_type": "execute_result"
    }
   ],
   "source": [
    "a[0:10, :]"
   ]
  },
  {
   "cell_type": "code",
   "execution_count": 14,
   "id": "4e95a400",
   "metadata": {},
   "outputs": [],
   "source": [
    "ds = Dataset.from_numpy(a)"
   ]
  },
  {
   "cell_type": "code",
   "execution_count": 15,
   "id": "86c76ca3",
   "metadata": {},
   "outputs": [
    {
     "data": {
      "text/plain": [
       "100"
      ]
     },
     "execution_count": 15,
     "metadata": {},
     "output_type": "execute_result"
    }
   ],
   "source": [
    "len(ds.inputs)"
   ]
  },
  {
   "cell_type": "markdown",
   "id": "ea8bd9bd",
   "metadata": {},
   "source": [
    "Input and output features will be named automatically. As with dataframes, if no output is specified, the right-most column will be selected:"
   ]
  },
  {
   "cell_type": "code",
   "execution_count": 16,
   "id": "95b73f29",
   "metadata": {},
   "outputs": [
    {
     "name": "stdout",
     "output_type": "stream",
     "text": [
      "[Feature{name='input-0', type=number, value=0.2795337386802256}, Feature{name='input-1', type=number, value=0.1435021446779371}, Feature{name='input-2', type=number, value=0.8583507494791435}, Feature{name='input-3', type=number, value=0.18845806309449065}]\n"
     ]
    }
   ],
   "source": [
    "print(ds.inputs[0].features)"
   ]
  },
  {
   "cell_type": "code",
   "execution_count": 17,
   "id": "bc424a9a",
   "metadata": {},
   "outputs": [
    {
     "name": "stdout",
     "output_type": "stream",
     "text": [
      "[Output{value=0.012062739012541845, type=number, score=1.0, name='output-0'}]\n"
     ]
    }
   ],
   "source": [
    "print(ds.outputs[0].outputs)"
   ]
  },
  {
   "cell_type": "markdown",
   "id": "a2063258",
   "metadata": {},
   "source": [
    "To specify the output columns, with NumPy arrays, we use the column indices:"
   ]
  },
  {
   "cell_type": "code",
   "execution_count": 18,
   "id": "d30ef347",
   "metadata": {},
   "outputs": [],
   "source": [
    "ds = Dataset.from_numpy(a, outputs=[0, 2])"
   ]
  },
  {
   "cell_type": "code",
   "execution_count": 19,
   "id": "f01211f7",
   "metadata": {},
   "outputs": [
    {
     "name": "stdout",
     "output_type": "stream",
     "text": [
      "[Feature{name='input-0', type=number, value=0.1435021446779371}, Feature{name='input-1', type=number, value=0.18845806309449065}, Feature{name='input-2', type=number, value=0.012062739012541845}]\n"
     ]
    }
   ],
   "source": [
    "print(ds.inputs[0].features)"
   ]
  },
  {
   "cell_type": "code",
   "execution_count": 20,
   "id": "0494d2ac",
   "metadata": {},
   "outputs": [
    {
     "name": "stdout",
     "output_type": "stream",
     "text": [
      "[Output{value=0.2795337386802256, type=number, score=1.0, name='output-0'}, Output{value=0.8583507494791435, type=number, score=1.0, name='output-1'}]\n"
     ]
    }
   ],
   "source": [
    "print(ds.outputs[0].outputs)"
   ]
  },
  {
   "cell_type": "code",
   "execution_count": null,
   "id": "b2c77307",
   "metadata": {},
   "outputs": [],
   "source": []
  }
 ],
 "metadata": {
  "kernelspec": {
   "display_name": "Python 3 (ipykernel)",
   "language": "python",
   "name": "python3"
  },
  "language_info": {
   "codemirror_mode": {
    "name": "ipython",
    "version": 3
   },
   "file_extension": ".py",
   "mimetype": "text/x-python",
   "name": "python",
   "nbconvert_exporter": "python",
   "pygments_lexer": "ipython3",
   "version": "3.10.10"
  },
  "toc": {
   "base_numbering": 1,
   "nav_menu": {},
   "number_sections": true,
   "sideBar": true,
   "skip_h1_title": false,
   "title_cell": "Table of Contents",
   "title_sidebar": "Contents",
   "toc_cell": false,
   "toc_position": {},
   "toc_section_display": true,
   "toc_window_display": false
  }
 },
 "nbformat": 4,
 "nbformat_minor": 5
}
