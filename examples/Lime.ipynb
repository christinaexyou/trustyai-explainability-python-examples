{
 "cells": [
  {
   "cell_type": "markdown",
   "metadata": {},
   "source": [
    "# LIME explanations"
   ]
  },
  {
   "cell_type": "code",
   "execution_count": 1,
   "metadata": {},
   "outputs": [],
   "source": [
    "import trustyai\n",
    "trustyai.init()\n",
    "\n",
    "import pandas as pd"
   ]
  },
  {
   "cell_type": "markdown",
   "metadata": {},
   "source": [
    "## Simple example\n",
    "\n",
    "We start by defining our black-box model, typically represented by\n",
    "\n",
    "$$\n",
    "f(\\mathbf{x}) = \\mathbf{y}\n",
    "$$\n",
    "\n",
    "Where $\\mathbf{x}=\\{x_1, x_2, \\dots,x_m\\}$ and $\\mathbf{y}=\\{y_1, y_2, \\dots,y_n\\}$.\n",
    "\n",
    "Our example toy model, in this case, takes an all-numerical input $\\mathbf{x}$ and return a $\\mathbf{y}$ of either `true` or `false` if the sum of the $\\mathbf{x}$ components is within a threshold $\\epsilon$ of a point $\\mathbf{C}$, that is:\n",
    "\n",
    "$$\n",
    "f(\\mathbf{x}, \\epsilon, \\mathbf{C})=\\begin{cases}\n",
    "\\text{true},\\qquad \\text{if}\\ \\mathbf{C}-\\epsilon<\\sum_{i=1}^m x_i <\\mathbf{C}+\\epsilon \\\\\n",
    "\\text{false},\\qquad \\text{otherwise}\n",
    "\\end{cases}\n",
    "$$\n",
    "\n",
    "This model is provided in the `TestUtils` module. We instantiate with a $\\mathbf{C}=500$ and $\\epsilon=1.0$."
   ]
  },
  {
   "cell_type": "code",
   "execution_count": 2,
   "metadata": {},
   "outputs": [],
   "source": [
    "from trustyai.utils import TestUtils\n",
    "\n",
    "center = 10.0\n",
    "epsilon = 2.0\n",
    "\n",
    "model = TestUtils.getSumThresholdModel(center, epsilon)"
   ]
  },
  {
   "cell_type": "markdown",
   "metadata": {},
   "source": [
    "Next we need to define a **goal**.\n",
    "If our model is $f(\\mathbf{x'})=\\mathbf{y'}$ we are then defining our $\\mathbf{y'}$ and the counterfactual result will be the $\\mathbf{x'}$ which satisfies $f(\\mathbf{x'})=\\mathbf{y'}$.\n",
    "\n",
    "We will define our goal as `true`, that is, the sum is withing the vicinity of a (to be defined) point $\\mathbf{C}$. The goal is a list of `Output` which take the following parameters\n",
    "\n",
    "- The feature name\n",
    "- The feature type\n",
    "- The feature value (wrapped in `Value`)\n",
    "- A confidence threshold, which we will leave at zero (no threshold)"
   ]
  },
  {
   "cell_type": "code",
   "execution_count": 3,
   "metadata": {},
   "outputs": [],
   "source": [
    "from trustyai.model import output\n",
    "\n",
    "decision = \"inside\"\n",
    "goal = [output(name=decision, dtype=\"bool\", value=True, score=0.0)]"
   ]
  },
  {
   "cell_type": "markdown",
   "metadata": {},
   "source": [
    "We will now define our initial features, $\\mathbf{x}$. Each feature can be instantiated by using `FeatureFactory` and in this case we want to use numerical features, so we'll use `FeatureFactory.newNumericalFeature`."
   ]
  },
  {
   "cell_type": "code",
   "execution_count": 4,
   "metadata": {},
   "outputs": [],
   "source": [
    "import random\n",
    "from trustyai.model import feature\n",
    "\n",
    "features = [feature(name=f\"x{i+1}\", dtype=\"number\", value=random.random()*10.0) for i in range(3)]"
   ]
  },
  {
   "cell_type": "markdown",
   "metadata": {},
   "source": [
    "As we can see, the sum of of the features will not be within $\\epsilon$ (1.0) of $\\mathbf{C}$ (500.0). As such the model prediction will be `false`:"
   ]
  },
  {
   "cell_type": "code",
   "execution_count": 5,
   "metadata": {},
   "outputs": [
    {
     "name": "stdout",
     "output_type": "stream",
     "text": [
      "Feature x1 has value 2.3263679576203735\n",
      "Feature x2 has value 9.848262646483203\n",
      "Feature x3 has value 3.2989008487361127\n",
      "\n",
      "Features sum is 15.473531452839689\n"
     ]
    }
   ],
   "source": [
    "feature_sum = 0.0\n",
    "for f in features:\n",
    "    value = f.value.as_number()\n",
    "    print(f\"Feature {f.name} has value {value}\")\n",
    "    feature_sum += value\n",
    "print(f\"\\nFeatures sum is {feature_sum}\")"
   ]
  },
  {
   "cell_type": "markdown",
   "metadata": {},
   "source": [
    "We execute the model on the generated input and collect the output"
   ]
  },
  {
   "cell_type": "code",
   "execution_count": 6,
   "metadata": {
    "pycharm": {
     "name": "#%%\n"
    }
   },
   "outputs": [],
   "source": [
    "from org.kie.kogito.explainability.model import PredictionInput, PredictionOutput\n",
    "\n",
    "goals = model.predictAsync([PredictionInput(features)]).get()"
   ]
  },
  {
   "cell_type": "markdown",
   "metadata": {
    "pycharm": {
     "name": "#%% md\n"
    }
   },
   "source": [
    "We wrap these quantities in a `SimplePrediction`:"
   ]
  },
  {
   "cell_type": "code",
   "execution_count": 7,
   "metadata": {
    "pycharm": {
     "name": "#%%\n"
    }
   },
   "outputs": [],
   "source": [
    "from trustyai.model import simple_prediction\n",
    "\n",
    "\n",
    "prediction = simple_prediction(input_features=features, outputs=goals[0].outputs)"
   ]
  },
  {
   "cell_type": "markdown",
   "metadata": {
    "pycharm": {
     "name": "#%% md\n"
    }
   },
   "source": [
    "We can now instantiate the **explainer** itself.\n"
   ]
  },
  {
   "cell_type": "code",
   "execution_count": 8,
   "metadata": {},
   "outputs": [
    {
     "name": "stderr",
     "output_type": "stream",
     "text": [
      "SLF4J: Failed to load class \"org.slf4j.impl.StaticLoggerBinder\".\n",
      "SLF4J: Defaulting to no-operation (NOP) logger implementation\n",
      "SLF4J: See http://www.slf4j.org/codes.html#StaticLoggerBinder for further details.\n"
     ]
    }
   ],
   "source": [
    "from trustyai.explainers import LimeExplainer\n",
    "\n",
    "explainer = LimeExplainer(samples=10)"
   ]
  },
  {
   "cell_type": "markdown",
   "metadata": {
    "pycharm": {
     "name": "#%% md\n"
    }
   },
   "source": [
    "We generate the **explanation** as a _dict : decision --> saliency_.\n"
   ]
  },
  {
   "cell_type": "code",
   "execution_count": 9,
   "metadata": {
    "pycharm": {
     "name": "#%%\n"
    }
   },
   "outputs": [],
   "source": [
    "explanation = explainer.explain(prediction, model)"
   ]
  },
  {
   "cell_type": "code",
   "execution_count": 10,
   "metadata": {},
   "outputs": [
    {
     "data": {
      "text/html": [
       "<div>\n",
       "<style scoped>\n",
       "    .dataframe tbody tr th:only-of-type {\n",
       "        vertical-align: middle;\n",
       "    }\n",
       "\n",
       "    .dataframe tbody tr th {\n",
       "        vertical-align: top;\n",
       "    }\n",
       "\n",
       "    .dataframe thead th {\n",
       "        text-align: right;\n",
       "    }\n",
       "</style>\n",
       "<table border=\"1\" class=\"dataframe\">\n",
       "  <thead>\n",
       "    <tr style=\"text-align: right;\">\n",
       "      <th></th>\n",
       "      <th>inside_features</th>\n",
       "      <th>inside_score</th>\n",
       "      <th>inside_value</th>\n",
       "      <th>inside_confidence</th>\n",
       "    </tr>\n",
       "  </thead>\n",
       "  <tbody>\n",
       "    <tr>\n",
       "      <th>0</th>\n",
       "      <td>x1</td>\n",
       "      <td>0.469945</td>\n",
       "      <td>2.326368</td>\n",
       "      <td>0.0</td>\n",
       "    </tr>\n",
       "    <tr>\n",
       "      <th>1</th>\n",
       "      <td>x2</td>\n",
       "      <td>0.000000</td>\n",
       "      <td>9.848263</td>\n",
       "      <td>0.0</td>\n",
       "    </tr>\n",
       "    <tr>\n",
       "      <th>2</th>\n",
       "      <td>x3</td>\n",
       "      <td>0.338761</td>\n",
       "      <td>3.298901</td>\n",
       "      <td>0.0</td>\n",
       "    </tr>\n",
       "  </tbody>\n",
       "</table>\n",
       "</div>"
      ],
      "text/plain": [
       "  inside_features  inside_score  inside_value  inside_confidence\n",
       "0              x1      0.469945      2.326368                0.0\n",
       "1              x2      0.000000      9.848263                0.0\n",
       "2              x3      0.338761      3.298901                0.0"
      ]
     },
     "execution_count": 10,
     "metadata": {},
     "output_type": "execute_result"
    }
   ],
   "source": [
    "explanation.as_dataframe()"
   ]
  },
  {
   "cell_type": "markdown",
   "metadata": {
    "pycharm": {
     "name": "#%% md\n"
    }
   },
   "source": [
    "We inspect the saliency scores assigned by LIME to each feature"
   ]
  },
  {
   "cell_type": "markdown",
   "metadata": {},
   "source": [
    "We generate the saliency graph with the builtin method `plot(decision)`:"
   ]
  },
  {
   "cell_type": "code",
   "execution_count": 11,
   "metadata": {},
   "outputs": [
    {
     "data": {
      "image/png": "[encoded data removed]",
      "text/plain": [
       "<Figure size 1600x900 with 1 Axes>"
      ]
     },
     "metadata": {},
     "output_type": "display_data"
    }
   ],
   "source": [
    "explanation.plot(decision)"
   ]
  },
  {
   "cell_type": "markdown",
   "metadata": {},
   "source": [
    "## Using Python models\n",
    "\n"
   ]
  },
  {
   "cell_type": "markdown",
   "metadata": {},
   "source": [
    "We will now show how to use a custom Python model with TrustyAI LIME implementation.\n",
    "\n",
    "The model will be an XGBoost one trained with the `credit-bias` dataset.\n",
    "\n",
    "For convenience, the model is pre-trained and serialised with `joblib` so that for this example we simply need to deserialised it."
   ]
  },
  {
   "cell_type": "code",
   "execution_count": 12,
   "metadata": {},
   "outputs": [
    {
     "name": "stderr",
     "output_type": "stream",
     "text": [
      "/usr/local/lib/python3.9/site-packages/xgboost/compat.py:31: FutureWarning: pandas.Int64Index is deprecated and will be removed from pandas in a future version. Use pandas.Index with the appropriate dtype instead.\n",
      "  from pandas import MultiIndex, Int64Index\n",
      "<frozen importlib._bootstrap>:228: RuntimeWarning: scipy._lib.messagestream.MessageStream size changed, may indicate binary incompatibility. Expected 56 from C header, got 64 from PyObject\n"
     ]
    },
    {
     "name": "stdout",
     "output_type": "stream",
     "text": [
      "XGBClassifier(base_score=0.5, booster='gbtree', colsample_bylevel=1,\n",
      "              colsample_bynode=1, colsample_bytree=1, gamma=0, gpu_id=-1,\n",
      "              importance_type='gain', interaction_constraints='',\n",
      "              learning_rate=0.07, max_delta_step=0, max_depth=8,\n",
      "              min_child_weight=1, missing=nan, monotone_constraints='()',\n",
      "              n_estimators=200, n_jobs=12, num_parallel_tree=1, random_state=27,\n",
      "              reg_alpha=0, reg_lambda=1, scale_pos_weight=0.9861206227457426,\n",
      "              seed=27, subsample=1, tree_method='exact', validate_parameters=1,\n",
      "              verbosity=None)\n"
     ]
    }
   ],
   "source": [
    "import joblib\n",
    "\n",
    "xg_model = joblib.load(\"models/credit-bias-xgboost.joblib\")\n",
    "print(xg_model)"
   ]
  },
  {
   "cell_type": "markdown",
   "metadata": {},
   "source": [
    "This model has as a single **output** a boolean `PaidLoan`, which will predict whether a certain loan applicant will repay the loan in time or not. The model is slightly more complex than the previous examples, with **input** features:\n",
    "\n",
    "|Input feature         | Type    | Note        |\n",
    "|----------------------|---------|-------------|\n",
    "|`NewCreditCustomer`   |boolean  ||\n",
    "|`Amount`              |numerical||\n",
    "|`Interest`            |numerical||\n",
    "|`LoanDuration`        |numerical|In months|\n",
    "|`Education`           |numerical|Level (1, 2, 3..)|\n",
    "|`NrOfDependants`      |numerical|Integer|\n",
    "|`EmploymentDurationCurrentEmployer`|numerical|Integer (years)|\n",
    "|`IncomeFromPrincipalEmployer`|numerical||\n",
    "|`IncomeFromPension`   |numerical||\n",
    "|`IncomeFromFamilyAllowance`|numerical||\n",
    "|`IncomeFromSocialWelfare`|numerical||\n",
    "|`IncomeFromLeavePay`|numerical||\n",
    "|`IncomeFromChildSupport`|numerical||\n",
    "|`IncomeOther`|numerical||\n",
    "|`ExistingLiabilities`|numerical|integer|\n",
    "|`RefinanceLiabilities`|numerical|integer|\n",
    "|`DebtToIncome`|numerical||\n",
    "|`FreeCash`|numerical||\n",
    "|`CreditScoreEeMini`|numerical|integer|\n",
    "|`NoOfPreviousLoansBeforeLoan`|numerical|integer|\n",
    "|`AmountOfPreviousLoansBeforeLoan`|numerical||\n",
    "|`PreviousRepaymentsBeforeLoan`|numerical||\n",
    "|`PreviousEarlyRepaymentsBefoleLoan`|numerical||\n",
    "|`PreviousEarlyRepaymentsCountBeforeLoan`|numerical|integer|\n",
    "|`Council_house`|boolean||\n",
    "|`Homeless`|boolean||\n",
    "|`Joint_ownership`|boolean||\n",
    "|`Joint_tenant`|boolean||\n",
    "|`Living_with_parents`|boolean||\n",
    "|`Mortgage`|boolean||\n",
    "|`Other`|boolean||\n",
    "|`Owner`|boolean||\n",
    "|`Owner_with_encumbrance`|boolean||\n",
    "|`Tenant`|boolean||\n",
    "|`Entrepreneur`|boolean||\n",
    "|`Fully`|boolean||\n",
    "|`Partially`|boolean||\n",
    "|`Retiree`|boolean||\n",
    "|`Self_employed`|boolean||\n",
    "\n",
    "Let's create and test a sample datapoint:"
   ]
  },
  {
   "cell_type": "code",
   "execution_count": 13,
   "metadata": {},
   "outputs": [
    {
     "data": {
      "text/html": [
       "<div>\n",
       "<style scoped>\n",
       "    .dataframe tbody tr th:only-of-type {\n",
       "        vertical-align: middle;\n",
       "    }\n",
       "\n",
       "    .dataframe tbody tr th {\n",
       "        vertical-align: top;\n",
       "    }\n",
       "\n",
       "    .dataframe thead th {\n",
       "        text-align: right;\n",
       "    }\n",
       "</style>\n",
       "<table border=\"1\" class=\"dataframe\">\n",
       "  <thead>\n",
       "    <tr style=\"text-align: right;\">\n",
       "      <th></th>\n",
       "      <th>NewCreditCustomer</th>\n",
       "      <th>Amount</th>\n",
       "      <th>Interest</th>\n",
       "      <th>LoanDuration</th>\n",
       "      <th>Education</th>\n",
       "      <th>NrOfDependants</th>\n",
       "      <th>EmploymentDurationCurrentEmployer</th>\n",
       "      <th>IncomeFromPrincipalEmployer</th>\n",
       "      <th>IncomeFromPension</th>\n",
       "      <th>IncomeFromFamilyAllowance</th>\n",
       "      <th>...</th>\n",
       "      <th>Mortgage</th>\n",
       "      <th>Other</th>\n",
       "      <th>Owner</th>\n",
       "      <th>Owner_with_encumbrance</th>\n",
       "      <th>Tenant</th>\n",
       "      <th>Entrepreneur</th>\n",
       "      <th>Fully</th>\n",
       "      <th>Partially</th>\n",
       "      <th>Retiree</th>\n",
       "      <th>Self_employed</th>\n",
       "    </tr>\n",
       "  </thead>\n",
       "  <tbody>\n",
       "    <tr>\n",
       "      <th>0</th>\n",
       "      <td>False</td>\n",
       "      <td>2125.0</td>\n",
       "      <td>20.97</td>\n",
       "      <td>60.0</td>\n",
       "      <td>4.0</td>\n",
       "      <td>0.0</td>\n",
       "      <td>6.0</td>\n",
       "      <td>0.0</td>\n",
       "      <td>301.0</td>\n",
       "      <td>0.0</td>\n",
       "      <td>...</td>\n",
       "      <td>False</td>\n",
       "      <td>False</td>\n",
       "      <td>False</td>\n",
       "      <td>True</td>\n",
       "      <td>True</td>\n",
       "      <td>False</td>\n",
       "      <td>False</td>\n",
       "      <td>False</td>\n",
       "      <td>True</td>\n",
       "      <td>False</td>\n",
       "    </tr>\n",
       "  </tbody>\n",
       "</table>\n",
       "<p>1 rows × 39 columns</p>\n",
       "</div>"
      ],
      "text/plain": [
       "   NewCreditCustomer  Amount  Interest  LoanDuration  Education  \\\n",
       "0              False  2125.0     20.97          60.0        4.0   \n",
       "\n",
       "   NrOfDependants  EmploymentDurationCurrentEmployer  \\\n",
       "0             0.0                                6.0   \n",
       "\n",
       "   IncomeFromPrincipalEmployer  IncomeFromPension  IncomeFromFamilyAllowance  \\\n",
       "0                          0.0              301.0                        0.0   \n",
       "\n",
       "   ...  Mortgage  Other  Owner  Owner_with_encumbrance  Tenant  Entrepreneur  \\\n",
       "0  ...     False  False  False                    True    True         False   \n",
       "\n",
       "   Fully  Partially  Retiree  Self_employed  \n",
       "0  False      False     True          False  \n",
       "\n",
       "[1 rows x 39 columns]"
      ]
     },
     "execution_count": 13,
     "metadata": {},
     "output_type": "execute_result"
    }
   ],
   "source": [
    "feature_values = {\n",
    "        \"NewCreditCustomer\": False,\n",
    "        \"Amount\": 2125.0,\n",
    "        \"Interest\": 20.97,\n",
    "        \"LoanDuration\": 60.0,\n",
    "        \"Education\": 4.0,\n",
    "        \"NrOfDependants\": 0.0,\n",
    "        \"EmploymentDurationCurrentEmployer\": 6.0,\n",
    "        \"IncomeFromPrincipalEmployer\": 0.0,\n",
    "        \"IncomeFromPension\": 301.0,\n",
    "        \"IncomeFromFamilyAllowance\": 0.0,\n",
    "        \"IncomeFromSocialWelfare\": 53.0,\n",
    "        \"IncomeFromLeavePay\": 0.0,\n",
    "        \"IncomeFromChildSupport\": 0.0,\n",
    "        \"IncomeOther\": 0.0,\n",
    "        \"ExistingLiabilities\": 8.0,\n",
    "        \"RefinanceLiabilities\": 6.0,\n",
    "        \"DebtToIncome\": 26.29,\n",
    "        \"FreeCash\": 10.92,\n",
    "        \"CreditScoreEeMini\": 1000.0,\n",
    "        \"NoOfPreviousLoansBeforeLoan\": 1.0,\n",
    "        \"AmountOfPreviousLoansBeforeLoan\": 500.0,\n",
    "        \"PreviousRepaymentsBeforeLoan\": 590.95,\n",
    "        \"PreviousEarlyRepaymentsBefoleLoan\": 0.0,\n",
    "        \"PreviousEarlyRepaymentsCountBeforeLoan\": 0.0,\n",
    "        \"Council_house\": False,\n",
    "        \"Homeless\": False,\n",
    "        \"Joint_ownership\": False,\n",
    "        \"Joint_tenant\": False,\n",
    "        \"Living_with_parents\": False,\n",
    "        \"Mortgage\": False,\n",
    "        \"Other\": False,\n",
    "        \"Owner\": False,\n",
    "        \"Owner_with_encumbrance\": True,\n",
    "        \"Tenant\": True,\n",
    "        \"Entrepreneur\": False,\n",
    "        \"Fully\": False,\n",
    "        \"Partially\": False,\n",
    "        \"Retiree\": True,\n",
    "        \"Self_employed\": False\n",
    "}\n",
    "\n",
    "feature_df = pd.DataFrame([feature_values])\n",
    "feature_df"
   ]
  },
  {
   "cell_type": "markdown",
   "metadata": {},
   "source": [
    "We can see that this application will be rejected with a probability of $\\sim77\\%$:"
   ]
  },
  {
   "cell_type": "code",
   "execution_count": 14,
   "metadata": {},
   "outputs": [
    {
     "name": "stdout",
     "output_type": "stream",
     "text": [
      "[[0.7835957  0.21640435]]\n",
      "Paid loan is predicted as: [False]\n"
     ]
    }
   ],
   "source": [
    "import numpy as np\n",
    "\n",
    "print(xg_model.predict_proba(feature_df))\n",
    "print(f\"Paid loan is predicted as: {xg_model.predict(feature_df)}\")"
   ]
  },
  {
   "cell_type": "markdown",
   "metadata": {},
   "source": [
    "We will now prepare the XGBoost model to be used from the TrustyAI. Since our model outputs a Numpy array, we need to specify the column names of the output. Additionally, we must make sure our model's outputs are of shape `[n_inputs, n_outputs]`, which we can do by wrapping the model output into a DataFrame:"
   ]
  },
  {
   "cell_type": "markdown",
   "metadata": {},
   "source": [
    "Once the prediction method is created, we wrap in a `Model` class.\n",
    "\n",
    "This class takes care of all the JVM's asynchronous plumbing for us."
   ]
  },
  {
   "cell_type": "code",
   "execution_count": 15,
   "metadata": {},
   "outputs": [],
   "source": [
    "from trustyai.model import Model\n",
    "\n",
    "model = Model(lambda x: pd.DataFrame(xg_model.predict(x), columns=['PaidLoan']))"
   ]
  },
  {
   "cell_type": "markdown",
   "metadata": {},
   "source": [
    "We can confirm now, with the newly created `PredictionProvider` model that this input will lead to a `false` `PaidLoan` prediction:"
   ]
  },
  {
   "cell_type": "code",
   "execution_count": 16,
   "metadata": {},
   "outputs": [],
   "source": [
    "output = model(feature_df)"
   ]
  },
  {
   "cell_type": "markdown",
   "metadata": {},
   "source": [
    "We generate a prediction to be passed to the LIME explainer. We have to reshape the outputs, because the `simple_prediction` function expects the `output` argument\n",
    "to be of shape ``[1, n_outputs]``."
   ]
  },
  {
   "cell_type": "code",
   "execution_count": 17,
   "metadata": {},
   "outputs": [],
   "source": [
    "from trustyai.model import simple_prediction\n",
    "\n",
    "prediction = simple_prediction(input_features=feature_df, outputs=output)"
   ]
  },
  {
   "cell_type": "markdown",
   "metadata": {},
   "source": [
    "We execute the LIME explainer on the XGBoost model and prediction"
   ]
  },
  {
   "cell_type": "code",
   "execution_count": 18,
   "metadata": {},
   "outputs": [],
   "source": [
    "from trustyai.explainers import LimeExplainer\n",
    "\n",
    "explainer = LimeExplainer(samples=100, perturbations=2, seed=23, normalise_weights=False)\n",
    "explanation = explainer.explain(prediction, model)"
   ]
  },
  {
   "cell_type": "markdown",
   "metadata": {},
   "source": [
    "We output the top 2 most important features for the prediction outcome"
   ]
  },
  {
   "cell_type": "code",
   "execution_count": 19,
   "metadata": {},
   "outputs": [
    {
     "name": "stdout",
     "output_type": "stream",
     "text": [
      "FeatureImportance{feature=Feature{name='PreviousEarlyRepaymentsCountBeforeLoan', type=number, value=0.0}, score=-1.8207992602804817, confidence= +/-0.0}\n",
      "FeatureImportance{feature=Feature{name='IncomeFromPrincipalEmployer', type=number, value=0.0}, score=-1.6037355291723934, confidence= +/-0.0}\n"
     ]
    }
   ],
   "source": [
    "for f in explanation.map()['PaidLoan'].getTopFeatures(2):\n",
    "    print(f)"
   ]
  },
  {
   "cell_type": "code",
   "execution_count": 20,
   "metadata": {
    "pycharm": {
     "name": "#%%\n"
    }
   },
   "outputs": [
    {
     "data": {
      "text/html": [
       "<div>\n",
       "<style scoped>\n",
       "    .dataframe tbody tr th:only-of-type {\n",
       "        vertical-align: middle;\n",
       "    }\n",
       "\n",
       "    .dataframe tbody tr th {\n",
       "        vertical-align: top;\n",
       "    }\n",
       "\n",
       "    .dataframe thead th {\n",
       "        text-align: right;\n",
       "    }\n",
       "</style>\n",
       "<table border=\"1\" class=\"dataframe\">\n",
       "  <thead>\n",
       "    <tr style=\"text-align: right;\">\n",
       "      <th></th>\n",
       "      <th>PaidLoan_features</th>\n",
       "      <th>PaidLoan_score</th>\n",
       "      <th>PaidLoan_value</th>\n",
       "      <th>PaidLoan_confidence</th>\n",
       "    </tr>\n",
       "  </thead>\n",
       "  <tbody>\n",
       "    <tr>\n",
       "      <th>0</th>\n",
       "      <td>NewCreditCustomer</td>\n",
       "      <td>0.494151</td>\n",
       "      <td>0.00</td>\n",
       "      <td>0.0</td>\n",
       "    </tr>\n",
       "    <tr>\n",
       "      <th>1</th>\n",
       "      <td>Amount</td>\n",
       "      <td>0.646571</td>\n",
       "      <td>2125.00</td>\n",
       "      <td>0.0</td>\n",
       "    </tr>\n",
       "    <tr>\n",
       "      <th>2</th>\n",
       "      <td>Interest</td>\n",
       "      <td>-0.221954</td>\n",
       "      <td>20.97</td>\n",
       "      <td>0.0</td>\n",
       "    </tr>\n",
       "    <tr>\n",
       "      <th>3</th>\n",
       "      <td>LoanDuration</td>\n",
       "      <td>1.066822</td>\n",
       "      <td>60.00</td>\n",
       "      <td>0.0</td>\n",
       "    </tr>\n",
       "    <tr>\n",
       "      <th>4</th>\n",
       "      <td>Education</td>\n",
       "      <td>-0.186178</td>\n",
       "      <td>4.00</td>\n",
       "      <td>0.0</td>\n",
       "    </tr>\n",
       "    <tr>\n",
       "      <th>5</th>\n",
       "      <td>NrOfDependants</td>\n",
       "      <td>-0.102228</td>\n",
       "      <td>0.00</td>\n",
       "      <td>0.0</td>\n",
       "    </tr>\n",
       "    <tr>\n",
       "      <th>6</th>\n",
       "      <td>EmploymentDurationCurrentEmployer</td>\n",
       "      <td>1.123659</td>\n",
       "      <td>6.00</td>\n",
       "      <td>0.0</td>\n",
       "    </tr>\n",
       "    <tr>\n",
       "      <th>7</th>\n",
       "      <td>IncomeFromPrincipalEmployer</td>\n",
       "      <td>-1.603736</td>\n",
       "      <td>0.00</td>\n",
       "      <td>0.0</td>\n",
       "    </tr>\n",
       "    <tr>\n",
       "      <th>8</th>\n",
       "      <td>IncomeFromPension</td>\n",
       "      <td>-0.325927</td>\n",
       "      <td>301.00</td>\n",
       "      <td>0.0</td>\n",
       "    </tr>\n",
       "    <tr>\n",
       "      <th>9</th>\n",
       "      <td>IncomeFromFamilyAllowance</td>\n",
       "      <td>0.649004</td>\n",
       "      <td>0.00</td>\n",
       "      <td>0.0</td>\n",
       "    </tr>\n",
       "    <tr>\n",
       "      <th>10</th>\n",
       "      <td>IncomeFromSocialWelfare</td>\n",
       "      <td>1.002127</td>\n",
       "      <td>53.00</td>\n",
       "      <td>0.0</td>\n",
       "    </tr>\n",
       "    <tr>\n",
       "      <th>11</th>\n",
       "      <td>IncomeFromLeavePay</td>\n",
       "      <td>-0.167728</td>\n",
       "      <td>0.00</td>\n",
       "      <td>0.0</td>\n",
       "    </tr>\n",
       "    <tr>\n",
       "      <th>12</th>\n",
       "      <td>IncomeFromChildSupport</td>\n",
       "      <td>-0.576658</td>\n",
       "      <td>0.00</td>\n",
       "      <td>0.0</td>\n",
       "    </tr>\n",
       "    <tr>\n",
       "      <th>13</th>\n",
       "      <td>IncomeOther</td>\n",
       "      <td>-0.215169</td>\n",
       "      <td>0.00</td>\n",
       "      <td>0.0</td>\n",
       "    </tr>\n",
       "    <tr>\n",
       "      <th>14</th>\n",
       "      <td>ExistingLiabilities</td>\n",
       "      <td>-0.803048</td>\n",
       "      <td>8.00</td>\n",
       "      <td>0.0</td>\n",
       "    </tr>\n",
       "    <tr>\n",
       "      <th>15</th>\n",
       "      <td>RefinanceLiabilities</td>\n",
       "      <td>0.635874</td>\n",
       "      <td>6.00</td>\n",
       "      <td>0.0</td>\n",
       "    </tr>\n",
       "    <tr>\n",
       "      <th>16</th>\n",
       "      <td>DebtToIncome</td>\n",
       "      <td>0.552002</td>\n",
       "      <td>26.29</td>\n",
       "      <td>0.0</td>\n",
       "    </tr>\n",
       "    <tr>\n",
       "      <th>17</th>\n",
       "      <td>FreeCash</td>\n",
       "      <td>-0.757303</td>\n",
       "      <td>10.92</td>\n",
       "      <td>0.0</td>\n",
       "    </tr>\n",
       "    <tr>\n",
       "      <th>18</th>\n",
       "      <td>CreditScoreEeMini</td>\n",
       "      <td>-1.235549</td>\n",
       "      <td>1000.00</td>\n",
       "      <td>0.0</td>\n",
       "    </tr>\n",
       "    <tr>\n",
       "      <th>19</th>\n",
       "      <td>NoOfPreviousLoansBeforeLoan</td>\n",
       "      <td>1.319051</td>\n",
       "      <td>1.00</td>\n",
       "      <td>0.0</td>\n",
       "    </tr>\n",
       "    <tr>\n",
       "      <th>20</th>\n",
       "      <td>AmountOfPreviousLoansBeforeLoan</td>\n",
       "      <td>0.315379</td>\n",
       "      <td>500.00</td>\n",
       "      <td>0.0</td>\n",
       "    </tr>\n",
       "    <tr>\n",
       "      <th>21</th>\n",
       "      <td>PreviousRepaymentsBeforeLoan</td>\n",
       "      <td>0.308629</td>\n",
       "      <td>590.95</td>\n",
       "      <td>0.0</td>\n",
       "    </tr>\n",
       "    <tr>\n",
       "      <th>22</th>\n",
       "      <td>PreviousEarlyRepaymentsBefoleLoan</td>\n",
       "      <td>1.243073</td>\n",
       "      <td>0.00</td>\n",
       "      <td>0.0</td>\n",
       "    </tr>\n",
       "    <tr>\n",
       "      <th>23</th>\n",
       "      <td>PreviousEarlyRepaymentsCountBeforeLoan</td>\n",
       "      <td>-1.820799</td>\n",
       "      <td>0.00</td>\n",
       "      <td>0.0</td>\n",
       "    </tr>\n",
       "    <tr>\n",
       "      <th>24</th>\n",
       "      <td>Council_house</td>\n",
       "      <td>-1.107606</td>\n",
       "      <td>0.00</td>\n",
       "      <td>0.0</td>\n",
       "    </tr>\n",
       "    <tr>\n",
       "      <th>25</th>\n",
       "      <td>Homeless</td>\n",
       "      <td>0.935519</td>\n",
       "      <td>0.00</td>\n",
       "      <td>0.0</td>\n",
       "    </tr>\n",
       "    <tr>\n",
       "      <th>26</th>\n",
       "      <td>Joint_ownership</td>\n",
       "      <td>-1.260906</td>\n",
       "      <td>0.00</td>\n",
       "      <td>0.0</td>\n",
       "    </tr>\n",
       "    <tr>\n",
       "      <th>27</th>\n",
       "      <td>Joint_tenant</td>\n",
       "      <td>-0.725581</td>\n",
       "      <td>0.00</td>\n",
       "      <td>0.0</td>\n",
       "    </tr>\n",
       "    <tr>\n",
       "      <th>28</th>\n",
       "      <td>Living_with_parents</td>\n",
       "      <td>-1.513591</td>\n",
       "      <td>0.00</td>\n",
       "      <td>0.0</td>\n",
       "    </tr>\n",
       "    <tr>\n",
       "      <th>29</th>\n",
       "      <td>Mortgage</td>\n",
       "      <td>1.197238</td>\n",
       "      <td>0.00</td>\n",
       "      <td>0.0</td>\n",
       "    </tr>\n",
       "    <tr>\n",
       "      <th>30</th>\n",
       "      <td>Other</td>\n",
       "      <td>-0.013152</td>\n",
       "      <td>0.00</td>\n",
       "      <td>0.0</td>\n",
       "    </tr>\n",
       "    <tr>\n",
       "      <th>31</th>\n",
       "      <td>Owner</td>\n",
       "      <td>1.013174</td>\n",
       "      <td>0.00</td>\n",
       "      <td>0.0</td>\n",
       "    </tr>\n",
       "    <tr>\n",
       "      <th>32</th>\n",
       "      <td>Owner_with_encumbrance</td>\n",
       "      <td>-1.132242</td>\n",
       "      <td>1.00</td>\n",
       "      <td>0.0</td>\n",
       "    </tr>\n",
       "    <tr>\n",
       "      <th>33</th>\n",
       "      <td>Tenant</td>\n",
       "      <td>0.338012</td>\n",
       "      <td>1.00</td>\n",
       "      <td>0.0</td>\n",
       "    </tr>\n",
       "    <tr>\n",
       "      <th>34</th>\n",
       "      <td>Entrepreneur</td>\n",
       "      <td>0.381177</td>\n",
       "      <td>0.00</td>\n",
       "      <td>0.0</td>\n",
       "    </tr>\n",
       "    <tr>\n",
       "      <th>35</th>\n",
       "      <td>Fully</td>\n",
       "      <td>-0.849073</td>\n",
       "      <td>0.00</td>\n",
       "      <td>0.0</td>\n",
       "    </tr>\n",
       "    <tr>\n",
       "      <th>36</th>\n",
       "      <td>Partially</td>\n",
       "      <td>0.774486</td>\n",
       "      <td>0.00</td>\n",
       "      <td>0.0</td>\n",
       "    </tr>\n",
       "    <tr>\n",
       "      <th>37</th>\n",
       "      <td>Retiree</td>\n",
       "      <td>-1.236481</td>\n",
       "      <td>1.00</td>\n",
       "      <td>0.0</td>\n",
       "    </tr>\n",
       "    <tr>\n",
       "      <th>38</th>\n",
       "      <td>Self_employed</td>\n",
       "      <td>-0.090056</td>\n",
       "      <td>0.00</td>\n",
       "      <td>0.0</td>\n",
       "    </tr>\n",
       "  </tbody>\n",
       "</table>\n",
       "</div>"
      ],
      "text/plain": [
       "                         PaidLoan_features  PaidLoan_score  PaidLoan_value  \\\n",
       "0                        NewCreditCustomer        0.494151            0.00   \n",
       "1                                   Amount        0.646571         2125.00   \n",
       "2                                 Interest       -0.221954           20.97   \n",
       "3                             LoanDuration        1.066822           60.00   \n",
       "4                                Education       -0.186178            4.00   \n",
       "5                           NrOfDependants       -0.102228            0.00   \n",
       "6        EmploymentDurationCurrentEmployer        1.123659            6.00   \n",
       "7              IncomeFromPrincipalEmployer       -1.603736            0.00   \n",
       "8                        IncomeFromPension       -0.325927          301.00   \n",
       "9                IncomeFromFamilyAllowance        0.649004            0.00   \n",
       "10                 IncomeFromSocialWelfare        1.002127           53.00   \n",
       "11                      IncomeFromLeavePay       -0.167728            0.00   \n",
       "12                  IncomeFromChildSupport       -0.576658            0.00   \n",
       "13                             IncomeOther       -0.215169            0.00   \n",
       "14                     ExistingLiabilities       -0.803048            8.00   \n",
       "15                    RefinanceLiabilities        0.635874            6.00   \n",
       "16                            DebtToIncome        0.552002           26.29   \n",
       "17                                FreeCash       -0.757303           10.92   \n",
       "18                       CreditScoreEeMini       -1.235549         1000.00   \n",
       "19             NoOfPreviousLoansBeforeLoan        1.319051            1.00   \n",
       "20         AmountOfPreviousLoansBeforeLoan        0.315379          500.00   \n",
       "21            PreviousRepaymentsBeforeLoan        0.308629          590.95   \n",
       "22       PreviousEarlyRepaymentsBefoleLoan        1.243073            0.00   \n",
       "23  PreviousEarlyRepaymentsCountBeforeLoan       -1.820799            0.00   \n",
       "24                           Council_house       -1.107606            0.00   \n",
       "25                                Homeless        0.935519            0.00   \n",
       "26                         Joint_ownership       -1.260906            0.00   \n",
       "27                            Joint_tenant       -0.725581            0.00   \n",
       "28                     Living_with_parents       -1.513591            0.00   \n",
       "29                                Mortgage        1.197238            0.00   \n",
       "30                                   Other       -0.013152            0.00   \n",
       "31                                   Owner        1.013174            0.00   \n",
       "32                  Owner_with_encumbrance       -1.132242            1.00   \n",
       "33                                  Tenant        0.338012            1.00   \n",
       "34                            Entrepreneur        0.381177            0.00   \n",
       "35                                   Fully       -0.849073            0.00   \n",
       "36                               Partially        0.774486            0.00   \n",
       "37                                 Retiree       -1.236481            1.00   \n",
       "38                           Self_employed       -0.090056            0.00   \n",
       "\n",
       "    PaidLoan_confidence  \n",
       "0                   0.0  \n",
       "1                   0.0  \n",
       "2                   0.0  \n",
       "3                   0.0  \n",
       "4                   0.0  \n",
       "5                   0.0  \n",
       "6                   0.0  \n",
       "7                   0.0  \n",
       "8                   0.0  \n",
       "9                   0.0  \n",
       "10                  0.0  \n",
       "11                  0.0  \n",
       "12                  0.0  \n",
       "13                  0.0  \n",
       "14                  0.0  \n",
       "15                  0.0  \n",
       "16                  0.0  \n",
       "17                  0.0  \n",
       "18                  0.0  \n",
       "19                  0.0  \n",
       "20                  0.0  \n",
       "21                  0.0  \n",
       "22                  0.0  \n",
       "23                  0.0  \n",
       "24                  0.0  \n",
       "25                  0.0  \n",
       "26                  0.0  \n",
       "27                  0.0  \n",
       "28                  0.0  \n",
       "29                  0.0  \n",
       "30                  0.0  \n",
       "31                  0.0  \n",
       "32                  0.0  \n",
       "33                  0.0  \n",
       "34                  0.0  \n",
       "35                  0.0  \n",
       "36                  0.0  \n",
       "37                  0.0  \n",
       "38                  0.0  "
      ]
     },
     "execution_count": 20,
     "metadata": {},
     "output_type": "execute_result"
    }
   ],
   "source": [
    "explanation.as_dataframe()"
   ]
  },
  {
   "cell_type": "code",
   "execution_count": 21,
   "metadata": {
    "pycharm": {
     "name": "#%%\n"
    }
   },
   "outputs": [
    {
     "data": {
      "image/png": "[encoded data removed]",
      "text/plain": [
       "<Figure size 1600x900 with 1 Axes>"
      ]
     },
     "metadata": {},
     "output_type": "display_data"
    }
   ],
   "source": [
    "explanation.plot('PaidLoan')"
   ]
  },
  {
   "cell_type": "code",
   "execution_count": null,
   "metadata": {
    "pycharm": {
     "name": "#%%\n"
    }
   },
   "outputs": [],
   "source": []
  }
 ],
 "metadata": {
  "kernelspec": {
   "display_name": "Python 3 (ipykernel)",
   "language": "python",
   "name": "python3"
  },
  "language_info": {
   "codemirror_mode": {
    "name": "ipython",
    "version": 3
   },
   "file_extension": ".py",
   "mimetype": "text/x-python",
   "name": "python",
   "nbconvert_exporter": "python",
   "pygments_lexer": "ipython3",
   "version": "3.9.10"
  },
  "toc": {
   "base_numbering": 1,
   "nav_menu": {},
   "number_sections": true,
   "sideBar": true,
   "skip_h1_title": false,
   "title_cell": "Table of Contents",
   "title_sidebar": "Contents",
   "toc_cell": false,
   "toc_position": {},
   "toc_section_display": true,
   "toc_window_display": false
  }
 },
 "nbformat": 4,
 "nbformat_minor": 5
}
