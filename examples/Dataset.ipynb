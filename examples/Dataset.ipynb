{
 "cells": [
  {
   "cell_type": "code",
   "execution_count": 1,
   "id": "80020676",
   "metadata": {},
   "outputs": [],
   "source": [
    "import numpy as np\n",
    "import pandas as pd\n",
    "import uuid"
   ]
  },
  {
   "cell_type": "markdown",
   "id": "3c985fd3",
   "metadata": {},
   "source": [
    "# From Pandas dataframes"
   ]
  },
  {
   "cell_type": "code",
   "execution_count": 2,
   "id": "99d80e96",
   "metadata": {},
   "outputs": [],
   "source": [
    "data = {\n",
    "        'x1': np.random.uniform(low=100, high=200, size=100),\n",
    "        'x2': np.random.uniform(low=5000, high=10000, size=100),\n",
    "        'x3': [str(uuid.uuid4()) for _ in range(100)],\n",
    "        'x4': np.random.randint(low=0, high=42, size=100),\n",
    "        'select': np.random.choice(a=[False, True], size=100)\n",
    "}\n",
    "df = pd.DataFrame(data=data)"
   ]
  },
  {
   "cell_type": "code",
   "execution_count": 3,
   "id": "b9f107c4",
   "metadata": {},
   "outputs": [
    {
     "data": {
      "text/html": [
       "<div>\n",
       "<style scoped>\n",
       "    .dataframe tbody tr th:only-of-type {\n",
       "        vertical-align: middle;\n",
       "    }\n",
       "\n",
       "    .dataframe tbody tr th {\n",
       "        vertical-align: top;\n",
       "    }\n",
       "\n",
       "    .dataframe thead th {\n",
       "        text-align: right;\n",
       "    }\n",
       "</style>\n",
       "<table border=\"1\" class=\"dataframe\">\n",
       "  <thead>\n",
       "    <tr style=\"text-align: right;\">\n",
       "      <th></th>\n",
       "      <th>x1</th>\n",
       "      <th>x2</th>\n",
       "      <th>x3</th>\n",
       "      <th>x4</th>\n",
       "      <th>select</th>\n",
       "    </tr>\n",
       "  </thead>\n",
       "  <tbody>\n",
       "    <tr>\n",
       "      <th>0</th>\n",
       "      <td>199.691719</td>\n",
       "      <td>8423.634001</td>\n",
       "      <td>aa433471-f2f4-4210-beab-2a5fde4afc93</td>\n",
       "      <td>13</td>\n",
       "      <td>True</td>\n",
       "    </tr>\n",
       "    <tr>\n",
       "      <th>1</th>\n",
       "      <td>175.015510</td>\n",
       "      <td>5144.954980</td>\n",
       "      <td>8c8cfe67-7257-4f3d-9506-f4816c4e770e</td>\n",
       "      <td>41</td>\n",
       "      <td>True</td>\n",
       "    </tr>\n",
       "    <tr>\n",
       "      <th>2</th>\n",
       "      <td>181.826085</td>\n",
       "      <td>8659.891995</td>\n",
       "      <td>7bd8c06d-1064-4f13-b372-c65af8e30149</td>\n",
       "      <td>41</td>\n",
       "      <td>True</td>\n",
       "    </tr>\n",
       "    <tr>\n",
       "      <th>3</th>\n",
       "      <td>166.700817</td>\n",
       "      <td>7487.153923</td>\n",
       "      <td>2b0370a4-b41e-4b16-9c1f-a65f0a65464c</td>\n",
       "      <td>3</td>\n",
       "      <td>False</td>\n",
       "    </tr>\n",
       "    <tr>\n",
       "      <th>4</th>\n",
       "      <td>157.718382</td>\n",
       "      <td>5539.941095</td>\n",
       "      <td>6c245358-d261-4e15-8517-c3f09ecdac66</td>\n",
       "      <td>24</td>\n",
       "      <td>True</td>\n",
       "    </tr>\n",
       "  </tbody>\n",
       "</table>\n",
       "</div>"
      ],
      "text/plain": [
       "           x1           x2                                    x3  x4  select\n",
       "0  199.691719  8423.634001  aa433471-f2f4-4210-beab-2a5fde4afc93  13    True\n",
       "1  175.015510  5144.954980  8c8cfe67-7257-4f3d-9506-f4816c4e770e  41    True\n",
       "2  181.826085  8659.891995  7bd8c06d-1064-4f13-b372-c65af8e30149  41    True\n",
       "3  166.700817  7487.153923  2b0370a4-b41e-4b16-9c1f-a65f0a65464c   3   False\n",
       "4  157.718382  5539.941095  6c245358-d261-4e15-8517-c3f09ecdac66  24    True"
      ]
     },
     "execution_count": 3,
     "metadata": {},
     "output_type": "execute_result"
    }
   ],
   "source": [
    "df.head()"
   ]
  },
  {
   "cell_type": "markdown",
   "id": "450a269f",
   "metadata": {},
   "source": [
    "If no columns are specified as outputs, but default the right-most column (in this case, `select`) will be considered the output."
   ]
  },
  {
   "cell_type": "code",
   "execution_count": 4,
   "id": "65ec88ba",
   "metadata": {},
   "outputs": [],
   "source": [
    "from trustyai.model import Dataset\n",
    "\n",
    "ds = Dataset.from_df(df)"
   ]
  },
  {
   "cell_type": "code",
   "execution_count": 5,
   "id": "c8545cac",
   "metadata": {},
   "outputs": [
    {
     "data": {
      "text/plain": [
       "100"
      ]
     },
     "execution_count": 5,
     "metadata": {},
     "output_type": "execute_result"
    }
   ],
   "source": [
    "len(ds.inputs)"
   ]
  },
  {
   "cell_type": "code",
   "execution_count": 6,
   "id": "20eecd50",
   "metadata": {},
   "outputs": [
    {
     "name": "stdout",
     "output_type": "stream",
     "text": [
      "[Feature{name='x1', type=number, value=199.69171905389746}, Feature{name='x2', type=number, value=8423.634000506001}, Feature{name='x3', type=categorical, value=aa433471-f2f4-4210-beab-2a5fde4afc93}, Feature{name='x4', type=number, value=13}]\n"
     ]
    }
   ],
   "source": [
    "print(ds.inputs[0].features)"
   ]
  },
  {
   "cell_type": "code",
   "execution_count": 7,
   "id": "cb3fe41a",
   "metadata": {},
   "outputs": [
    {
     "data": {
      "text/plain": [
       "100"
      ]
     },
     "execution_count": 7,
     "metadata": {},
     "output_type": "execute_result"
    }
   ],
   "source": [
    "len(ds.outputs)"
   ]
  },
  {
   "cell_type": "code",
   "execution_count": 8,
   "id": "82161a70",
   "metadata": {},
   "outputs": [
    {
     "name": "stdout",
     "output_type": "stream",
     "text": [
      "[Output{value=true, type=boolean, score=1.0, name='select'}]\n"
     ]
    }
   ],
   "source": [
    "print(ds.outputs[0].outputs)"
   ]
  },
  {
   "cell_type": "markdown",
   "id": "1e1b9fb8",
   "metadata": {},
   "source": [
    "We can specify the outputs explicitly, though:"
   ]
  },
  {
   "cell_type": "code",
   "execution_count": 9,
   "id": "8f2e9d07",
   "metadata": {},
   "outputs": [],
   "source": [
    "ds = Dataset.from_df(df, outputs=['x1', 'x4'])"
   ]
  },
  {
   "cell_type": "code",
   "execution_count": 10,
   "id": "24e7ca62",
   "metadata": {},
   "outputs": [
    {
     "name": "stdout",
     "output_type": "stream",
     "text": [
      "[Feature{name='x2', type=number, value=8423.634000506001}, Feature{name='x3', type=categorical, value=aa433471-f2f4-4210-beab-2a5fde4afc93}, Feature{name='select', type=boolean, value=true}]\n"
     ]
    }
   ],
   "source": [
    "print(ds.inputs[0].features)"
   ]
  },
  {
   "cell_type": "code",
   "execution_count": 11,
   "id": "54f7c8d4",
   "metadata": {},
   "outputs": [
    {
     "name": "stdout",
     "output_type": "stream",
     "text": [
      "[Output{value=199.69171905389746, type=number, score=1.0, name='x1'}, Output{value=13.0, type=number, score=1.0, name='x4'}]\n"
     ]
    }
   ],
   "source": [
    "print(ds.outputs[0].outputs)"
   ]
  },
  {
   "cell_type": "markdown",
   "id": "e788bd5d",
   "metadata": {},
   "source": [
    "# From NumPy arrays"
   ]
  },
  {
   "cell_type": "code",
   "execution_count": 12,
   "id": "58a7bfef",
   "metadata": {},
   "outputs": [],
   "source": [
    "a = np.random.rand(100, 5)"
   ]
  },
  {
   "cell_type": "code",
   "execution_count": 13,
   "id": "9ad91729",
   "metadata": {},
   "outputs": [
    {
     "data": {
      "text/plain": [
       "array([[0.68468018, 0.60703705, 0.7619673 , 0.56649717, 0.72130264],\n",
       "       [0.89003104, 0.84624854, 0.01211185, 0.271607  , 0.58048523],\n",
       "       [0.32379929, 0.33718089, 0.41112117, 0.82583901, 0.65967431],\n",
       "       [0.48934436, 0.28016091, 0.21326921, 0.66476719, 0.09109155],\n",
       "       [0.02946721, 0.8990184 , 0.39921803, 0.7282812 , 0.18430694],\n",
       "       [0.04172949, 0.39444183, 0.04355018, 0.88119431, 0.25622821],\n",
       "       [0.76606467, 0.60040384, 0.07779518, 0.67480852, 0.7191328 ],\n",
       "       [0.29319575, 0.84587892, 0.43774675, 0.23388257, 0.92403114],\n",
       "       [0.96647025, 0.35831978, 0.8780017 , 0.18066205, 0.85001627],\n",
       "       [0.93969352, 0.53751407, 0.35651024, 0.52651873, 0.53328941]])"
      ]
     },
     "execution_count": 13,
     "metadata": {},
     "output_type": "execute_result"
    }
   ],
   "source": [
    "a[0:10, :]"
   ]
  },
  {
   "cell_type": "code",
   "execution_count": 14,
   "id": "4e95a400",
   "metadata": {},
   "outputs": [],
   "source": [
    "ds = Dataset.from_numpy(a)"
   ]
  },
  {
   "cell_type": "code",
   "execution_count": 15,
   "id": "86c76ca3",
   "metadata": {},
   "outputs": [
    {
     "data": {
      "text/plain": [
       "100"
      ]
     },
     "execution_count": 15,
     "metadata": {},
     "output_type": "execute_result"
    }
   ],
   "source": [
    "len(ds.inputs)"
   ]
  },
  {
   "cell_type": "markdown",
   "id": "ea8bd9bd",
   "metadata": {},
   "source": [
    "Input and output features will be named automatically. As with dataframes, if no output is specified, the right-most column will be selected:"
   ]
  },
  {
   "cell_type": "code",
   "execution_count": 16,
   "id": "95b73f29",
   "metadata": {},
   "outputs": [
    {
     "name": "stdout",
     "output_type": "stream",
     "text": [
      "[Feature{name='input-0', type=number, value=0.6846801847772033}, Feature{name='input-1', type=number, value=0.6070370508287989}, Feature{name='input-2', type=number, value=0.7619673021775413}, Feature{name='input-3', type=number, value=0.5664971655888972}]\n"
     ]
    }
   ],
   "source": [
    "print(ds.inputs[0].features)"
   ]
  },
  {
   "cell_type": "code",
   "execution_count": 17,
   "id": "bc424a9a",
   "metadata": {},
   "outputs": [
    {
     "name": "stdout",
     "output_type": "stream",
     "text": [
      "[Output{value=0.7213026353546987, type=number, score=1.0, name='output-0'}]\n"
     ]
    }
   ],
   "source": [
    "print(ds.outputs[0].outputs)"
   ]
  },
  {
   "cell_type": "markdown",
   "id": "a2063258",
   "metadata": {},
   "source": [
    "To specify the output columns, with NumPy arrays, we use the column indices:"
   ]
  },
  {
   "cell_type": "code",
   "execution_count": 18,
   "id": "d30ef347",
   "metadata": {},
   "outputs": [],
   "source": [
    "ds = Dataset.from_numpy(a, outputs=[0, 2])"
   ]
  },
  {
   "cell_type": "code",
   "execution_count": 19,
   "id": "f01211f7",
   "metadata": {},
   "outputs": [
    {
     "name": "stdout",
     "output_type": "stream",
     "text": [
      "[Feature{name='input-0', type=number, value=0.6070370508287989}, Feature{name='input-1', type=number, value=0.5664971655888972}, Feature{name='input-2', type=number, value=0.7213026353546987}]\n"
     ]
    }
   ],
   "source": [
    "print(ds.inputs[0].features)"
   ]
  },
  {
   "cell_type": "code",
   "execution_count": 20,
   "id": "0494d2ac",
   "metadata": {},
   "outputs": [
    {
     "name": "stdout",
     "output_type": "stream",
     "text": [
      "[Output{value=0.6846801847772033, type=number, score=1.0, name='output-0'}, Output{value=0.7619673021775413, type=number, score=1.0, name='output-1'}]\n"
     ]
    }
   ],
   "source": [
    "print(ds.outputs[0].outputs)"
   ]
  }
 ],
 "metadata": {
  "kernelspec": {
   "display_name": "Python 3 (ipykernel)",
   "language": "python",
   "name": "python3"
  },
  "language_info": {
   "codemirror_mode": {
    "name": "ipython",
    "version": 3
   },
   "file_extension": ".py",
   "mimetype": "text/x-python",
   "name": "python",
   "nbconvert_exporter": "python",
   "pygments_lexer": "ipython3",
   "version": "3.11.7"
  },
  "toc": {
   "base_numbering": 1,
   "nav_menu": {},
   "number_sections": true,
   "sideBar": true,
   "skip_h1_title": false,
   "title_cell": "Table of Contents",
   "title_sidebar": "Contents",
   "toc_cell": false,
   "toc_position": {},
   "toc_section_display": true,
   "toc_window_display": false
  }
 },
 "nbformat": 4,
 "nbformat_minor": 5
}
