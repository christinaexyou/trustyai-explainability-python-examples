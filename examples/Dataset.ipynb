{
 "cells": [
  {
   "cell_type": "code",
   "execution_count": 1,
   "id": "80020676",
   "metadata": {},
   "outputs": [],
   "source": [
    "import numpy as np\n",
    "import pandas as pd\n",
    "import uuid"
   ]
  },
  {
   "cell_type": "markdown",
   "id": "3c985fd3",
   "metadata": {},
   "source": [
    "# From Pandas dataframes"
   ]
  },
  {
   "cell_type": "code",
   "execution_count": 2,
   "id": "99d80e96",
   "metadata": {},
   "outputs": [],
   "source": [
    "data = {\n",
    "        'x1': np.random.uniform(low=100, high=200, size=100),\n",
    "        'x2': np.random.uniform(low=5000, high=10000, size=100),\n",
    "        'x3': [str(uuid.uuid4()) for _ in range(100)],\n",
    "        'x4': np.random.randint(low=0, high=42, size=100),\n",
    "        'select': np.random.choice(a=[False, True], size=100)\n",
    "}\n",
    "df = pd.DataFrame(data=data)"
   ]
  },
  {
   "cell_type": "code",
   "execution_count": 3,
   "id": "b9f107c4",
   "metadata": {},
   "outputs": [
    {
     "data": {
      "text/html": [
       "<div>\n",
       "<style scoped>\n",
       "    .dataframe tbody tr th:only-of-type {\n",
       "        vertical-align: middle;\n",
       "    }\n",
       "\n",
       "    .dataframe tbody tr th {\n",
       "        vertical-align: top;\n",
       "    }\n",
       "\n",
       "    .dataframe thead th {\n",
       "        text-align: right;\n",
       "    }\n",
       "</style>\n",
       "<table border=\"1\" class=\"dataframe\">\n",
       "  <thead>\n",
       "    <tr style=\"text-align: right;\">\n",
       "      <th></th>\n",
       "      <th>x1</th>\n",
       "      <th>x2</th>\n",
       "      <th>x3</th>\n",
       "      <th>x4</th>\n",
       "      <th>select</th>\n",
       "    </tr>\n",
       "  </thead>\n",
       "  <tbody>\n",
       "    <tr>\n",
       "      <th>0</th>\n",
       "      <td>110.775961</td>\n",
       "      <td>8897.843314</td>\n",
       "      <td>769f28d7-df70-4907-8f49-f8a5efeadbb2</td>\n",
       "      <td>17</td>\n",
       "      <td>False</td>\n",
       "    </tr>\n",
       "    <tr>\n",
       "      <th>1</th>\n",
       "      <td>134.706970</td>\n",
       "      <td>5968.935158</td>\n",
       "      <td>4d22cc7d-db38-4e25-8be4-f18394fb3705</td>\n",
       "      <td>33</td>\n",
       "      <td>False</td>\n",
       "    </tr>\n",
       "    <tr>\n",
       "      <th>2</th>\n",
       "      <td>124.157443</td>\n",
       "      <td>6880.264047</td>\n",
       "      <td>8de2e39b-406c-48ce-a6cc-169ee8f73ef0</td>\n",
       "      <td>39</td>\n",
       "      <td>True</td>\n",
       "    </tr>\n",
       "    <tr>\n",
       "      <th>3</th>\n",
       "      <td>170.961902</td>\n",
       "      <td>8536.049163</td>\n",
       "      <td>5727068c-35c9-4cde-83f0-9b5f522373de</td>\n",
       "      <td>39</td>\n",
       "      <td>False</td>\n",
       "    </tr>\n",
       "    <tr>\n",
       "      <th>4</th>\n",
       "      <td>172.601273</td>\n",
       "      <td>7478.442753</td>\n",
       "      <td>76c9587b-e68f-45e8-a39d-ed9fab2b5609</td>\n",
       "      <td>11</td>\n",
       "      <td>False</td>\n",
       "    </tr>\n",
       "  </tbody>\n",
       "</table>\n",
       "</div>"
      ],
      "text/plain": [
       "           x1           x2                                    x3  x4  select\n",
       "0  110.775961  8897.843314  769f28d7-df70-4907-8f49-f8a5efeadbb2  17   False\n",
       "1  134.706970  5968.935158  4d22cc7d-db38-4e25-8be4-f18394fb3705  33   False\n",
       "2  124.157443  6880.264047  8de2e39b-406c-48ce-a6cc-169ee8f73ef0  39    True\n",
       "3  170.961902  8536.049163  5727068c-35c9-4cde-83f0-9b5f522373de  39   False\n",
       "4  172.601273  7478.442753  76c9587b-e68f-45e8-a39d-ed9fab2b5609  11   False"
      ]
     },
     "execution_count": 3,
     "metadata": {},
     "output_type": "execute_result"
    }
   ],
   "source": [
    "df.head()"
   ]
  },
  {
   "cell_type": "markdown",
   "id": "450a269f",
   "metadata": {},
   "source": [
    "If no columns are specified as outputs, but default the right-most column (in this case, `select`) will be considered the output."
   ]
  },
  {
   "cell_type": "code",
   "execution_count": 4,
   "id": "65ec88ba",
   "metadata": {},
   "outputs": [],
   "source": [
    "from trustyai.model import Dataset\n",
    "\n",
    "ds = Dataset.from_df(df)"
   ]
  },
  {
   "cell_type": "code",
   "execution_count": 5,
   "id": "c8545cac",
   "metadata": {},
   "outputs": [
    {
     "data": {
      "text/plain": [
       "100"
      ]
     },
     "execution_count": 5,
     "metadata": {},
     "output_type": "execute_result"
    }
   ],
   "source": [
    "len(ds.inputs)"
   ]
  },
  {
   "cell_type": "code",
   "execution_count": 6,
   "id": "20eecd50",
   "metadata": {},
   "outputs": [
    {
     "name": "stdout",
     "output_type": "stream",
     "text": [
      "[Feature{name='x1', type=number, value=110.77596090318106}, Feature{name='x2', type=number, value=8897.843313935722}, Feature{name='x3', type=categorical, value=769f28d7-df70-4907-8f49-f8a5efeadbb2}, Feature{name='x4', type=number, value=17}]\n"
     ]
    }
   ],
   "source": [
    "print(ds.inputs[0].features)"
   ]
  },
  {
   "cell_type": "code",
   "execution_count": 7,
   "id": "cb3fe41a",
   "metadata": {},
   "outputs": [
    {
     "data": {
      "text/plain": [
       "100"
      ]
     },
     "execution_count": 7,
     "metadata": {},
     "output_type": "execute_result"
    }
   ],
   "source": [
    "len(ds.outputs)"
   ]
  },
  {
   "cell_type": "code",
   "execution_count": 8,
   "id": "82161a70",
   "metadata": {},
   "outputs": [
    {
     "name": "stdout",
     "output_type": "stream",
     "text": [
      "[Output{value=false, type=boolean, score=1.0, name='select'}]\n"
     ]
    }
   ],
   "source": [
    "print(ds.outputs[0].outputs)"
   ]
  },
  {
   "cell_type": "markdown",
   "id": "1e1b9fb8",
   "metadata": {},
   "source": [
    "We can specify the outputs explicitly, though:"
   ]
  },
  {
   "cell_type": "code",
   "execution_count": 9,
   "id": "8f2e9d07",
   "metadata": {},
   "outputs": [],
   "source": [
    "ds = Dataset.from_df(df, outputs=['x1', 'x4'])"
   ]
  },
  {
   "cell_type": "code",
   "execution_count": 10,
   "id": "24e7ca62",
   "metadata": {},
   "outputs": [
    {
     "name": "stdout",
     "output_type": "stream",
     "text": [
      "[Feature{name='x2', type=number, value=8897.843313935722}, Feature{name='x3', type=categorical, value=769f28d7-df70-4907-8f49-f8a5efeadbb2}, Feature{name='select', type=boolean, value=false}]\n"
     ]
    }
   ],
   "source": [
    "print(ds.inputs[0].features)"
   ]
  },
  {
   "cell_type": "code",
   "execution_count": 11,
   "id": "54f7c8d4",
   "metadata": {},
   "outputs": [
    {
     "name": "stdout",
     "output_type": "stream",
     "text": [
      "[Output{value=110.77596090318106, type=number, score=1.0, name='x1'}, Output{value=17.0, type=number, score=1.0, name='x4'}]\n"
     ]
    }
   ],
   "source": [
    "print(ds.outputs[0].outputs)"
   ]
  },
  {
   "cell_type": "markdown",
   "id": "e788bd5d",
   "metadata": {},
   "source": [
    "# From NumPy arrays"
   ]
  },
  {
   "cell_type": "code",
   "execution_count": 12,
   "id": "58a7bfef",
   "metadata": {},
   "outputs": [],
   "source": [
    "a = np.random.rand(100, 5)"
   ]
  },
  {
   "cell_type": "code",
   "execution_count": 13,
   "id": "9ad91729",
   "metadata": {},
   "outputs": [
    {
     "data": {
      "text/plain": [
       "array([[0.4941837 , 0.54138924, 0.79744718, 0.75966474, 0.6663965 ],\n",
       "       [0.61321356, 0.93126828, 0.33589273, 0.41798983, 0.77295471],\n",
       "       [0.0741324 , 0.22773897, 0.8609951 , 0.14798847, 0.29693842],\n",
       "       [0.51173195, 0.29453894, 0.06253411, 0.39614618, 0.11552075],\n",
       "       [0.46702147, 0.11739192, 0.2025332 , 0.19551742, 0.86863743],\n",
       "       [0.17245352, 0.17041101, 0.57627698, 0.68669061, 0.37271922],\n",
       "       [0.33980101, 0.45839755, 0.32261154, 0.9704679 , 0.13569625],\n",
       "       [0.19868834, 0.30223221, 0.40911422, 0.53045714, 0.14810708],\n",
       "       [0.85424792, 0.53920094, 0.17639279, 0.0272658 , 0.59151213],\n",
       "       [0.94555969, 0.67387324, 0.06552553, 0.02347923, 0.3843669 ]])"
      ]
     },
     "execution_count": 13,
     "metadata": {},
     "output_type": "execute_result"
    }
   ],
   "source": [
    "a[0:10, :]"
   ]
  },
  {
   "cell_type": "code",
   "execution_count": 14,
   "id": "4e95a400",
   "metadata": {},
   "outputs": [],
   "source": [
    "ds = Dataset.from_numpy(a)"
   ]
  },
  {
   "cell_type": "code",
   "execution_count": 15,
   "id": "86c76ca3",
   "metadata": {},
   "outputs": [
    {
     "data": {
      "text/plain": [
       "100"
      ]
     },
     "execution_count": 15,
     "metadata": {},
     "output_type": "execute_result"
    }
   ],
   "source": [
    "len(ds.inputs)"
   ]
  },
  {
   "cell_type": "markdown",
   "id": "ea8bd9bd",
   "metadata": {},
   "source": [
    "Input and output features will be named automatically. As with dataframes, if no output is specified, the right-most column will be selected:"
   ]
  },
  {
   "cell_type": "code",
   "execution_count": 16,
   "id": "95b73f29",
   "metadata": {},
   "outputs": [
    {
     "name": "stdout",
     "output_type": "stream",
     "text": [
      "[Feature{name='input-0', type=number, value=0.49418369920147376}, Feature{name='input-1', type=number, value=0.541389237195627}, Feature{name='input-2', type=number, value=0.79744718322189}, Feature{name='input-3', type=number, value=0.7596647445704917}]\n"
     ]
    }
   ],
   "source": [
    "print(ds.inputs[0].features)"
   ]
  },
  {
   "cell_type": "code",
   "execution_count": 17,
   "id": "bc424a9a",
   "metadata": {},
   "outputs": [
    {
     "name": "stdout",
     "output_type": "stream",
     "text": [
      "[Output{value=0.6663965038979389, type=number, score=1.0, name='output-0'}]\n"
     ]
    }
   ],
   "source": [
    "print(ds.outputs[0].outputs)"
   ]
  },
  {
   "cell_type": "markdown",
   "id": "a2063258",
   "metadata": {},
   "source": [
    "To specify the output columns, with NumPy arrays, we use the column indices:"
   ]
  },
  {
   "cell_type": "code",
   "execution_count": 18,
   "id": "d30ef347",
   "metadata": {},
   "outputs": [],
   "source": [
    "ds = Dataset.from_numpy(a, outputs=[0, 2])"
   ]
  },
  {
   "cell_type": "code",
   "execution_count": 19,
   "id": "f01211f7",
   "metadata": {},
   "outputs": [
    {
     "name": "stdout",
     "output_type": "stream",
     "text": [
      "[Feature{name='input-0', type=number, value=0.541389237195627}, Feature{name='input-1', type=number, value=0.7596647445704917}, Feature{name='input-2', type=number, value=0.6663965038979389}]\n"
     ]
    }
   ],
   "source": [
    "print(ds.inputs[0].features)"
   ]
  },
  {
   "cell_type": "code",
   "execution_count": 20,
   "id": "0494d2ac",
   "metadata": {},
   "outputs": [
    {
     "name": "stdout",
     "output_type": "stream",
     "text": [
      "[Output{value=0.49418369920147376, type=number, score=1.0, name='output-0'}, Output{value=0.79744718322189, type=number, score=1.0, name='output-1'}]\n"
     ]
    }
   ],
   "source": [
    "print(ds.outputs[0].outputs)"
   ]
  },
  {
   "cell_type": "code",
   "execution_count": null,
   "id": "169523a6",
   "metadata": {},
   "outputs": [],
   "source": []
  }
 ],
 "metadata": {
  "kernelspec": {
   "display_name": "Python 3",
   "language": "python",
   "name": "python3"
  },
  "language_info": {
   "codemirror_mode": {
    "name": "ipython",
    "version": 3
   },
   "file_extension": ".py",
   "mimetype": "text/x-python",
   "name": "python",
   "nbconvert_exporter": "python",
   "pygments_lexer": "ipython3",
   "version": "3.9.0"
  },
  "toc": {
   "base_numbering": 1,
   "nav_menu": {},
   "number_sections": true,
   "sideBar": true,
   "skip_h1_title": false,
   "title_cell": "Table of Contents",
   "title_sidebar": "Contents",
   "toc_cell": false,
   "toc_position": {},
   "toc_section_display": true,
   "toc_window_display": false
  }
 },
 "nbformat": 4,
 "nbformat_minor": 5
}
